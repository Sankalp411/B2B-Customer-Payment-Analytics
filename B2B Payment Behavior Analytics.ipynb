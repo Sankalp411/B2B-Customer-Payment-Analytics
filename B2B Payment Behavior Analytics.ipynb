{
 "cells": [
  {
   "cell_type": "markdown",
   "id": "519180e3",
   "metadata": {},
   "source": [
    "#### Following the CRISP-DM framework to address the B2B Customer Analytics Problem"
   ]
  },
  {
   "cell_type": "markdown",
   "id": "59b77a0e",
   "metadata": {},
   "source": [
    "# Business Understanding"
   ]
  },
  {
   "cell_type": "raw",
   "id": "5b85dd29",
   "metadata": {},
   "source": [
    "#1. Conduct exploratory data analysis to extract actionable insights.\n",
    "#2. Segregate customers based on payment patterns using historical data.\n",
    "#3. Develop a classification model predicting late payments at the invoice level.\n",
    "#4. Apply the model on the open invoice data to show its real-time application, aggregating probabilities at a customer level.\n",
    "#5. Visualize model outputs, customer segmentation, and importance of features.\n",
    "#6. Identify customers requiring precautionary measures in advance."
   ]
  },
  {
   "cell_type": "raw",
   "id": "e960a325",
   "metadata": {},
   "source": [
    "DATA DICTIONARY RECEIVED PAYMENTS DATA\n",
    "\n",
    "\n",
    "RECEIPT_METHOD\tIn which method payments have been made\n",
    "CUSTOMER_NAME\tName of the customer/vendor\n",
    "CUSTOMER_NUMBER\tCustomer's unique identity number\n",
    "RECEIPT_DOC_NO\tReference number of the payment receipt\n",
    "RECEIPT_DATE\tThe date in which the payment has been made\n",
    "CLASS\tAs the payment against these invoices have already been received so Transaction Class as PMT (short for Payment) assigned\n",
    "CURRENCY_CODE\tCurrency used for the payment\n",
    "Local Amount\tInvoice value in local currency\n",
    "USD Amount\tInvoice Value converted to USD\n",
    "INVOICE_ALLOCATED\tInvoice number that has been allocated to a particular vendor\n",
    "INVOICE_CREATION_DATE\tThe date on which the invoice was created\n",
    "DUE_DATE\tThe date by which the payment was to be made\n",
    "PAYMENT_TERM\tDays given to the vendor/customer for making the payments\n",
    "INVOICE_CLASS\tThree types of Invoice classes - Credit Memo or Credit Note (CM), Debit Memo or Debit Note (DM) or Invoice (INV)\n",
    "INVOICE_CURRENCY_CODE\tCurrency code as per the invoice generated\n",
    "INVOICE_TYPE\tInvoice created for physical goods or services (non-goods)"
   ]
  },
  {
   "cell_type": "markdown",
   "id": "a14f3cec",
   "metadata": {},
   "source": [
    "# Data understanding & Preparation"
   ]
  },
  {
   "cell_type": "markdown",
   "id": "402c6cb0",
   "metadata": {},
   "source": [
    "### Data Collection, Cleaning & Organization"
   ]
  },
  {
   "cell_type": "code",
   "execution_count": 444,
   "id": "ffc3b47f",
   "metadata": {},
   "outputs": [],
   "source": [
    "#Importing necessary Libraries\n",
    "import pandas as pd\n",
    "import numpy as np\n",
    "import matplotlib.pyplot as plt\n",
    "import seaborn as sns\n",
    "import warnings\n",
    "warnings.filterwarnings('ignore')\n"
   ]
  },
  {
   "cell_type": "markdown",
   "id": "97080381",
   "metadata": {},
   "source": [
    "### Data Preparation"
   ]
  },
  {
   "cell_type": "raw",
   "id": "2ed1c937",
   "metadata": {},
   "source": [
    "Received Payment Data:\n",
    "\n",
    "Exclude observations where the invoice value is less than 0.\n",
    "Handle any data quality issues in both datasets.\n",
    "Derive the target variable indicating whether the payment against an invoice was made on time or late based on the receipt date and due date.\n",
    "Engineer features like payment term (convert to numerical), customer-level attributes (via customer segmentation), and other relevant features for the model."
   ]
  },
  {
   "cell_type": "code",
   "execution_count": 445,
   "id": "5fa87e9e",
   "metadata": {},
   "outputs": [],
   "source": [
    "# Load received payments data\n",
    "received_payments = pd.read_csv(r'C:\\Users\\sanka\\Downloads\\MS in Data Science Folder\\Domain Case Study - Retail & B2B e-commerce\\Received_Payments_Data.csv')"
   ]
  },
  {
   "cell_type": "code",
   "execution_count": 446,
   "id": "0b77d206",
   "metadata": {},
   "outputs": [
    {
     "name": "stdout",
     "output_type": "stream",
     "text": [
      "<class 'pandas.core.frame.DataFrame'>\n",
      "RangeIndex: 93937 entries, 0 to 93936\n",
      "Data columns (total 16 columns):\n",
      " #   Column                 Non-Null Count  Dtype  \n",
      "---  ------                 --------------  -----  \n",
      " 0   RECEIPT_METHOD         93937 non-null  object \n",
      " 1   CUSTOMER_NAME          93937 non-null  object \n",
      " 2   CUSTOMER_NUMBER        93937 non-null  int64  \n",
      " 3   RECEIPT_DOC_NO         93908 non-null  float64\n",
      " 4   RECEIPT_DATE           93937 non-null  object \n",
      " 5   CLASS                  93937 non-null  object \n",
      " 6   CURRENCY_CODE          93937 non-null  object \n",
      " 7   Local Amount           93937 non-null  float64\n",
      " 8   USD Amount             93937 non-null  float64\n",
      " 9   INVOICE_ALLOCATED      93937 non-null  object \n",
      " 10  INVOICE_CREATION_DATE  93937 non-null  object \n",
      " 11  DUE_DATE               93937 non-null  object \n",
      " 12  PAYMENT_TERM           93937 non-null  object \n",
      " 13  INVOICE_CLASS          93937 non-null  object \n",
      " 14  INVOICE_CURRENCY_CODE  93937 non-null  object \n",
      " 15  INVOICE_TYPE           93937 non-null  object \n",
      "dtypes: float64(3), int64(1), object(12)\n",
      "memory usage: 11.5+ MB\n"
     ]
    }
   ],
   "source": [
    "# Display the first few rows to understand the data structure\n",
    "received_payments.info()"
   ]
  },
  {
   "cell_type": "code",
   "execution_count": 447,
   "id": "66170bdf",
   "metadata": {},
   "outputs": [
    {
     "data": {
      "text/html": [
       "<div>\n",
       "<style scoped>\n",
       "    .dataframe tbody tr th:only-of-type {\n",
       "        vertical-align: middle;\n",
       "    }\n",
       "\n",
       "    .dataframe tbody tr th {\n",
       "        vertical-align: top;\n",
       "    }\n",
       "\n",
       "    .dataframe thead th {\n",
       "        text-align: right;\n",
       "    }\n",
       "</style>\n",
       "<table border=\"1\" class=\"dataframe\">\n",
       "  <thead>\n",
       "    <tr style=\"text-align: right;\">\n",
       "      <th></th>\n",
       "      <th>CUSTOMER_NUMBER</th>\n",
       "      <th>RECEIPT_DOC_NO</th>\n",
       "      <th>Local Amount</th>\n",
       "      <th>USD Amount</th>\n",
       "    </tr>\n",
       "  </thead>\n",
       "  <tbody>\n",
       "    <tr>\n",
       "      <th>count</th>\n",
       "      <td>93937.000000</td>\n",
       "      <td>9.390800e+04</td>\n",
       "      <td>9.393700e+04</td>\n",
       "      <td>9.393700e+04</td>\n",
       "    </tr>\n",
       "    <tr>\n",
       "      <th>mean</th>\n",
       "      <td>12753.874033</td>\n",
       "      <td>1.583908e+11</td>\n",
       "      <td>1.066470e+06</td>\n",
       "      <td>5.312013e+05</td>\n",
       "    </tr>\n",
       "    <tr>\n",
       "      <th>std</th>\n",
       "      <td>14274.170829</td>\n",
       "      <td>3.885359e+10</td>\n",
       "      <td>1.546901e+06</td>\n",
       "      <td>9.508693e+05</td>\n",
       "    </tr>\n",
       "    <tr>\n",
       "      <th>min</th>\n",
       "      <td>1044.000000</td>\n",
       "      <td>1.421000e+10</td>\n",
       "      <td>0.000000e+00</td>\n",
       "      <td>0.000000e+00</td>\n",
       "    </tr>\n",
       "    <tr>\n",
       "      <th>25%</th>\n",
       "      <td>1888.000000</td>\n",
       "      <td>1.470000e+11</td>\n",
       "      <td>8.198039e+04</td>\n",
       "      <td>3.766298e+04</td>\n",
       "    </tr>\n",
       "    <tr>\n",
       "      <th>50%</th>\n",
       "      <td>4003.000000</td>\n",
       "      <td>1.510000e+11</td>\n",
       "      <td>4.053438e+05</td>\n",
       "      <td>1.810010e+05</td>\n",
       "    </tr>\n",
       "    <tr>\n",
       "      <th>75%</th>\n",
       "      <td>20884.000000</td>\n",
       "      <td>1.690000e+11</td>\n",
       "      <td>1.425606e+06</td>\n",
       "      <td>5.996137e+05</td>\n",
       "    </tr>\n",
       "    <tr>\n",
       "      <th>max</th>\n",
       "      <td>52940.000000</td>\n",
       "      <td>2.970000e+11</td>\n",
       "      <td>1.084983e+07</td>\n",
       "      <td>1.084983e+07</td>\n",
       "    </tr>\n",
       "  </tbody>\n",
       "</table>\n",
       "</div>"
      ],
      "text/plain": [
       "       CUSTOMER_NUMBER  RECEIPT_DOC_NO  Local Amount    USD Amount\n",
       "count     93937.000000    9.390800e+04  9.393700e+04  9.393700e+04\n",
       "mean      12753.874033    1.583908e+11  1.066470e+06  5.312013e+05\n",
       "std       14274.170829    3.885359e+10  1.546901e+06  9.508693e+05\n",
       "min        1044.000000    1.421000e+10  0.000000e+00  0.000000e+00\n",
       "25%        1888.000000    1.470000e+11  8.198039e+04  3.766298e+04\n",
       "50%        4003.000000    1.510000e+11  4.053438e+05  1.810010e+05\n",
       "75%       20884.000000    1.690000e+11  1.425606e+06  5.996137e+05\n",
       "max       52940.000000    2.970000e+11  1.084983e+07  1.084983e+07"
      ]
     },
     "execution_count": 447,
     "metadata": {},
     "output_type": "execute_result"
    }
   ],
   "source": [
    "# Summary statistics\n",
    "received_payments.describe()"
   ]
  },
  {
   "cell_type": "code",
   "execution_count": 448,
   "id": "eef805ea",
   "metadata": {},
   "outputs": [
    {
     "data": {
      "text/plain": [
       "RECEIPT_METHOD            0\n",
       "CUSTOMER_NAME             0\n",
       "CUSTOMER_NUMBER           0\n",
       "RECEIPT_DOC_NO           29\n",
       "RECEIPT_DATE              0\n",
       "CLASS                     0\n",
       "CURRENCY_CODE             0\n",
       "Local Amount              0\n",
       "USD Amount                0\n",
       "INVOICE_ALLOCATED         0\n",
       "INVOICE_CREATION_DATE     0\n",
       "DUE_DATE                  0\n",
       "PAYMENT_TERM              0\n",
       "INVOICE_CLASS             0\n",
       "INVOICE_CURRENCY_CODE     0\n",
       "INVOICE_TYPE              0\n",
       "dtype: int64"
      ]
     },
     "execution_count": 448,
     "metadata": {},
     "output_type": "execute_result"
    }
   ],
   "source": [
    "# Check for missing values\n",
    "received_payments.isnull().sum()"
   ]
  },
  {
   "cell_type": "code",
   "execution_count": 449,
   "id": "dee53e5f",
   "metadata": {},
   "outputs": [],
   "source": [
    "# Remove observations where invoice value is less than 0\n",
    "received_payments = received_payments[received_payments['USD Amount'] >= 0]"
   ]
  },
  {
   "cell_type": "code",
   "execution_count": 450,
   "id": "64fe44f6",
   "metadata": {},
   "outputs": [
    {
     "data": {
      "text/plain": [
       "(93937, 16)"
      ]
     },
     "execution_count": 450,
     "metadata": {},
     "output_type": "execute_result"
    }
   ],
   "source": [
    "#Understanding the shape of the data\n",
    "received_payments.shape"
   ]
  },
  {
   "cell_type": "code",
   "execution_count": 451,
   "id": "9b0cf6f8",
   "metadata": {},
   "outputs": [
    {
     "data": {
      "text/plain": [
       "RECEIPT_METHOD            object\n",
       "CUSTOMER_NAME             object\n",
       "CUSTOMER_NUMBER            int64\n",
       "RECEIPT_DOC_NO           float64\n",
       "RECEIPT_DATE              object\n",
       "CLASS                     object\n",
       "CURRENCY_CODE             object\n",
       "Local Amount             float64\n",
       "USD Amount               float64\n",
       "INVOICE_ALLOCATED         object\n",
       "INVOICE_CREATION_DATE     object\n",
       "DUE_DATE                  object\n",
       "PAYMENT_TERM              object\n",
       "INVOICE_CLASS             object\n",
       "INVOICE_CURRENCY_CODE     object\n",
       "INVOICE_TYPE              object\n",
       "dtype: object"
      ]
     },
     "execution_count": 451,
     "metadata": {},
     "output_type": "execute_result"
    }
   ],
   "source": [
    "received_payments.dtypes"
   ]
  },
  {
   "cell_type": "code",
   "execution_count": 452,
   "id": "54f65c3a",
   "metadata": {},
   "outputs": [],
   "source": [
    "# Convert 'CUSTOMER_NUMBER' to object (string) data type\n",
    "received_payments['CUSTOMER_NUMBER'] = received_payments['CUSTOMER_NUMBER'].astype(str)"
   ]
  },
  {
   "cell_type": "code",
   "execution_count": 453,
   "id": "0ec93053",
   "metadata": {},
   "outputs": [],
   "source": [
    "# Convert date columns to datetime format\n",
    "date_columns = ['RECEIPT_DATE', 'INVOICE_CREATION_DATE','DUE_DATE']\n",
    "received_payments[date_columns] = received_payments[date_columns].apply(pd.to_datetime)"
   ]
  },
  {
   "cell_type": "code",
   "execution_count": 454,
   "id": "fa31f1d5",
   "metadata": {},
   "outputs": [
    {
     "name": "stdout",
     "output_type": "stream",
     "text": [
      "\n",
      "Unique Values and Data Types in Received Payments Data:\n"
     ]
    },
    {
     "data": {
      "text/plain": [
       "RECEIPT_METHOD               8\n",
       "CUSTOMER_NAME              690\n",
       "CUSTOMER_NUMBER           1054\n",
       "RECEIPT_DOC_NO              73\n",
       "RECEIPT_DATE               170\n",
       "CLASS                        1\n",
       "CURRENCY_CODE                8\n",
       "Local Amount              7752\n",
       "USD Amount                7820\n",
       "INVOICE_ALLOCATED        12986\n",
       "INVOICE_CREATION_DATE     1310\n",
       "DUE_DATE                  1203\n",
       "PAYMENT_TERM                42\n",
       "INVOICE_CLASS                3\n",
       "INVOICE_CURRENCY_CODE       10\n",
       "INVOICE_TYPE                 2\n",
       "dtype: int64"
      ]
     },
     "execution_count": 454,
     "metadata": {},
     "output_type": "execute_result"
    }
   ],
   "source": [
    "# Check unique values and data types of columns\n",
    "print(\"\\nUnique Values and Data Types in Received Payments Data:\")\n",
    "received_payments.nunique()"
   ]
  },
  {
   "cell_type": "code",
   "execution_count": 455,
   "id": "e10e315a",
   "metadata": {},
   "outputs": [
    {
     "data": {
      "text/plain": [
       "array(['WIRE', 'AP/AR Netting', 'CHEQUE', 'CASH', 'PDC', 'I/C WIRE',\n",
       "       'I/C CASH', 'I/C Check'], dtype=object)"
      ]
     },
     "execution_count": 455,
     "metadata": {},
     "output_type": "execute_result"
    }
   ],
   "source": [
    "received_payments['RECEIPT_METHOD'].unique()"
   ]
  },
  {
   "cell_type": "code",
   "execution_count": 456,
   "id": "df9eee9d",
   "metadata": {},
   "outputs": [
    {
     "data": {
      "text/plain": [
       "WIRE             89.854903\n",
       "AP/AR Netting     5.159841\n",
       "CHEQUE            3.696094\n",
       "CASH              0.832473\n",
       "I/C WIRE          0.224619\n",
       "PDC               0.223554\n",
       "I/C Check         0.006387\n",
       "I/C CASH          0.002129\n",
       "Name: RECEIPT_METHOD, dtype: float64"
      ]
     },
     "execution_count": 456,
     "metadata": {},
     "output_type": "execute_result"
    }
   ],
   "source": [
    "received_payments['RECEIPT_METHOD'].value_counts(normalize=True)*100"
   ]
  },
  {
   "cell_type": "code",
   "execution_count": 457,
   "id": "d5d62eff",
   "metadata": {},
   "outputs": [
    {
     "data": {
      "text/plain": [
       "array(['USD', 'SAR', 'AED', 'EUR', 'GBP', 'KWD', 'BHD', 'QAR'],\n",
       "      dtype=object)"
      ]
     },
     "execution_count": 457,
     "metadata": {},
     "output_type": "execute_result"
    }
   ],
   "source": [
    "received_payments['CURRENCY_CODE'].unique()"
   ]
  },
  {
   "cell_type": "code",
   "execution_count": 458,
   "id": "d2e3923b",
   "metadata": {},
   "outputs": [
    {
     "data": {
      "text/plain": [
       "SAR    38.850506\n",
       "AED    38.620565\n",
       "USD    20.784143\n",
       "EUR     1.530813\n",
       "GBP     0.138391\n",
       "BHD     0.062808\n",
       "KWD     0.010645\n",
       "QAR     0.002129\n",
       "Name: CURRENCY_CODE, dtype: float64"
      ]
     },
     "execution_count": 458,
     "metadata": {},
     "output_type": "execute_result"
    }
   ],
   "source": [
    "received_payments['CURRENCY_CODE'].value_counts(normalize=True)*100"
   ]
  },
  {
   "cell_type": "code",
   "execution_count": 459,
   "id": "21283790",
   "metadata": {},
   "outputs": [
    {
     "data": {
      "text/plain": [
       "array(['Non Goods', 'Goods'], dtype=object)"
      ]
     },
     "execution_count": 459,
     "metadata": {},
     "output_type": "execute_result"
    }
   ],
   "source": [
    "received_payments['INVOICE_TYPE'].unique()"
   ]
  },
  {
   "cell_type": "code",
   "execution_count": 460,
   "id": "b0abb19e",
   "metadata": {},
   "outputs": [
    {
     "data": {
      "text/plain": [
       "Goods        71.021003\n",
       "Non Goods    28.978997\n",
       "Name: INVOICE_TYPE, dtype: float64"
      ]
     },
     "execution_count": 460,
     "metadata": {},
     "output_type": "execute_result"
    }
   ],
   "source": [
    "received_payments['INVOICE_TYPE'].value_counts(normalize=True)*100"
   ]
  },
  {
   "cell_type": "code",
   "execution_count": 461,
   "id": "26087e88",
   "metadata": {},
   "outputs": [
    {
     "data": {
      "text/plain": [
       "array(['AED', 'SAR', 'USD', 'EUR', 'QAR', 'KWD', 'GBP', 'BHD', 'ZAR',\n",
       "       'JOD'], dtype=object)"
      ]
     },
     "execution_count": 461,
     "metadata": {},
     "output_type": "execute_result"
    }
   ],
   "source": [
    "received_payments['INVOICE_CURRENCY_CODE'].unique()"
   ]
  },
  {
   "cell_type": "code",
   "execution_count": 462,
   "id": "39540f14",
   "metadata": {},
   "outputs": [
    {
     "data": {
      "text/plain": [
       "SAR    41.729031\n",
       "AED    34.466717\n",
       "USD    19.744084\n",
       "EUR     1.617041\n",
       "KWD     1.159288\n",
       "QAR     0.650436\n",
       "BHD     0.425817\n",
       "GBP     0.142649\n",
       "JOD     0.040453\n",
       "ZAR     0.024484\n",
       "Name: INVOICE_CURRENCY_CODE, dtype: float64"
      ]
     },
     "execution_count": 462,
     "metadata": {},
     "output_type": "execute_result"
    }
   ],
   "source": [
    "received_payments['INVOICE_CURRENCY_CODE'].value_counts(normalize=True)*100"
   ]
  },
  {
   "cell_type": "code",
   "execution_count": 463,
   "id": "93012a8c",
   "metadata": {},
   "outputs": [
    {
     "data": {
      "text/plain": [
       "array(['INV', 'CM', 'DM'], dtype=object)"
      ]
     },
     "execution_count": 463,
     "metadata": {},
     "output_type": "execute_result"
    }
   ],
   "source": [
    "received_payments['INVOICE_CLASS'].unique()"
   ]
  },
  {
   "cell_type": "code",
   "execution_count": 464,
   "id": "28d4b35c",
   "metadata": {},
   "outputs": [
    {
     "data": {
      "text/plain": [
       "INV    93.811810\n",
       "CM      5.600562\n",
       "DM      0.587628\n",
       "Name: INVOICE_CLASS, dtype: float64"
      ]
     },
     "execution_count": 464,
     "metadata": {},
     "output_type": "execute_result"
    }
   ],
   "source": [
    "received_payments['INVOICE_CLASS'].value_counts(normalize=True)*100"
   ]
  },
  {
   "cell_type": "code",
   "execution_count": 465,
   "id": "9d4dd34f",
   "metadata": {},
   "outputs": [
    {
     "data": {
      "text/plain": [
       "3"
      ]
     },
     "execution_count": 465,
     "metadata": {},
     "output_type": "execute_result"
    }
   ],
   "source": [
    "received_payments['INVOICE_CLASS'].nunique()"
   ]
  },
  {
   "cell_type": "code",
   "execution_count": 466,
   "id": "e72da17c",
   "metadata": {},
   "outputs": [
    {
     "data": {
      "text/plain": [
       "array(['30 Days from EOM', '30 Days from Inv Date', '45 Days from EOM',\n",
       "       'Immediate', '100% Adv Payment', 'Immediate Payment',\n",
       "       '15 Days from EOM', '25 DAYS FROM EOM', '60 Days from EOM',\n",
       "       '60 Days from Inv Date', '45 Days from Inv Date',\n",
       "       '90 Days from Inv Date', '15 Days from Inv Date',\n",
       "       'Cash on Delivery', '45 DAYS + EOM', '90 Days from EOM',\n",
       "       'On Consignment', 'EOM', '7 Days from Inv Date',\n",
       "       '50% ADVANCE PAYMENT AND 50% UPON RECEIVING THE SHIPMENT',\n",
       "       '75 Days from EOM', 'Standby LC at 30 days',\n",
       "       '30% advance 70% after 30 days from invoice date', 'LC at 60 days',\n",
       "       '50% Advance 50% INVDATE+60 DAYS', '120 Days from EOM',\n",
       "       '75 Days from Inv Date', 'LCSight', '180 DAYS FROM INV DATE',\n",
       "       'LC at 90 days', '30% advance 70% after 60 days from invoice date',\n",
       "       'Cash Against Document at sight', 'Advance with discount',\n",
       "       '50% ADV 50% 30 Days', '120 Days from Inv Date',\n",
       "       '25% ADVANCE, 75% 30 DAYS FROM INVOICE DATE',\n",
       "       'LC at 60 days from FCR/AWB/BL date', '195 days from Invoice Date',\n",
       "       '50% at 30 days and 50% at 60 days', '40 DAYS FROM EOM',\n",
       "       '7 Days from EOM', '365 DAYS FROM INVOICE DATE'], dtype=object)"
      ]
     },
     "execution_count": 466,
     "metadata": {},
     "output_type": "execute_result"
    }
   ],
   "source": [
    "received_payments['PAYMENT_TERM'].unique()"
   ]
  },
  {
   "cell_type": "code",
   "execution_count": 467,
   "id": "ca74f91b",
   "metadata": {},
   "outputs": [
    {
     "data": {
      "text/plain": [
       "Index(['RECEIPT_METHOD', 'CUSTOMER_NAME', 'CUSTOMER_NUMBER', 'RECEIPT_DOC_NO',\n",
       "       'RECEIPT_DATE', 'CLASS', 'CURRENCY_CODE', 'Local Amount', 'USD Amount',\n",
       "       'INVOICE_ALLOCATED', 'INVOICE_CREATION_DATE', 'DUE_DATE',\n",
       "       'PAYMENT_TERM', 'INVOICE_CLASS', 'INVOICE_CURRENCY_CODE',\n",
       "       'INVOICE_TYPE'],\n",
       "      dtype='object')"
      ]
     },
     "execution_count": 467,
     "metadata": {},
     "output_type": "execute_result"
    }
   ],
   "source": [
    "received_payments.columns"
   ]
  },
  {
   "cell_type": "code",
   "execution_count": 468,
   "id": "d4a1d23e",
   "metadata": {},
   "outputs": [],
   "source": [
    "# Creating the 'Payment Status' based on finding the difference between 'RECEIPT_DATE' & 'DUE_DATE'\n",
    "#This will be the Target Variable. We will convert it into 1 & 0 Later\n",
    "received_payments['Payment Status'] = 'On-time Payment'\n",
    "received_payments.loc[received_payments['RECEIPT_DATE'] > received_payments['DUE_DATE'], 'Payment Status'] = 'Late Payment'\n"
   ]
  },
  {
   "cell_type": "code",
   "execution_count": 469,
   "id": "68d6dd44",
   "metadata": {},
   "outputs": [],
   "source": [
    "# Calculate the difference between 'DUE_DATE' & INVOICE_CREATION_DATE and create the 'Payment_Terms' column\n",
    "import pandas as pd\n",
    "\n",
    "# Convert columns to datetime if they are not already in datetime format\n",
    "received_payments['DUE_DATE'] = pd.to_datetime(received_payments['DUE_DATE'])\n",
    "received_payments['INVOICE_CREATION_DATE'] = pd.to_datetime(received_payments['INVOICE_CREATION_DATE'])\n",
    "\n",
    "# Calculate the difference in days and create the 'Days to Pay' column\n",
    "received_payments['Payment_Terms'] = (received_payments['DUE_DATE'] - received_payments['INVOICE_CREATION_DATE']).dt.days"
   ]
  },
  {
   "cell_type": "code",
   "execution_count": 470,
   "id": "fdeadac9",
   "metadata": {},
   "outputs": [],
   "source": [
    "# Calculate the 'Average_payment_time' (difference between RECEIPT_DATE and DUE_DATE)\n",
    "received_payments['Average_payment_time'] = (received_payments['RECEIPT_DATE'] - received_payments['INVOICE_CREATION_DATE']).dt.days"
   ]
  },
  {
   "cell_type": "code",
   "execution_count": 471,
   "id": "1792cb35",
   "metadata": {
    "scrolled": true
   },
   "outputs": [
    {
     "name": "stdout",
     "output_type": "stream",
     "text": [
      "<class 'pandas.core.frame.DataFrame'>\n",
      "Int64Index: 93937 entries, 0 to 93936\n",
      "Data columns (total 19 columns):\n",
      " #   Column                 Non-Null Count  Dtype         \n",
      "---  ------                 --------------  -----         \n",
      " 0   RECEIPT_METHOD         93937 non-null  object        \n",
      " 1   CUSTOMER_NAME          93937 non-null  object        \n",
      " 2   CUSTOMER_NUMBER        93937 non-null  object        \n",
      " 3   RECEIPT_DOC_NO         93908 non-null  float64       \n",
      " 4   RECEIPT_DATE           93937 non-null  datetime64[ns]\n",
      " 5   CLASS                  93937 non-null  object        \n",
      " 6   CURRENCY_CODE          93937 non-null  object        \n",
      " 7   Local Amount           93937 non-null  float64       \n",
      " 8   USD Amount             93937 non-null  float64       \n",
      " 9   INVOICE_ALLOCATED      93937 non-null  object        \n",
      " 10  INVOICE_CREATION_DATE  93937 non-null  datetime64[ns]\n",
      " 11  DUE_DATE               93937 non-null  datetime64[ns]\n",
      " 12  PAYMENT_TERM           93937 non-null  object        \n",
      " 13  INVOICE_CLASS          93937 non-null  object        \n",
      " 14  INVOICE_CURRENCY_CODE  93937 non-null  object        \n",
      " 15  INVOICE_TYPE           93937 non-null  object        \n",
      " 16  Payment Status         93937 non-null  object        \n",
      " 17  Payment_Terms          93937 non-null  int64         \n",
      " 18  Average_payment_time   93937 non-null  int64         \n",
      "dtypes: datetime64[ns](3), float64(3), int64(2), object(11)\n",
      "memory usage: 14.3+ MB\n"
     ]
    }
   ],
   "source": [
    "received_payments.info()"
   ]
  },
  {
   "cell_type": "code",
   "execution_count": 472,
   "id": "d029c23a",
   "metadata": {},
   "outputs": [
    {
     "data": {
      "text/plain": [
       "Late Payment       65.978262\n",
       "On-time Payment    34.021738\n",
       "Name: Payment Status, dtype: float64"
      ]
     },
     "execution_count": 472,
     "metadata": {},
     "output_type": "execute_result"
    }
   ],
   "source": [
    "#Checking for any class imbalancce in the dataset\n",
    "received_payments['Payment Status'].value_counts(normalize=True)*100"
   ]
  },
  {
   "cell_type": "code",
   "execution_count": 473,
   "id": "186286ca",
   "metadata": {},
   "outputs": [
    {
     "data": {
      "text/plain": [
       "Index(['RECEIPT_METHOD', 'CUSTOMER_NAME', 'CUSTOMER_NUMBER', 'RECEIPT_DOC_NO',\n",
       "       'RECEIPT_DATE', 'CLASS', 'CURRENCY_CODE', 'Local Amount', 'USD Amount',\n",
       "       'INVOICE_ALLOCATED', 'INVOICE_CREATION_DATE', 'DUE_DATE',\n",
       "       'PAYMENT_TERM', 'INVOICE_CLASS', 'INVOICE_CURRENCY_CODE',\n",
       "       'INVOICE_TYPE', 'Payment Status', 'Payment_Terms',\n",
       "       'Average_payment_time'],\n",
       "      dtype='object')"
      ]
     },
     "execution_count": 473,
     "metadata": {},
     "output_type": "execute_result"
    }
   ],
   "source": [
    "received_payments.columns"
   ]
  },
  {
   "cell_type": "raw",
   "id": "1771622e",
   "metadata": {},
   "source": [
    "We can observe that although the data consist of 66% invoices which are late."
   ]
  },
  {
   "cell_type": "raw",
   "id": "3cfad6c4",
   "metadata": {},
   "source": [
    "Building a list of the columns which needs to to dropped from the analysis. These include metadata information, unique identifiers, invoice metadata, redundant information and henceforth."
   ]
  },
  {
   "cell_type": "code",
   "execution_count": 474,
   "id": "036fffd4",
   "metadata": {
    "scrolled": false
   },
   "outputs": [
    {
     "name": "stdout",
     "output_type": "stream",
     "text": [
      "<class 'pandas.core.frame.DataFrame'>\n",
      "Int64Index: 93937 entries, 0 to 93936\n",
      "Data columns (total 19 columns):\n",
      " #   Column                 Non-Null Count  Dtype         \n",
      "---  ------                 --------------  -----         \n",
      " 0   RECEIPT_METHOD         93937 non-null  object        \n",
      " 1   CUSTOMER_NAME          93937 non-null  object        \n",
      " 2   CUSTOMER_NUMBER        93937 non-null  object        \n",
      " 3   RECEIPT_DOC_NO         93908 non-null  float64       \n",
      " 4   RECEIPT_DATE           93937 non-null  datetime64[ns]\n",
      " 5   CLASS                  93937 non-null  object        \n",
      " 6   CURRENCY_CODE          93937 non-null  object        \n",
      " 7   Local Amount           93937 non-null  float64       \n",
      " 8   USD Amount             93937 non-null  float64       \n",
      " 9   INVOICE_ALLOCATED      93937 non-null  object        \n",
      " 10  INVOICE_CREATION_DATE  93937 non-null  datetime64[ns]\n",
      " 11  DUE_DATE               93937 non-null  datetime64[ns]\n",
      " 12  PAYMENT_TERM           93937 non-null  object        \n",
      " 13  INVOICE_CLASS          93937 non-null  object        \n",
      " 14  INVOICE_CURRENCY_CODE  93937 non-null  object        \n",
      " 15  INVOICE_TYPE           93937 non-null  object        \n",
      " 16  Payment Status         93937 non-null  object        \n",
      " 17  Payment_Terms          93937 non-null  int64         \n",
      " 18  Average_payment_time   93937 non-null  int64         \n",
      "dtypes: datetime64[ns](3), float64(3), int64(2), object(11)\n",
      "memory usage: 14.3+ MB\n"
     ]
    }
   ],
   "source": [
    "received_payments.info()"
   ]
  },
  {
   "cell_type": "code",
   "execution_count": 475,
   "id": "678d5847",
   "metadata": {},
   "outputs": [
    {
     "data": {
      "text/plain": [
       "Index(['RECEIPT_METHOD', 'CUSTOMER_NAME', 'CUSTOMER_NUMBER', 'RECEIPT_DOC_NO',\n",
       "       'RECEIPT_DATE', 'CLASS', 'CURRENCY_CODE', 'Local Amount', 'USD Amount',\n",
       "       'INVOICE_ALLOCATED', 'INVOICE_CREATION_DATE', 'DUE_DATE',\n",
       "       'PAYMENT_TERM', 'INVOICE_CLASS', 'INVOICE_CURRENCY_CODE',\n",
       "       'INVOICE_TYPE', 'Payment Status', 'Payment_Terms',\n",
       "       'Average_payment_time'],\n",
       "      dtype='object')"
      ]
     },
     "execution_count": 475,
     "metadata": {},
     "output_type": "execute_result"
    }
   ],
   "source": [
    "received_payments.columns"
   ]
  },
  {
   "cell_type": "markdown",
   "id": "30a9cd0e",
   "metadata": {},
   "source": [
    "## Exploratory Data Analysis"
   ]
  },
  {
   "cell_type": "code",
   "execution_count": 476,
   "id": "3700ee95",
   "metadata": {},
   "outputs": [
    {
     "data": {
      "image/png": "[encoded data removed]",
      "text/plain": [
       "<Figure size 1000x600 with 1 Axes>"
      ]
     },
     "metadata": {},
     "output_type": "display_data"
    }
   ],
   "source": [
    "# Creating box plots for 'Average_payment_time'\n",
    "plt.figure(figsize=(10, 6))\n",
    "plt.boxplot(received_payments['Average_payment_time'])\n",
    "plt.title('Boxplot of Average_payment_time')\n",
    "plt.xlabel('Average_payment_time')\n",
    "plt.show()"
   ]
  },
  {
   "cell_type": "code",
   "execution_count": 477,
   "id": "6eea5db4",
   "metadata": {},
   "outputs": [
    {
     "data": {
      "text/plain": [
       "(93937, 19)"
      ]
     },
     "execution_count": 477,
     "metadata": {},
     "output_type": "execute_result"
    }
   ],
   "source": [
    "received_payments.shape"
   ]
  },
  {
   "cell_type": "code",
   "execution_count": 478,
   "id": "1b83478d",
   "metadata": {},
   "outputs": [
    {
     "name": "stdout",
     "output_type": "stream",
     "text": [
      "Range covering 98% of data in 'Average_payment_time': -5.0 to 1050.0\n"
     ]
    }
   ],
   "source": [
    "# Calculate the 0.5th and 99.5th percentiles for the 'Invoice_Age' column\n",
    "percentile_1_0 = received_payments['Average_payment_time'].quantile(0.01)\n",
    "percentile_99_0 = received_payments['Average_payment_time'].quantile(0.99)\n",
    "print(f\"Range covering 98% of data in 'Average_payment_time': {percentile_1_0} to {percentile_99_0}\")\n"
   ]
  },
  {
   "cell_type": "code",
   "execution_count": 479,
   "id": "76879791",
   "metadata": {},
   "outputs": [],
   "source": [
    "#Removing all the outliers dropping rows where Invoice age -5.0 to 1050.0\n",
    "received_payments = received_payments[(received_payments['Average_payment_time'] >= -5) & (received_payments['Average_payment_time'] <= 1050)]"
   ]
  },
  {
   "cell_type": "code",
   "execution_count": 480,
   "id": "d636d36b",
   "metadata": {},
   "outputs": [
    {
     "data": {
      "text/plain": [
       "(92107, 19)"
      ]
     },
     "execution_count": 480,
     "metadata": {},
     "output_type": "execute_result"
    }
   ],
   "source": [
    "received_payments.shape"
   ]
  },
  {
   "cell_type": "code",
   "execution_count": 481,
   "id": "ac89265a",
   "metadata": {
    "scrolled": false
   },
   "outputs": [
    {
     "data": {
      "image/png": "[encoded data removed]",
      "text/plain": [
       "<Figure size 1000x600 with 1 Axes>"
      ]
     },
     "metadata": {},
     "output_type": "display_data"
    }
   ],
   "source": [
    "plt.figure(figsize=(10, 6))\n",
    "plt.boxplot(received_payments['Average_payment_time'])\n",
    "plt.title('Boxplot of Average_payment_time')\n",
    "plt.xlabel('Average_payment_time')\n",
    "plt.show()"
   ]
  },
  {
   "cell_type": "code",
   "execution_count": 166,
   "id": "ca771480",
   "metadata": {},
   "outputs": [
    {
     "data": {
      "text/plain": [
       "count    92107.000000\n",
       "mean       102.599021\n",
       "std        148.181707\n",
       "min         -5.000000\n",
       "25%         40.000000\n",
       "50%         65.000000\n",
       "75%         90.000000\n",
       "max       1050.000000\n",
       "Name: Average_payment_time, dtype: float64"
      ]
     },
     "execution_count": 166,
     "metadata": {},
     "output_type": "execute_result"
    }
   ],
   "source": [
    "received_payments['Average_payment_time'].describe()"
   ]
  },
  {
   "cell_type": "code",
   "execution_count": 482,
   "id": "bc2d8c62",
   "metadata": {},
   "outputs": [
    {
     "data": {
      "image/png": "[encoded data removed]",
      "text/plain": [
       "<Figure size 640x480 with 1 Axes>"
      ]
     },
     "metadata": {},
     "output_type": "display_data"
    }
   ],
   "source": [
    "# Box plot for 'USD Amount'\n",
    "plt.boxplot(received_payments['USD Amount'])\n",
    "plt.title('Boxplot of USD Amount')\n",
    "plt.xlabel('USD Amount')\n",
    "plt.show()"
   ]
  },
  {
   "cell_type": "code",
   "execution_count": 483,
   "id": "13a0a97f",
   "metadata": {},
   "outputs": [],
   "source": [
    "#Dropping rows where the USD Amount is negative\n",
    "received_payments = received_payments[received_payments['USD Amount'] >= 0]"
   ]
  },
  {
   "cell_type": "code",
   "execution_count": 484,
   "id": "5c77c10d",
   "metadata": {},
   "outputs": [
    {
     "name": "stdout",
     "output_type": "stream",
     "text": [
      "Range covering 99% of data in 'USD amount': 0.0 to 6312955.6\n"
     ]
    }
   ],
   "source": [
    "# Calculate the 0.5th and 99.5th percentiles for the 'Invoice_Age' column\n",
    "usd_percentile_0_5 = received_payments['USD Amount'].quantile(0.005)\n",
    "usd_percentile_99_5 = received_payments['USD Amount'].quantile(0.995)\n",
    "print(f\"Range covering 99% of data in 'USD amount': {usd_percentile_0_5} to {usd_percentile_99_5}\")"
   ]
  },
  {
   "cell_type": "code",
   "execution_count": 485,
   "id": "aef0087b",
   "metadata": {},
   "outputs": [],
   "source": [
    "#Removing all the outliers dropping rows \n",
    "received_payments = received_payments[(received_payments['USD Amount'] >= 0) & (received_payments['USD Amount'] <= 6312955.60)]"
   ]
  },
  {
   "cell_type": "code",
   "execution_count": 486,
   "id": "c897d26a",
   "metadata": {},
   "outputs": [
    {
     "data": {
      "image/png": "[encoded data removed]",
      "text/plain": [
       "<Figure size 640x480 with 1 Axes>"
      ]
     },
     "metadata": {},
     "output_type": "display_data"
    }
   ],
   "source": [
    "# Box plot for 'USD Amount'\n",
    "plt.boxplot(received_payments['USD Amount'])\n",
    "plt.title('Boxplot of USD Amount')\n",
    "plt.xlabel('USD Amount')\n",
    "plt.show()"
   ]
  },
  {
   "cell_type": "code",
   "execution_count": 487,
   "id": "b7d48367",
   "metadata": {},
   "outputs": [
    {
     "data": {
      "text/plain": [
       "Index(['RECEIPT_METHOD', 'CUSTOMER_NAME', 'CUSTOMER_NUMBER', 'RECEIPT_DOC_NO',\n",
       "       'RECEIPT_DATE', 'CLASS', 'CURRENCY_CODE', 'Local Amount', 'USD Amount',\n",
       "       'INVOICE_ALLOCATED', 'INVOICE_CREATION_DATE', 'DUE_DATE',\n",
       "       'PAYMENT_TERM', 'INVOICE_CLASS', 'INVOICE_CURRENCY_CODE',\n",
       "       'INVOICE_TYPE', 'Payment Status', 'Payment_Terms',\n",
       "       'Average_payment_time'],\n",
       "      dtype='object')"
      ]
     },
     "execution_count": 487,
     "metadata": {},
     "output_type": "execute_result"
    }
   ],
   "source": [
    "#Analyzing Late Payments\n",
    "received_payments.columns"
   ]
  },
  {
   "cell_type": "raw",
   "id": "3c482504",
   "metadata": {},
   "source": [
    "Descriptive Analysis: Calculated basic statistics such as mean, median, standard deviation, minimum, maximum for numeric columns like 'USD Amount', 'Invoice_Age'."
   ]
  },
  {
   "cell_type": "code",
   "execution_count": 488,
   "id": "d8969bb9",
   "metadata": {},
   "outputs": [
    {
     "data": {
      "text/plain": [
       "count    9.182600e+04\n",
       "mean     5.205730e+05\n",
       "std      8.922167e+05\n",
       "min      0.000000e+00\n",
       "25%      3.791662e+04\n",
       "50%      1.915624e+05\n",
       "75%      5.996137e+05\n",
       "max      6.312956e+06\n",
       "Name: USD Amount, dtype: float64"
      ]
     },
     "execution_count": 488,
     "metadata": {},
     "output_type": "execute_result"
    }
   ],
   "source": [
    "received_payments['USD Amount'].describe()"
   ]
  },
  {
   "cell_type": "code",
   "execution_count": 489,
   "id": "4b3487b7",
   "metadata": {},
   "outputs": [
    {
     "data": {
      "text/plain": [
       "count    91826.000000\n",
       "mean       102.700433\n",
       "std        148.393600\n",
       "min         -5.000000\n",
       "25%         40.000000\n",
       "50%         65.000000\n",
       "75%         90.000000\n",
       "max       1050.000000\n",
       "Name: Average_payment_time, dtype: float64"
      ]
     },
     "execution_count": 489,
     "metadata": {},
     "output_type": "execute_result"
    }
   ],
   "source": [
    "received_payments['Average_payment_time'].describe()"
   ]
  },
  {
   "cell_type": "raw",
   "id": "c84aa9f9",
   "metadata": {},
   "source": [
    "Distribution Analysis: Visualize the distribution of 'USD Amount','Average_payment_time' using histograms or density plots to understand their spread and skewness."
   ]
  },
  {
   "cell_type": "code",
   "execution_count": 492,
   "id": "49357ab8",
   "metadata": {},
   "outputs": [
    {
     "data": {
      "image/png": "[encoded data removed]",
      "text/plain": [
       "<Figure size 1200x600 with 1 Axes>"
      ]
     },
     "metadata": {},
     "output_type": "display_data"
    }
   ],
   "source": [
    "import seaborn as sns\n",
    "import matplotlib.pyplot as plt\n",
    "\n",
    "# Extracting week from 'RECEIPT_DATE'\n",
    "received_payments['Receipt_Week'] = received_payments['RECEIPT_DATE'].dt.to_period('W')\n",
    "\n",
    "# Filter the data for instances where Payment Status is Late\n",
    "target_zero_data = received_payments[received_payments['Payment Status'] == \"Late Payment\"]\n",
    "\n",
    "# Sorting the 'Receipt_Week' column in chronological order\n",
    "sorted_weeks = target_zero_data['Receipt_Week'].sort_values().unique()\n",
    "\n",
    "# Plotting countplots\n",
    "plt.figure(figsize=(12, 6))\n",
    "sns.countplot(x='Receipt_Week', data=target_zero_data, order=sorted_weeks, palette='viridis')\n",
    "plt.title('Number of Late Payments week wise (Sorted)')\n",
    "plt.xlabel('Weeks')\n",
    "plt.ylabel('Late Payments')\n",
    "plt.xticks(rotation=45)\n",
    "plt.tight_layout()\n",
    "plt.show()"
   ]
  },
  {
   "cell_type": "markdown",
   "id": "733c7c18",
   "metadata": {},
   "source": [
    "Categorical Variable Analysis: Explore 'CURRENCY_CODE', 'INVOICE_TYPE' vs Target using bar charts to understand their distributions and relationships."
   ]
  },
  {
   "cell_type": "code",
   "execution_count": 177,
   "id": "d331ef13",
   "metadata": {},
   "outputs": [
    {
     "data": {
      "text/plain": [
       "<matplotlib.legend.Legend at 0x25ee35154b0>"
      ]
     },
     "execution_count": 177,
     "metadata": {},
     "output_type": "execute_result"
    },
    {
     "data": {
      "image/png": "[encoded data removed]",
      "text/plain": [
       "<Figure size 640x480 with 1 Axes>"
      ]
     },
     "metadata": {},
     "output_type": "display_data"
    }
   ],
   "source": [
    "# Bar chart for 'CURRENCY_CODE' vs 'Payment Status'\n",
    "sns.countplot(x='CURRENCY_CODE', hue='Payment Status', data=received_payments, palette='coolwarm')\n",
    "plt.title('CURRENCY_CODE vs Payment Status')\n",
    "plt.xlabel('Currency Code')\n",
    "plt.ylabel('Count')\n",
    "plt.xticks(rotation=45)\n",
    "plt.legend(title='Payment Status', loc='upper right')"
   ]
  },
  {
   "cell_type": "code",
   "execution_count": 178,
   "id": "bcf06c61",
   "metadata": {
    "scrolled": true
   },
   "outputs": [
    {
     "data": {
      "text/plain": [
       "<matplotlib.legend.Legend at 0x25ecea2b6a0>"
      ]
     },
     "execution_count": 178,
     "metadata": {},
     "output_type": "execute_result"
    },
    {
     "data": {
      "image/png": "[encoded data removed]",
      "text/plain": [
       "<Figure size 640x480 with 1 Axes>"
      ]
     },
     "metadata": {},
     "output_type": "display_data"
    }
   ],
   "source": [
    "#Bar chart for invoice type for targets\n",
    "# Bar chart for 'CURRENCY_CODE' vs 'Target'\n",
    "sns.countplot(x='INVOICE_TYPE', hue='Payment Status', data=received_payments, palette='coolwarm')\n",
    "plt.title('INVOICE_TYPE vs Payment Status')\n",
    "plt.xlabel('Invoice Type')\n",
    "plt.ylabel('Count')\n",
    "plt.xticks(rotation=45)\n",
    "plt.legend(title='Payment Status', loc='upper right')"
   ]
  },
  {
   "cell_type": "raw",
   "id": "333b3cde",
   "metadata": {},
   "source": [
    "Plotting payment terms where the number of instances are more than 100"
   ]
  },
  {
   "cell_type": "code",
   "execution_count": 179,
   "id": "278f9d89",
   "metadata": {},
   "outputs": [
    {
     "data": {
      "image/png": "[encoded data removed]",
      "text/plain": [
       "<Figure size 800x600 with 1 Axes>"
      ]
     },
     "metadata": {},
     "output_type": "display_data"
    }
   ],
   "source": [
    "import seaborn as sns\n",
    "import matplotlib.pyplot as plt\n",
    "\n",
    "# Filter the data for 'PAYMENT_TERM' categories with more than 100 instances\n",
    "payment_term_counts = received_payments['PAYMENT_TERM'].value_counts()\n",
    "\n",
    "payment_term_more_than_100 = payment_term_counts[payment_term_counts > 100].index.tolist()\n",
    "\n",
    "filtered_data = received_payments[\n",
    "    received_payments['PAYMENT_TERM'].isin(payment_term_more_than_100)\n",
    "]\n",
    "\n",
    "# Plotting bar chart for filtered 'PAYMENT_TERM' vs 'Payment Status'\n",
    "plt.figure(figsize=(8, 6))\n",
    "sns.countplot(x='PAYMENT_TERM', hue='Payment Status', data=filtered_data, palette='coolwarm')\n",
    "plt.title('PAYMENT_TERM vs Payment Status (Instances > 100)')\n",
    "plt.xlabel('Payment Term')\n",
    "plt.ylabel('Count')\n",
    "plt.xticks(rotation=90)\n",
    "plt.legend(title='Payment Status', loc='upper right')\n",
    "plt.tight_layout()\n",
    "plt.show()\n"
   ]
  },
  {
   "cell_type": "markdown",
   "id": "349384aa",
   "metadata": {},
   "source": [
    "Correlation Analysis: Compute correlations between numeric variables ('USD Amount', ''Invoice_Age') to understand their relationships. Use correlation matrices or pair plots for a visual representation of correlations."
   ]
  },
  {
   "cell_type": "code",
   "execution_count": 180,
   "id": "ca0db2e3",
   "metadata": {},
   "outputs": [
    {
     "data": {
      "text/html": [
       "<div>\n",
       "<style scoped>\n",
       "    .dataframe tbody tr th:only-of-type {\n",
       "        vertical-align: middle;\n",
       "    }\n",
       "\n",
       "    .dataframe tbody tr th {\n",
       "        vertical-align: top;\n",
       "    }\n",
       "\n",
       "    .dataframe thead th {\n",
       "        text-align: right;\n",
       "    }\n",
       "</style>\n",
       "<table border=\"1\" class=\"dataframe\">\n",
       "  <thead>\n",
       "    <tr style=\"text-align: right;\">\n",
       "      <th></th>\n",
       "      <th>Payment_Terms</th>\n",
       "      <th>Average_payment_time</th>\n",
       "    </tr>\n",
       "  </thead>\n",
       "  <tbody>\n",
       "    <tr>\n",
       "      <th>Payment_Terms</th>\n",
       "      <td>1.000000</td>\n",
       "      <td>-0.101892</td>\n",
       "    </tr>\n",
       "    <tr>\n",
       "      <th>Average_payment_time</th>\n",
       "      <td>-0.101892</td>\n",
       "      <td>1.000000</td>\n",
       "    </tr>\n",
       "  </tbody>\n",
       "</table>\n",
       "</div>"
      ],
      "text/plain": [
       "                      Payment_Terms  Average_payment_time\n",
       "Payment_Terms              1.000000             -0.101892\n",
       "Average_payment_time      -0.101892              1.000000"
      ]
     },
     "execution_count": 180,
     "metadata": {},
     "output_type": "execute_result"
    }
   ],
   "source": [
    "import seaborn as sns\n",
    "import matplotlib.pyplot as plt\n",
    "\n",
    "# Selecting numeric columns for correlation analysis\n",
    "numeric_columns = ['Payment_Terms', 'Average_payment_time']\n",
    "\n",
    "# Subset the data for selected numeric columns\n",
    "numeric_data = received_payments[numeric_columns]\n",
    "# Compute correlation matrix\n",
    "correlation_matrix = numeric_data.corr()\n",
    "correlation_matrix"
   ]
  },
  {
   "cell_type": "raw",
   "id": "7ba69b42",
   "metadata": {},
   "source": [
    "Customer Analysis: Analyze patterns based on customers ('CUSTOMER_NAME', 'CUSTOMER_NUMBER'). For example, look for high-value customers, their payment behaviors, or any trends specific to certain customers."
   ]
  },
  {
   "cell_type": "code",
   "execution_count": 181,
   "id": "47d9e96f",
   "metadata": {},
   "outputs": [
    {
     "name": "stdout",
     "output_type": "stream",
     "text": [
      "CUSTOMER_NAME\n",
      "SEPH Corp    63.937377\n",
      "FARO Corp    12.027582\n",
      "PARF Corp     6.695307\n",
      "ALLI Corp     5.398797\n",
      "AREE Corp     2.352480\n",
      "HABC Corp     1.103457\n",
      "RADW Corp     0.757785\n",
      "L OR Corp     0.618280\n",
      "CGR  Corp     0.584736\n",
      "PCD  Corp     0.515891\n",
      "Name: USD Amount, dtype: float64\n"
     ]
    }
   ],
   "source": [
    "# Total transaction amounts for all customers\n",
    "total_transactions_amount = received_payments['USD Amount'].sum()\n",
    "\n",
    "# Total transaction amounts per customer\n",
    "customer_transaction_total_amount = received_payments.groupby('CUSTOMER_NAME')['USD Amount'].sum().sort_values(ascending=False)\n",
    "\n",
    "# Percentages of total transactions for each customer\n",
    "customer_transaction_percentages = (customer_transaction_total_amount / total_transactions_amount) * 100\n",
    "\n",
    "# Top high-value customers and their contribution in percentage\n",
    "top_high_value_customers = customer_transaction_percentages.head(10)\n",
    "print(top_high_value_customers)\n"
   ]
  },
  {
   "cell_type": "code",
   "execution_count": 182,
   "id": "ee4b98f7",
   "metadata": {},
   "outputs": [
    {
     "name": "stdout",
     "output_type": "stream",
     "text": [
      "93.99169204167995\n"
     ]
    }
   ],
   "source": [
    "total_percentage = top_high_value_customers.sum()\n",
    "print(total_percentage)"
   ]
  },
  {
   "cell_type": "markdown",
   "id": "03328650",
   "metadata": {},
   "source": [
    "### Intrestingly top 10 customers contribute to 94% of the total payment receivables"
   ]
  },
  {
   "cell_type": "code",
   "execution_count": 183,
   "id": "bb7ff5ad",
   "metadata": {},
   "outputs": [
    {
     "name": "stdout",
     "output_type": "stream",
     "text": [
      "Payment Status  Late Payment  On-time Payment\n",
      "CUSTOMER_NAME                                \n",
      "ALLI Corp               1895             3749\n",
      "AREE Corp               1589              632\n",
      "CGR  Corp                192              642\n",
      "FARO Corp              10594             4222\n",
      "HABC Corp                996              384\n",
      "L OR Corp                 55              238\n",
      "PARF Corp               5612             1011\n",
      "PCD  Corp                 95              100\n",
      "RADW Corp                747              900\n",
      "SEPH Corp              14072             8532\n"
     ]
    }
   ],
   "source": [
    "#Creating a list of top 10 customers\n",
    "# List of top 10 customers\n",
    "top_10_customers = [\n",
    "    'SEPH Corp', 'FARO Corp', 'PARF Corp', 'ALLI Corp', 'AREE Corp',\n",
    "    'HABC Corp', 'RADW Corp', 'L OR Corp', 'CGR  Corp', 'PCD  Corp'\n",
    "]\n",
    "\n",
    "# Filter data for top 10 customers\n",
    "top_10_customers_data = received_payments[received_payments['CUSTOMER_NAME'].isin(top_10_customers)]\n",
    "\n",
    "# Group by 'CUSTOMER_NAME' and 'Target' and count occurrences\n",
    "value_counts_top_10_customers = top_10_customers_data.groupby(['CUSTOMER_NAME', 'Payment Status']).size().unstack().fillna(0)\n",
    "\n",
    "print(value_counts_top_10_customers)\n"
   ]
  },
  {
   "cell_type": "raw",
   "id": "24885998",
   "metadata": {},
   "source": [
    "Comparitive Analysis: Compare the distributions or statistics of 'USD Amount', 'PAYMENT_TERM', 'Average_payment_time' between different categories of 'INVOICE_TYPE' or 'CURRENCY_CODE'."
   ]
  },
  {
   "cell_type": "code",
   "execution_count": 184,
   "id": "d7df0cba",
   "metadata": {
    "scrolled": false
   },
   "outputs": [
    {
     "data": {
      "image/png": "[encoded data removed]",
      "text/plain": [
       "<Figure size 1000x600 with 1 Axes>"
      ]
     },
     "metadata": {},
     "output_type": "display_data"
    }
   ],
   "source": [
    "# Create a bar chart for 'USD Amount' vs 'Payment Status' for top 10 customers\n",
    "plt.figure(figsize=(10, 6))\n",
    "sns.barplot(x='CUSTOMER_NAME', y='USD Amount', hue='Payment Status', data=top_10_customers_data)\n",
    "plt.title('USD Amount vs Payment Status for Top 10 Customers')\n",
    "plt.xlabel('CUSTOMER_NAME')\n",
    "plt.ylabel('USD Amount')\n",
    "plt.xticks(rotation=90)\n",
    "plt.legend(title='Payment Status', bbox_to_anchor=(1, 1))\n",
    "plt.show()"
   ]
  },
  {
   "cell_type": "code",
   "execution_count": 185,
   "id": "bca37e50",
   "metadata": {},
   "outputs": [
    {
     "data": {
      "image/png": "[encoded data removed]",
      "text/plain": [
       "<Figure size 1000x600 with 1 Axes>"
      ]
     },
     "metadata": {},
     "output_type": "display_data"
    }
   ],
   "source": [
    "# Create a bar chart for 'USD Amount' vs 'Average_payment_time' for top 10 customers\n",
    "plt.figure(figsize=(10, 6))\n",
    "sns.barplot(x='CUSTOMER_NAME', y='Average_payment_time', hue='Payment Status', data=top_10_customers_data)\n",
    "plt.title('Average_payment_time vs Payment Status for Top 10 Customers')\n",
    "plt.xlabel('CUSTOMER_NAME')\n",
    "plt.ylabel('Average_payment_time')\n",
    "plt.xticks(rotation=90)\n",
    "plt.legend(title='Payment Status', bbox_to_anchor=(1, 1))\n",
    "plt.show()\n"
   ]
  },
  {
   "cell_type": "code",
   "execution_count": 186,
   "id": "28528422",
   "metadata": {},
   "outputs": [
    {
     "data": {
      "text/plain": [
       "RECEIPT_METHOD                   object\n",
       "CUSTOMER_NAME                    object\n",
       "CUSTOMER_NUMBER                  object\n",
       "RECEIPT_DOC_NO                  float64\n",
       "RECEIPT_DATE             datetime64[ns]\n",
       "CLASS                            object\n",
       "CURRENCY_CODE                    object\n",
       "Local Amount                    float64\n",
       "USD Amount                      float64\n",
       "INVOICE_ALLOCATED                object\n",
       "INVOICE_CREATION_DATE    datetime64[ns]\n",
       "DUE_DATE                 datetime64[ns]\n",
       "PAYMENT_TERM                     object\n",
       "INVOICE_CLASS                    object\n",
       "INVOICE_CURRENCY_CODE            object\n",
       "INVOICE_TYPE                     object\n",
       "Payment Status                   object\n",
       "Payment_Terms                     int64\n",
       "Average_payment_time              int64\n",
       "Receipt_Week              period[W-SUN]\n",
       "dtype: object"
      ]
     },
     "execution_count": 186,
     "metadata": {},
     "output_type": "execute_result"
    }
   ],
   "source": [
    "received_payments.dtypes"
   ]
  },
  {
   "cell_type": "code",
   "execution_count": 187,
   "id": "f647a2d4",
   "metadata": {},
   "outputs": [
    {
     "data": {
      "text/plain": [
       "436"
      ]
     },
     "execution_count": 187,
     "metadata": {},
     "output_type": "execute_result"
    }
   ],
   "source": [
    "received_payments['Payment_Terms'].nunique()"
   ]
  },
  {
   "cell_type": "markdown",
   "id": "5ca56c9a",
   "metadata": {},
   "source": [
    "# MODEL BUILDING - CUSTOMER SEGMENTATION"
   ]
  },
  {
   "cell_type": "code",
   "execution_count": 188,
   "id": "a7cb5673",
   "metadata": {},
   "outputs": [
    {
     "data": {
      "text/plain": [
       "Index(['RECEIPT_METHOD', 'CUSTOMER_NAME', 'CUSTOMER_NUMBER', 'RECEIPT_DOC_NO',\n",
       "       'RECEIPT_DATE', 'CLASS', 'CURRENCY_CODE', 'Local Amount', 'USD Amount',\n",
       "       'INVOICE_ALLOCATED', 'INVOICE_CREATION_DATE', 'DUE_DATE',\n",
       "       'PAYMENT_TERM', 'INVOICE_CLASS', 'INVOICE_CURRENCY_CODE',\n",
       "       'INVOICE_TYPE', 'Payment Status', 'Payment_Terms',\n",
       "       'Average_payment_time', 'Receipt_Week'],\n",
       "      dtype='object')"
      ]
     },
     "execution_count": 188,
     "metadata": {},
     "output_type": "execute_result"
    }
   ],
   "source": [
    "received_payments.columns"
   ]
  },
  {
   "cell_type": "raw",
   "id": "c0e4a14e",
   "metadata": {},
   "source": [
    "# List of columns to drop\n",
    "r_columns_to_drop = ['CUSTOMER_NAME','RECEIPT_METHOD', 'RECEIPT_DOC_NO','CLASS','PAYMENT_TERM','CURRENCY_CODE',\n",
    "        'Local Amount','INVOICE_CLASS', 'INVOICE_ALLOCATED', 'INVOICE_CURRENCY_CODE','INVOICE_TYPE','RECEIPT_DATE','DUE_DATE','INVOICE_CREATION_DATE']\n",
    "\n",
    "# Dropping the specified columns from the DataFrame\n",
    "received_payments = received_payments.drop(columns=r_columns_to_drop, axis=1)"
   ]
  },
  {
   "cell_type": "markdown",
   "id": "f7c28836",
   "metadata": {},
   "source": [
    "### Customer Segmentation"
   ]
  },
  {
   "cell_type": "code",
   "execution_count": 189,
   "id": "f1cac3e2",
   "metadata": {},
   "outputs": [],
   "source": [
    "import datetime as dt\n",
    "\n",
    "import sklearn\n",
    "from sklearn.preprocessing import StandardScaler\n",
    "from sklearn.cluster import KMeans\n",
    "from sklearn.metrics import silhouette_score\n",
    "\n",
    "from scipy.cluster.hierarchy import linkage\n",
    "from scipy.cluster.hierarchy import dendrogram\n",
    "from scipy.cluster.hierarchy import cut_tree"
   ]
  },
  {
   "cell_type": "code",
   "execution_count": 190,
   "id": "2646977e",
   "metadata": {},
   "outputs": [],
   "source": [
    "#Creating a copy of the received_payments dataset to analyze customer behavior with respect to payment\n",
    "payment_data=received_payments.copy()"
   ]
  },
  {
   "cell_type": "code",
   "execution_count": 191,
   "id": "e29a9c21",
   "metadata": {},
   "outputs": [
    {
     "data": {
      "text/plain": [
       "Index(['RECEIPT_METHOD', 'CUSTOMER_NAME', 'CUSTOMER_NUMBER', 'RECEIPT_DOC_NO',\n",
       "       'RECEIPT_DATE', 'CLASS', 'CURRENCY_CODE', 'Local Amount', 'USD Amount',\n",
       "       'INVOICE_ALLOCATED', 'INVOICE_CREATION_DATE', 'DUE_DATE',\n",
       "       'PAYMENT_TERM', 'INVOICE_CLASS', 'INVOICE_CURRENCY_CODE',\n",
       "       'INVOICE_TYPE', 'Payment Status', 'Payment_Terms',\n",
       "       'Average_payment_time', 'Receipt_Week'],\n",
       "      dtype='object')"
      ]
     },
     "execution_count": 191,
     "metadata": {},
     "output_type": "execute_result"
    }
   ],
   "source": [
    "payment_data.columns"
   ]
  },
  {
   "cell_type": "code",
   "execution_count": 192,
   "id": "aed3c86b",
   "metadata": {},
   "outputs": [],
   "source": [
    "#Dropping non-essential columns\n",
    "columns_drop=['RECEIPT_METHOD', 'CUSTOMER_NAME', 'RECEIPT_DOC_NO',\n",
    "       'RECEIPT_DATE', 'CLASS', 'CURRENCY_CODE', 'Local Amount', 'USD Amount',\n",
    "       'INVOICE_ALLOCATED', 'INVOICE_CREATION_DATE', 'DUE_DATE',\n",
    "       'PAYMENT_TERM', 'INVOICE_CLASS', 'INVOICE_CURRENCY_CODE',\n",
    "       'INVOICE_TYPE', 'Payment Status', 'Payment_Terms',\n",
    "       'Receipt_Week']"
   ]
  },
  {
   "cell_type": "code",
   "execution_count": 193,
   "id": "22e80a4a",
   "metadata": {},
   "outputs": [],
   "source": [
    "# Dropping the specified columns\n",
    "payment_data.drop(columns=columns_drop, inplace=True)"
   ]
  },
  {
   "cell_type": "code",
   "execution_count": 194,
   "id": "69ea8210",
   "metadata": {},
   "outputs": [],
   "source": [
    "# Resetting the index\n",
    "payment_data.reset_index(drop=True, inplace=True)"
   ]
  },
  {
   "cell_type": "code",
   "execution_count": 195,
   "id": "bec5356d",
   "metadata": {},
   "outputs": [
    {
     "data": {
      "text/plain": [
       "Index(['CUSTOMER_NUMBER', 'Average_payment_time'], dtype='object')"
      ]
     },
     "execution_count": 195,
     "metadata": {},
     "output_type": "execute_result"
    }
   ],
   "source": [
    "payment_data.columns"
   ]
  },
  {
   "cell_type": "code",
   "execution_count": 196,
   "id": "1d4c892d",
   "metadata": {},
   "outputs": [
    {
     "name": "stdout",
     "output_type": "stream",
     "text": [
      "  CUSTOMER_NUMBER  Mean_Payment_time  Std_Dev_Payment_time\n",
      "0           10100          72.500000              7.000000\n",
      "1           10320          21.476190             15.542262\n",
      "2           10360          39.893617             23.610272\n",
      "3            1044         124.744255            185.523593\n",
      "4            1076          39.864000             28.282088\n"
     ]
    }
   ],
   "source": [
    "# Grouping the dataframe by 'CUSTOMER_NUMBER' and calculating mean and standard deviation for 'Average_payment_time'\n",
    "grouped_data = payment_data.groupby('CUSTOMER_NUMBER')['Average_payment_time'].agg(['mean', 'std']).reset_index()\n",
    "\n",
    "# Renaming the columns for clarity\n",
    "grouped_data.columns = ['CUSTOMER_NUMBER', 'Mean_Payment_time', 'Std_Dev_Payment_time']\n",
    "\n",
    "# Displaying the resulting DataFrame\n",
    "print(grouped_data.head())\n"
   ]
  },
  {
   "cell_type": "raw",
   "id": "d05232f2",
   "metadata": {},
   "source": [
    "We will segment your customers based on two derived variables: the average payment time in days for a customer and the standard deviation for the payment time."
   ]
  },
  {
   "cell_type": "code",
   "execution_count": 197,
   "id": "50edbbb7",
   "metadata": {
    "scrolled": true
   },
   "outputs": [
    {
     "data": {
      "text/html": [
       "<div>\n",
       "<style scoped>\n",
       "    .dataframe tbody tr th:only-of-type {\n",
       "        vertical-align: middle;\n",
       "    }\n",
       "\n",
       "    .dataframe tbody tr th {\n",
       "        vertical-align: top;\n",
       "    }\n",
       "\n",
       "    .dataframe thead th {\n",
       "        text-align: right;\n",
       "    }\n",
       "</style>\n",
       "<table border=\"1\" class=\"dataframe\">\n",
       "  <thead>\n",
       "    <tr style=\"text-align: right;\">\n",
       "      <th></th>\n",
       "      <th>Mean_Payment_time</th>\n",
       "      <th>Std_Dev_Payment_time</th>\n",
       "    </tr>\n",
       "  </thead>\n",
       "  <tbody>\n",
       "    <tr>\n",
       "      <th>count</th>\n",
       "      <td>1041.000000</td>\n",
       "      <td>876.000000</td>\n",
       "    </tr>\n",
       "    <tr>\n",
       "      <th>mean</th>\n",
       "      <td>98.094793</td>\n",
       "      <td>48.508436</td>\n",
       "    </tr>\n",
       "    <tr>\n",
       "      <th>std</th>\n",
       "      <td>124.007153</td>\n",
       "      <td>70.272116</td>\n",
       "    </tr>\n",
       "    <tr>\n",
       "      <th>min</th>\n",
       "      <td>-5.000000</td>\n",
       "      <td>0.000000</td>\n",
       "    </tr>\n",
       "    <tr>\n",
       "      <th>25%</th>\n",
       "      <td>34.727273</td>\n",
       "      <td>11.771415</td>\n",
       "    </tr>\n",
       "    <tr>\n",
       "      <th>50%</th>\n",
       "      <td>63.968750</td>\n",
       "      <td>23.475109</td>\n",
       "    </tr>\n",
       "    <tr>\n",
       "      <th>75%</th>\n",
       "      <td>107.055556</td>\n",
       "      <td>50.206955</td>\n",
       "    </tr>\n",
       "    <tr>\n",
       "      <th>max</th>\n",
       "      <td>957.000000</td>\n",
       "      <td>515.069898</td>\n",
       "    </tr>\n",
       "  </tbody>\n",
       "</table>\n",
       "</div>"
      ],
      "text/plain": [
       "       Mean_Payment_time  Std_Dev_Payment_time\n",
       "count        1041.000000            876.000000\n",
       "mean           98.094793             48.508436\n",
       "std           124.007153             70.272116\n",
       "min            -5.000000              0.000000\n",
       "25%            34.727273             11.771415\n",
       "50%            63.968750             23.475109\n",
       "75%           107.055556             50.206955\n",
       "max           957.000000            515.069898"
      ]
     },
     "execution_count": 197,
     "metadata": {},
     "output_type": "execute_result"
    }
   ],
   "source": [
    "grouped_data.describe()"
   ]
  },
  {
   "cell_type": "raw",
   "id": "423dbcd9",
   "metadata": {},
   "source": [
    "Removing outliers"
   ]
  },
  {
   "cell_type": "code",
   "execution_count": 198,
   "id": "c1a71caf",
   "metadata": {},
   "outputs": [
    {
     "data": {
      "text/plain": [
       "(1041, 3)"
      ]
     },
     "execution_count": 198,
     "metadata": {},
     "output_type": "execute_result"
    }
   ],
   "source": [
    "grouped_data.shape"
   ]
  },
  {
   "cell_type": "code",
   "execution_count": 199,
   "id": "9184e757",
   "metadata": {},
   "outputs": [
    {
     "data": {
      "text/plain": [
       "Index(['CUSTOMER_NUMBER', 'Mean_Payment_time', 'Std_Dev_Payment_time'], dtype='object')"
      ]
     },
     "execution_count": 199,
     "metadata": {},
     "output_type": "execute_result"
    }
   ],
   "source": [
    "grouped_data.columns"
   ]
  },
  {
   "cell_type": "code",
   "execution_count": 200,
   "id": "bea60fbe",
   "metadata": {},
   "outputs": [
    {
     "name": "stdout",
     "output_type": "stream",
     "text": [
      "CUSTOMER_NUMBER           0\n",
      "Mean_Payment_time         0\n",
      "Std_Dev_Payment_time    165\n",
      "dtype: int64\n"
     ]
    }
   ],
   "source": [
    "# Counting null values in each column of grouped_data DataFrame\n",
    "null_values = grouped_data.isnull().sum()\n",
    "\n",
    "# Displaying the count of null values in each column\n",
    "print(null_values)\n"
   ]
  },
  {
   "cell_type": "code",
   "execution_count": 201,
   "id": "f5aceb12",
   "metadata": {},
   "outputs": [
    {
     "name": "stdout",
     "output_type": "stream",
     "text": [
      "CUSTOMER_NUMBER         0\n",
      "Mean_Payment_time       0\n",
      "Std_Dev_Payment_time    0\n",
      "dtype: int64\n"
     ]
    }
   ],
   "source": [
    "# Replace null values in 'Std_Dev_Payment_time' column with 0\n",
    "grouped_data['Std_Dev_Payment_time'].fillna(0, inplace=True)\n",
    "\n",
    "# Counting null values in each column of grouped_data DataFrame after replacement\n",
    "null_values = grouped_data.isnull().sum()\n",
    "\n",
    "# Displaying the count of null values in each column\n",
    "print(null_values)\n"
   ]
  },
  {
   "cell_type": "code",
   "execution_count": 202,
   "id": "6068c1e9",
   "metadata": {},
   "outputs": [
    {
     "name": "stdout",
     "output_type": "stream",
     "text": [
      "<class 'pandas.core.frame.DataFrame'>\n",
      "RangeIndex: 1041 entries, 0 to 1040\n",
      "Data columns (total 3 columns):\n",
      " #   Column                Non-Null Count  Dtype  \n",
      "---  ------                --------------  -----  \n",
      " 0   CUSTOMER_NUMBER       1041 non-null   object \n",
      " 1   Mean_Payment_time     1041 non-null   float64\n",
      " 2   Std_Dev_Payment_time  1041 non-null   float64\n",
      "dtypes: float64(2), object(1)\n",
      "memory usage: 24.5+ KB\n"
     ]
    }
   ],
   "source": [
    "grouped_data.info()"
   ]
  },
  {
   "cell_type": "code",
   "execution_count": 203,
   "id": "8dfd5453",
   "metadata": {},
   "outputs": [
    {
     "data": {
      "text/plain": [
       "(1041, 2)"
      ]
     },
     "execution_count": 203,
     "metadata": {},
     "output_type": "execute_result"
    }
   ],
   "source": [
    "# 2. rescaling the data set before clustering\n",
    "cluster_df = grouped_data[['Mean_Payment_time',\n",
    "       'Std_Dev_Payment_time']]\n",
    "# instantiate the scaler\n",
    "scaler = StandardScaler()\n",
    "\n",
    "# fit_transform\n",
    "cluster_df_scaled = scaler.fit_transform(cluster_df)\n",
    "cluster_df_scaled.shape\n"
   ]
  },
  {
   "cell_type": "markdown",
   "id": "2c72b0b3",
   "metadata": {},
   "source": [
    "#### Machine learning Modelling "
   ]
  },
  {
   "cell_type": "code",
   "execution_count": 204,
   "id": "73154bff",
   "metadata": {},
   "outputs": [
    {
     "data": {
      "text/html": [
       "<style>#sk-container-id-3 {color: black;background-color: white;}#sk-container-id-3 pre{padding: 0;}#sk-container-id-3 div.sk-toggleable {background-color: white;}#sk-container-id-3 label.sk-toggleable__label {cursor: pointer;display: block;width: 100%;margin-bottom: 0;padding: 0.3em;box-sizing: border-box;text-align: center;}#sk-container-id-3 label.sk-toggleable__label-arrow:before {content: \"▸\";float: left;margin-right: 0.25em;color: #696969;}#sk-container-id-3 label.sk-toggleable__label-arrow:hover:before {color: black;}#sk-container-id-3 div.sk-estimator:hover label.sk-toggleable__label-arrow:before {color: black;}#sk-container-id-3 div.sk-toggleable__content {max-height: 0;max-width: 0;overflow: hidden;text-align: left;background-color: #f0f8ff;}#sk-container-id-3 div.sk-toggleable__content pre {margin: 0.2em;color: black;border-radius: 0.25em;background-color: #f0f8ff;}#sk-container-id-3 input.sk-toggleable__control:checked~div.sk-toggleable__content {max-height: 200px;max-width: 100%;overflow: auto;}#sk-container-id-3 input.sk-toggleable__control:checked~label.sk-toggleable__label-arrow:before {content: \"▾\";}#sk-container-id-3 div.sk-estimator input.sk-toggleable__control:checked~label.sk-toggleable__label {background-color: #d4ebff;}#sk-container-id-3 div.sk-label input.sk-toggleable__control:checked~label.sk-toggleable__label {background-color: #d4ebff;}#sk-container-id-3 input.sk-hidden--visually {border: 0;clip: rect(1px 1px 1px 1px);clip: rect(1px, 1px, 1px, 1px);height: 1px;margin: -1px;overflow: hidden;padding: 0;position: absolute;width: 1px;}#sk-container-id-3 div.sk-estimator {font-family: monospace;background-color: #f0f8ff;border: 1px dotted black;border-radius: 0.25em;box-sizing: border-box;margin-bottom: 0.5em;}#sk-container-id-3 div.sk-estimator:hover {background-color: #d4ebff;}#sk-container-id-3 div.sk-parallel-item::after {content: \"\";width: 100%;border-bottom: 1px solid gray;flex-grow: 1;}#sk-container-id-3 div.sk-label:hover label.sk-toggleable__label {background-color: #d4ebff;}#sk-container-id-3 div.sk-serial::before {content: \"\";position: absolute;border-left: 1px solid gray;box-sizing: border-box;top: 0;bottom: 0;left: 50%;z-index: 0;}#sk-container-id-3 div.sk-serial {display: flex;flex-direction: column;align-items: center;background-color: white;padding-right: 0.2em;padding-left: 0.2em;position: relative;}#sk-container-id-3 div.sk-item {position: relative;z-index: 1;}#sk-container-id-3 div.sk-parallel {display: flex;align-items: stretch;justify-content: center;background-color: white;position: relative;}#sk-container-id-3 div.sk-item::before, #sk-container-id-3 div.sk-parallel-item::before {content: \"\";position: absolute;border-left: 1px solid gray;box-sizing: border-box;top: 0;bottom: 0;left: 50%;z-index: -1;}#sk-container-id-3 div.sk-parallel-item {display: flex;flex-direction: column;z-index: 1;position: relative;background-color: white;}#sk-container-id-3 div.sk-parallel-item:first-child::after {align-self: flex-end;width: 50%;}#sk-container-id-3 div.sk-parallel-item:last-child::after {align-self: flex-start;width: 50%;}#sk-container-id-3 div.sk-parallel-item:only-child::after {width: 0;}#sk-container-id-3 div.sk-dashed-wrapped {border: 1px dashed gray;margin: 0 0.4em 0.5em 0.4em;box-sizing: border-box;padding-bottom: 0.4em;background-color: white;}#sk-container-id-3 div.sk-label label {font-family: monospace;font-weight: bold;display: inline-block;line-height: 1.2em;}#sk-container-id-3 div.sk-label-container {text-align: center;}#sk-container-id-3 div.sk-container {/* jupyter's `normalize.less` sets `[hidden] { display: none; }` but bootstrap.min.css set `[hidden] { display: none !important; }` so we also need the `!important` here to be able to override the default hidden behavior on the sphinx rendered scikit-learn.org. See: https://github.com/scikit-learn/scikit-learn/issues/21755 */display: inline-block !important;position: relative;}#sk-container-id-3 div.sk-text-repr-fallback {display: none;}</style><div id=\"sk-container-id-3\" class=\"sk-top-container\"><div class=\"sk-text-repr-fallback\"><pre>KMeans(max_iter=50, n_clusters=4)</pre><b>In a Jupyter environment, please rerun this cell to show the HTML representation or trust the notebook. <br />On GitHub, the HTML representation is unable to render, please try loading this page with nbviewer.org.</b></div><div class=\"sk-container\" hidden><div class=\"sk-item\"><div class=\"sk-estimator sk-toggleable\"><input class=\"sk-toggleable__control sk-hidden--visually\" id=\"sk-estimator-id-3\" type=\"checkbox\" checked><label for=\"sk-estimator-id-3\" class=\"sk-toggleable__label sk-toggleable__label-arrow\">KMeans</label><div class=\"sk-toggleable__content\"><pre>KMeans(max_iter=50, n_clusters=4)</pre></div></div></div></div></div>"
      ],
      "text/plain": [
       "KMeans(max_iter=50, n_clusters=4)"
      ]
     },
     "execution_count": 204,
     "metadata": {},
     "output_type": "execute_result"
    }
   ],
   "source": [
    "#Starting k-means clustering with some arbitrary number of k(=4)\n",
    "kmeans=KMeans(n_clusters=4, max_iter=50)\n",
    "kmeans.fit(cluster_df_scaled)"
   ]
  },
  {
   "cell_type": "code",
   "execution_count": 205,
   "id": "eaca3112",
   "metadata": {},
   "outputs": [
    {
     "data": {
      "text/plain": [
       "array([3, 3, 3, ..., 3, 2, 0])"
      ]
     },
     "execution_count": 205,
     "metadata": {},
     "output_type": "execute_result"
    }
   ],
   "source": [
    "kmeans.labels_"
   ]
  },
  {
   "cell_type": "code",
   "execution_count": 206,
   "id": "7665e823",
   "metadata": {},
   "outputs": [
    {
     "name": "stdout",
     "output_type": "stream",
     "text": [
      "For n_clusters=2, the silhouette score is 0.758424589055525\n",
      "For n_clusters=3, the silhouette score is 0.7632371528094708\n",
      "For n_clusters=4, the silhouette score is 0.5716262276551339\n",
      "For n_clusters=5, the silhouette score is 0.43987364533905876\n",
      "For n_clusters=6, the silhouette score is 0.44526082627473057\n",
      "For n_clusters=7, the silhouette score is 0.44070377340320815\n",
      "For n_clusters=8, the silhouette score is 0.441499020945072\n"
     ]
    }
   ],
   "source": [
    "from sklearn.cluster import KMeans\n",
    "from sklearn.metrics import silhouette_score\n",
    "\n",
    "range_n_clusters = [2, 3, 4, 5, 6, 7, 8]\n",
    "\n",
    "for num_clusters in range_n_clusters:\n",
    "    # initialize kmeans\n",
    "    kmeans = KMeans(n_clusters=num_clusters, max_iter=50)\n",
    "    kmeans.fit(cluster_df_scaled)\n",
    "    cluster_labels = kmeans.labels_\n",
    "    # silhouette score\n",
    "    silhouette_avg = silhouette_score(cluster_df_scaled, cluster_labels)\n",
    "    print(\"For n_clusters={0}, the silhouette score is {1}\".format(num_clusters, silhouette_avg))\n"
   ]
  },
  {
   "cell_type": "raw",
   "id": "98a70eac",
   "metadata": {},
   "source": [
    "3 clusters seem to be a reasonable choice as it has a relatively high silhouette score compared to neighboring cluster counts."
   ]
  },
  {
   "cell_type": "code",
   "execution_count": 207,
   "id": "45b8fb3f",
   "metadata": {},
   "outputs": [
    {
     "data": {
      "text/html": [
       "<style>#sk-container-id-4 {color: black;background-color: white;}#sk-container-id-4 pre{padding: 0;}#sk-container-id-4 div.sk-toggleable {background-color: white;}#sk-container-id-4 label.sk-toggleable__label {cursor: pointer;display: block;width: 100%;margin-bottom: 0;padding: 0.3em;box-sizing: border-box;text-align: center;}#sk-container-id-4 label.sk-toggleable__label-arrow:before {content: \"▸\";float: left;margin-right: 0.25em;color: #696969;}#sk-container-id-4 label.sk-toggleable__label-arrow:hover:before {color: black;}#sk-container-id-4 div.sk-estimator:hover label.sk-toggleable__label-arrow:before {color: black;}#sk-container-id-4 div.sk-toggleable__content {max-height: 0;max-width: 0;overflow: hidden;text-align: left;background-color: #f0f8ff;}#sk-container-id-4 div.sk-toggleable__content pre {margin: 0.2em;color: black;border-radius: 0.25em;background-color: #f0f8ff;}#sk-container-id-4 input.sk-toggleable__control:checked~div.sk-toggleable__content {max-height: 200px;max-width: 100%;overflow: auto;}#sk-container-id-4 input.sk-toggleable__control:checked~label.sk-toggleable__label-arrow:before {content: \"▾\";}#sk-container-id-4 div.sk-estimator input.sk-toggleable__control:checked~label.sk-toggleable__label {background-color: #d4ebff;}#sk-container-id-4 div.sk-label input.sk-toggleable__control:checked~label.sk-toggleable__label {background-color: #d4ebff;}#sk-container-id-4 input.sk-hidden--visually {border: 0;clip: rect(1px 1px 1px 1px);clip: rect(1px, 1px, 1px, 1px);height: 1px;margin: -1px;overflow: hidden;padding: 0;position: absolute;width: 1px;}#sk-container-id-4 div.sk-estimator {font-family: monospace;background-color: #f0f8ff;border: 1px dotted black;border-radius: 0.25em;box-sizing: border-box;margin-bottom: 0.5em;}#sk-container-id-4 div.sk-estimator:hover {background-color: #d4ebff;}#sk-container-id-4 div.sk-parallel-item::after {content: \"\";width: 100%;border-bottom: 1px solid gray;flex-grow: 1;}#sk-container-id-4 div.sk-label:hover label.sk-toggleable__label {background-color: #d4ebff;}#sk-container-id-4 div.sk-serial::before {content: \"\";position: absolute;border-left: 1px solid gray;box-sizing: border-box;top: 0;bottom: 0;left: 50%;z-index: 0;}#sk-container-id-4 div.sk-serial {display: flex;flex-direction: column;align-items: center;background-color: white;padding-right: 0.2em;padding-left: 0.2em;position: relative;}#sk-container-id-4 div.sk-item {position: relative;z-index: 1;}#sk-container-id-4 div.sk-parallel {display: flex;align-items: stretch;justify-content: center;background-color: white;position: relative;}#sk-container-id-4 div.sk-item::before, #sk-container-id-4 div.sk-parallel-item::before {content: \"\";position: absolute;border-left: 1px solid gray;box-sizing: border-box;top: 0;bottom: 0;left: 50%;z-index: -1;}#sk-container-id-4 div.sk-parallel-item {display: flex;flex-direction: column;z-index: 1;position: relative;background-color: white;}#sk-container-id-4 div.sk-parallel-item:first-child::after {align-self: flex-end;width: 50%;}#sk-container-id-4 div.sk-parallel-item:last-child::after {align-self: flex-start;width: 50%;}#sk-container-id-4 div.sk-parallel-item:only-child::after {width: 0;}#sk-container-id-4 div.sk-dashed-wrapped {border: 1px dashed gray;margin: 0 0.4em 0.5em 0.4em;box-sizing: border-box;padding-bottom: 0.4em;background-color: white;}#sk-container-id-4 div.sk-label label {font-family: monospace;font-weight: bold;display: inline-block;line-height: 1.2em;}#sk-container-id-4 div.sk-label-container {text-align: center;}#sk-container-id-4 div.sk-container {/* jupyter's `normalize.less` sets `[hidden] { display: none; }` but bootstrap.min.css set `[hidden] { display: none !important; }` so we also need the `!important` here to be able to override the default hidden behavior on the sphinx rendered scikit-learn.org. See: https://github.com/scikit-learn/scikit-learn/issues/21755 */display: inline-block !important;position: relative;}#sk-container-id-4 div.sk-text-repr-fallback {display: none;}</style><div id=\"sk-container-id-4\" class=\"sk-top-container\"><div class=\"sk-text-repr-fallback\"><pre>KMeans(max_iter=50, n_clusters=3)</pre><b>In a Jupyter environment, please rerun this cell to show the HTML representation or trust the notebook. <br />On GitHub, the HTML representation is unable to render, please try loading this page with nbviewer.org.</b></div><div class=\"sk-container\" hidden><div class=\"sk-item\"><div class=\"sk-estimator sk-toggleable\"><input class=\"sk-toggleable__control sk-hidden--visually\" id=\"sk-estimator-id-4\" type=\"checkbox\" checked><label for=\"sk-estimator-id-4\" class=\"sk-toggleable__label sk-toggleable__label-arrow\">KMeans</label><div class=\"sk-toggleable__content\"><pre>KMeans(max_iter=50, n_clusters=3)</pre></div></div></div></div></div>"
      ],
      "text/plain": [
       "KMeans(max_iter=50, n_clusters=3)"
      ]
     },
     "execution_count": 207,
     "metadata": {},
     "output_type": "execute_result"
    }
   ],
   "source": [
    "# final model with k=3\n",
    "kmeans=KMeans(n_clusters=3,max_iter=50)\n",
    "kmeans.fit(cluster_df_scaled)"
   ]
  },
  {
   "cell_type": "code",
   "execution_count": 208,
   "id": "b54434a0",
   "metadata": {
    "scrolled": true
   },
   "outputs": [
    {
     "data": {
      "text/html": [
       "<div>\n",
       "<style scoped>\n",
       "    .dataframe tbody tr th:only-of-type {\n",
       "        vertical-align: middle;\n",
       "    }\n",
       "\n",
       "    .dataframe tbody tr th {\n",
       "        vertical-align: top;\n",
       "    }\n",
       "\n",
       "    .dataframe thead th {\n",
       "        text-align: right;\n",
       "    }\n",
       "</style>\n",
       "<table border=\"1\" class=\"dataframe\">\n",
       "  <thead>\n",
       "    <tr style=\"text-align: right;\">\n",
       "      <th></th>\n",
       "      <th>CUSTOMER_NUMBER</th>\n",
       "      <th>Mean_Payment_time</th>\n",
       "      <th>Std_Dev_Payment_time</th>\n",
       "      <th>cluster_id</th>\n",
       "    </tr>\n",
       "  </thead>\n",
       "  <tbody>\n",
       "    <tr>\n",
       "      <th>0</th>\n",
       "      <td>10100</td>\n",
       "      <td>72.500000</td>\n",
       "      <td>7.000000</td>\n",
       "      <td>0</td>\n",
       "    </tr>\n",
       "    <tr>\n",
       "      <th>1</th>\n",
       "      <td>10320</td>\n",
       "      <td>21.476190</td>\n",
       "      <td>15.542262</td>\n",
       "      <td>0</td>\n",
       "    </tr>\n",
       "    <tr>\n",
       "      <th>2</th>\n",
       "      <td>10360</td>\n",
       "      <td>39.893617</td>\n",
       "      <td>23.610272</td>\n",
       "      <td>0</td>\n",
       "    </tr>\n",
       "    <tr>\n",
       "      <th>3</th>\n",
       "      <td>1044</td>\n",
       "      <td>124.744255</td>\n",
       "      <td>185.523593</td>\n",
       "      <td>2</td>\n",
       "    </tr>\n",
       "    <tr>\n",
       "      <th>4</th>\n",
       "      <td>1076</td>\n",
       "      <td>39.864000</td>\n",
       "      <td>28.282088</td>\n",
       "      <td>0</td>\n",
       "    </tr>\n",
       "  </tbody>\n",
       "</table>\n",
       "</div>"
      ],
      "text/plain": [
       "  CUSTOMER_NUMBER  Mean_Payment_time  Std_Dev_Payment_time  cluster_id\n",
       "0           10100          72.500000              7.000000           0\n",
       "1           10320          21.476190             15.542262           0\n",
       "2           10360          39.893617             23.610272           0\n",
       "3            1044         124.744255            185.523593           2\n",
       "4            1076          39.864000             28.282088           0"
      ]
     },
     "execution_count": 208,
     "metadata": {},
     "output_type": "execute_result"
    }
   ],
   "source": [
    "# assign the label\n",
    "grouped_data['cluster_id'] = kmeans.labels_\n",
    "grouped_data.head()"
   ]
  },
  {
   "cell_type": "raw",
   "id": "53b8ce09",
   "metadata": {},
   "source": [
    "Using the k-means clustering we have created the optimized number of clusters which can be used as an input in building the predictive model\n"
   ]
  },
  {
   "cell_type": "code",
   "execution_count": 209,
   "id": "1f04f49e",
   "metadata": {},
   "outputs": [
    {
     "data": {
      "text/plain": [
       "0    927\n",
       "2     78\n",
       "1     36\n",
       "Name: cluster_id, dtype: int64"
      ]
     },
     "execution_count": 209,
     "metadata": {},
     "output_type": "execute_result"
    }
   ],
   "source": [
    "grouped_data['cluster_id'].value_counts()"
   ]
  },
  {
   "cell_type": "code",
   "execution_count": 210,
   "id": "aafdc41e",
   "metadata": {},
   "outputs": [
    {
     "data": {
      "image/png": "[encoded data removed]",
      "text/plain": [
       "<Figure size 1000x600 with 1 Axes>"
      ]
     },
     "metadata": {},
     "output_type": "display_data"
    }
   ],
   "source": [
    "import matplotlib.pyplot as plt\n",
    "\n",
    "# Define colors for each cluster\n",
    "colors = ['red', 'blue', 'green',]  \n",
    "\n",
    "# Scatter plot: USD Amount vs frequency colored by cluster_id\n",
    "plt.figure(figsize=(10, 6))\n",
    "for cluster in grouped_data['cluster_id'].unique():\n",
    "    data = grouped_data[grouped_data['cluster_id'] == cluster]\n",
    "    plt.scatter(data['Mean_Payment_time'], data['Std_Dev_Payment_time'], color=colors[cluster], label=f'Cluster {cluster}')\n",
    "plt.xlabel('Mean_Payment_time')\n",
    "plt.ylabel('Std_Dev_Payment_time')\n",
    "plt.title('Clusters - Mean_Payment_time vs Std_Dev_Payment_time')\n",
    "plt.legend()\n",
    "plt.show()\n",
    "\n",
    "\n"
   ]
  },
  {
   "cell_type": "code",
   "execution_count": 211,
   "id": "790e06b1",
   "metadata": {},
   "outputs": [
    {
     "data": {
      "application/vnd.plotly.v1+json": {
       "config": {
        "plotlyServerURL": "https://plot.ly"
       },
       "data": [
        {
         "hovertemplate": "<b>%{hovertext}</b><br><br>Mean Payment Time=%{x}<br>Std Dev Payment Time=%{y}<br>cluster_id=%{marker.color}<extra></extra>",
         "hovertext": [
          "10100",
          "10320",
          "10360",
          "1044",
          "1076",
          "1146",
          "1154",
          "1192",
          "11940",
          "1198",
          "1201",
          "12060",
          "1223",
          "1239",
          "12460",
          "12660",
          "1279",
          "1333",
          "1335",
          "13546",
          "1385",
          "1409",
          "1420",
          "1500",
          "1523",
          "1540",
          "1566",
          "15762",
          "15766",
          "15767",
          "15768",
          "15769",
          "1579",
          "1679",
          "1710",
          "1713",
          "1744",
          "17860",
          "1793",
          "18041",
          "1825",
          "18300",
          "1888",
          "1953",
          "19640",
          "19700",
          "20620",
          "20827",
          "20837",
          "20839",
          "20855",
          "20860",
          "20863",
          "20864",
          "20867",
          "20868",
          "20870",
          "20872",
          "20875",
          "20879",
          "20884",
          "20898",
          "20907",
          "20910",
          "20914",
          "20946",
          "20949",
          "20955",
          "20958",
          "20959",
          "20960",
          "20963",
          "20965",
          "20966",
          "20967",
          "20973",
          "20977",
          "20983",
          "20984",
          "20987",
          "20998",
          "21019",
          "21031",
          "21032",
          "21041",
          "21053",
          "21059",
          "21072",
          "21078",
          "21125",
          "21135",
          "21136",
          "21140",
          "21144",
          "21145",
          "21161",
          "21180",
          "21185",
          "21189",
          "21221",
          "21222",
          "21231",
          "21251",
          "2127",
          "21279",
          "21312",
          "21317",
          "21340",
          "21341",
          "21402",
          "21424",
          "21425",
          "21621",
          "21700",
          "2180",
          "2195",
          "22240",
          "22320",
          "2269",
          "22697",
          "2273",
          "2274",
          "23020",
          "23023",
          "23029",
          "23030",
          "23031",
          "23034",
          "23040",
          "23042",
          "2306",
          "23062",
          "23064",
          "23065",
          "23071",
          "23072",
          "23103",
          "23121",
          "23136",
          "23140",
          "23145",
          "23149",
          "2315",
          "23152",
          "23153",
          "23156",
          "23159",
          "23220",
          "23221",
          "23247",
          "23250",
          "23257",
          "23271",
          "23280",
          "23281",
          "23291",
          "23296",
          "23298",
          "23310",
          "23312",
          "23315",
          "23322",
          "23323",
          "23325",
          "23326",
          "23328",
          "23330",
          "23336",
          "23337",
          "23344",
          "23346",
          "23347",
          "23348",
          "23350",
          "23355",
          "23356",
          "23357",
          "23359",
          "23363",
          "23364",
          "23365",
          "23367",
          "23370",
          "23372",
          "23373",
          "23374",
          "23376",
          "23377",
          "23378",
          "23380",
          "23382",
          "23388",
          "23394",
          "23395",
          "23396",
          "23397",
          "23400",
          "23410",
          "23419",
          "23426",
          "23430",
          "23449",
          "23615",
          "23618",
          "23625",
          "2390",
          "24260",
          "24340",
          "24400",
          "2452",
          "25140",
          "2516",
          "2624",
          "2727",
          "2738",
          "2751",
          "27880",
          "2795",
          "2815",
          "2856",
          "29240",
          "2937",
          "29400",
          "29420",
          "3029",
          "30580",
          "30620",
          "3079",
          "3113",
          "31500",
          "3166",
          "32420",
          "32480",
          "3274",
          "3276",
          "33020",
          "33080",
          "33150",
          "33260",
          "33325",
          "33423",
          "33425",
          "33428",
          "33440",
          "33463",
          "33560",
          "33682",
          "33683",
          "33801",
          "33820",
          "34008",
          "34041",
          "3409",
          "34161",
          "34182",
          "34185",
          "34186",
          "34193",
          "34194",
          "34198",
          "34199",
          "34201",
          "34202",
          "34203",
          "34205",
          "34214",
          "34216",
          "34219",
          "34226",
          "34229",
          "34230",
          "34235",
          "34240",
          "34245",
          "34247",
          "34253",
          "34256",
          "34258",
          "34259",
          "34260",
          "34264",
          "34265",
          "34270",
          "34271",
          "34272",
          "34274",
          "34281",
          "34282",
          "34285",
          "34289",
          "34294",
          "34295",
          "34298",
          "34299",
          "34300",
          "34306",
          "34307",
          "34309",
          "34310",
          "34315",
          "34317",
          "34318",
          "34325",
          "34328",
          "34336",
          "34343",
          "34396",
          "34409",
          "34479",
          "34533",
          "34546",
          "34557",
          "34569",
          "34592",
          "34596",
          "34597",
          "34599",
          "34600",
          "34601",
          "34603",
          "34608",
          "34609",
          "34610",
          "34617",
          "34621",
          "34627",
          "34634",
          "34635",
          "34640",
          "34641",
          "34647",
          "34870",
          "34876",
          "34902",
          "34903",
          "34907",
          "34912",
          "34918",
          "34919",
          "34925",
          "34927",
          "34931",
          "34932",
          "34933",
          "34935",
          "34940",
          "34941",
          "34945",
          "34946",
          "34948",
          "34956",
          "34959",
          "34961",
          "34962",
          "34963",
          "34965",
          "34970",
          "34974",
          "34975",
          "34977",
          "34980",
          "34983",
          "34984",
          "34985",
          "34989",
          "34991",
          "34992",
          "34995",
          "34996",
          "34997",
          "35000",
          "35002",
          "35003",
          "35005",
          "35007",
          "35009",
          "35012",
          "35013",
          "35015",
          "35022",
          "35026",
          "35028",
          "35032",
          "35033",
          "35034",
          "35035",
          "35036",
          "35041",
          "35043",
          "35050",
          "35052",
          "35054",
          "35060",
          "35061",
          "35062",
          "35065",
          "35066",
          "35068",
          "35084",
          "35085",
          "35092",
          "35103",
          "35105",
          "35107",
          "35110",
          "35112",
          "35113",
          "35121",
          "35128",
          "35130",
          "35135",
          "35136",
          "35137",
          "35252",
          "35273",
          "35337",
          "35414",
          "35434",
          "35475",
          "35478",
          "3550",
          "35515",
          "35554",
          "35556",
          "35634",
          "35636",
          "35675",
          "35734",
          "3600",
          "3602",
          "36115",
          "3622",
          "3625",
          "36314",
          "36355",
          "36356",
          "36394",
          "36457",
          "36535",
          "36539",
          "36698",
          "36834",
          "36835",
          "3685",
          "3693",
          "3694",
          "36956",
          "36995",
          "3709",
          "37094",
          "37218",
          "37274",
          "37357",
          "37398",
          "37403",
          "37404",
          "37437",
          "37460",
          "37537",
          "37577",
          "37678",
          "3771",
          "3774",
          "37777",
          "37818",
          "37820",
          "37878",
          "3788",
          "37881",
          "38018",
          "38032",
          "38035",
          "38038",
          "38039",
          "38057",
          "38158",
          "3820",
          "3823",
          "38237",
          "38238",
          "38280",
          "38297",
          "38317",
          "38319",
          "38320",
          "38418",
          "3846",
          "3848",
          "38498",
          "38540",
          "38562",
          "38597",
          "38797",
          "38818",
          "38917",
          "3895",
          "39017",
          "39018",
          "39020",
          "3903",
          "39038",
          "39039",
          "39179",
          "39198",
          "39217",
          "3925",
          "3926",
          "3927",
          "3933",
          "3949",
          "39498",
          "39507",
          "39517",
          "39538",
          "39600",
          "39604",
          "39659",
          "39697",
          "3978",
          "39797",
          "3988",
          "3993",
          "39969",
          "3997",
          "4002",
          "4003",
          "4005",
          "4007",
          "4009",
          "4011",
          "4012",
          "4013",
          "40146",
          "40152",
          "4016",
          "4017",
          "40171",
          "4018",
          "4020",
          "4023",
          "40337",
          "40397",
          "40417",
          "40437",
          "40497",
          "40518",
          "40537",
          "40721",
          "40722",
          "40723",
          "40739",
          "40740",
          "40857",
          "40858",
          "40877",
          "40917",
          "4101",
          "4104",
          "41124",
          "41297",
          "41317",
          "41320",
          "41343",
          "41360",
          "41437",
          "41497",
          "41558",
          "41577",
          "41617",
          "41657",
          "41719",
          "41723",
          "41725",
          "41817",
          "41837",
          "41922",
          "41939",
          "42041",
          "42120",
          "42143",
          "42220",
          "42221",
          "42223",
          "42320",
          "42383",
          "4241",
          "42420",
          "42442",
          "42561",
          "42602",
          "42605",
          "42641",
          "42660",
          "42740",
          "42741",
          "42820",
          "42840",
          "43060",
          "43080",
          "43160",
          "43164",
          "43280",
          "43320",
          "43341",
          "43342",
          "43343",
          "43380",
          "43400",
          "43440",
          "43520",
          "43560",
          "43580",
          "43581",
          "43626",
          "43663",
          "43666",
          "43820",
          "43861",
          "43904",
          "43921",
          "43961",
          "43981",
          "44041",
          "44042",
          "44120",
          "44141",
          "44142",
          "44143",
          "44160",
          "44161",
          "44163",
          "44240",
          "44300",
          "44302",
          "44360",
          "44380",
          "44440",
          "44441",
          "44520",
          "44540",
          "44621",
          "44700",
          "44781",
          "44860",
          "44900",
          "44922",
          "44925",
          "44940",
          "44961",
          "45040",
          "45161",
          "45167",
          "45169",
          "45201",
          "45202",
          "45222",
          "45224",
          "45242",
          "45260",
          "45341",
          "45380",
          "45382",
          "45444",
          "45445",
          "45580",
          "45680",
          "45763",
          "45800",
          "45820",
          "45841",
          "45862",
          "45901",
          "45921",
          "45941",
          "45980",
          "46020",
          "46041",
          "46060",
          "46061",
          "46100",
          "46160",
          "46221",
          "46280",
          "46301",
          "46340",
          "46342",
          "46382",
          "4650",
          "4651",
          "4652",
          "46540",
          "46561",
          "46620",
          "46640",
          "46660",
          "46661",
          "46662",
          "46760",
          "46802",
          "46804",
          "46820",
          "46923",
          "46924",
          "46940",
          "46942",
          "46980",
          "46981",
          "47002",
          "47005",
          "47006",
          "47007",
          "47047",
          "47060",
          "47062",
          "47081",
          "47084",
          "47101",
          "47120",
          "47162",
          "47180",
          "47220",
          "47221",
          "47240",
          "47320",
          "47361",
          "47362",
          "47363",
          "47380",
          "47381",
          "47400",
          "47401",
          "47420",
          "47441",
          "47444",
          "47480",
          "47503",
          "47505",
          "47521",
          "47522",
          "47761",
          "47780",
          "47800",
          "47840",
          "4785",
          "4788",
          "47880",
          "47882",
          "4790",
          "47900",
          "4791",
          "47920",
          "47963",
          "48020",
          "4805",
          "4806",
          "48080",
          "48081",
          "48082",
          "48100",
          "48101",
          "48102",
          "48140",
          "48142",
          "48160",
          "48220",
          "48221",
          "48222",
          "48241",
          "48242",
          "4826",
          "48340",
          "48360",
          "48382",
          "48401",
          "48440",
          "48441",
          "48460",
          "48462",
          "48480",
          "48486",
          "48520",
          "48540",
          "48541",
          "48560",
          "48561",
          "48600",
          "48601",
          "48602",
          "48640",
          "48660",
          "48661",
          "48662",
          "48663",
          "48680",
          "48681",
          "48682",
          "48700",
          "48701",
          "48720",
          "48725",
          "48729",
          "48760",
          "48781",
          "48800",
          "48820",
          "48840",
          "48842",
          "48880",
          "48920",
          "48980",
          "49000",
          "49060",
          "49083",
          "49120",
          "49140",
          "49144",
          "49145",
          "49146",
          "49161",
          "49163",
          "49201",
          "49224",
          "49281",
          "49282",
          "49300",
          "49301",
          "49302",
          "49303",
          "49321",
          "49323",
          "49325",
          "49326",
          "49327",
          "49328",
          "49332",
          "49342",
          "49345",
          "49383",
          "49384",
          "49385",
          "49386",
          "49402",
          "49405",
          "49420",
          "49422",
          "49440",
          "49442",
          "49480",
          "49500",
          "49503",
          "49504",
          "49506",
          "49507",
          "49520",
          "49522",
          "49540",
          "49542",
          "49543",
          "49545",
          "49560",
          "49562",
          "49563",
          "49582",
          "49584",
          "49586",
          "49600",
          "49601",
          "49602",
          "49603",
          "49624",
          "49640",
          "49641",
          "49642",
          "49646",
          "49660",
          "49661",
          "49740",
          "49762",
          "49780",
          "49900",
          "49920",
          "49940",
          "49960",
          "49980",
          "50040",
          "50061",
          "50121",
          "50141",
          "50142",
          "50143",
          "50160",
          "50200",
          "50220",
          "50221",
          "50260",
          "50380",
          "50400",
          "50420",
          "50460",
          "50461",
          "50480",
          "50520",
          "50521",
          "5053",
          "50541",
          "5055",
          "50561",
          "50600",
          "50680",
          "50700",
          "50720",
          "50721",
          "50740",
          "50780",
          "50801",
          "50820",
          "50840",
          "50860",
          "50861",
          "50880",
          "50881",
          "50901",
          "50902",
          "50921",
          "50922",
          "50941",
          "50942",
          "50944",
          "50946",
          "50961",
          "5097",
          "50980",
          "51000",
          "51001",
          "51004",
          "51020",
          "51060",
          "51061",
          "51081",
          "51120",
          "51121",
          "51140",
          "51180",
          "51181",
          "51200",
          "51220",
          "51240",
          "51280",
          "51281",
          "51320",
          "51341",
          "51342",
          "51361",
          "51380",
          "51400",
          "51402",
          "51440",
          "51461",
          "51462",
          "51463",
          "51480",
          "51481",
          "51520",
          "51560",
          "51580",
          "51600",
          "51622",
          "51640",
          "51700",
          "51721",
          "51722",
          "51741",
          "51742",
          "51780",
          "51800",
          "51801",
          "51820",
          "51840",
          "51881",
          "51883",
          "51900",
          "51920",
          "51960",
          "51961",
          "52003",
          "52020",
          "52040",
          "52042",
          "52043",
          "52060",
          "52080",
          "52100",
          "52140",
          "52180",
          "52181",
          "52200",
          "52220",
          "52260",
          "52320",
          "52360",
          "52361",
          "5239",
          "52400",
          "52421",
          "52500",
          "52580",
          "52601",
          "52640",
          "52661",
          "52721",
          "52723",
          "52762",
          "52800",
          "52802",
          "52820",
          "52940",
          "5320",
          "5460",
          "5522",
          "5580",
          "5720",
          "5743",
          "5944",
          "6046",
          "6422",
          "6520",
          "6960",
          "6980",
          "7519",
          "7524",
          "7530",
          "7534",
          "7544",
          "7545",
          "7546",
          "7547",
          "7548",
          "7567",
          "7594",
          "7651",
          "8380"
         ],
         "legendgroup": "",
         "marker": {
          "color": [
           0,
           0,
           0,
           2,
           0,
           2,
           0,
           0,
           0,
           2,
           0,
           0,
           0,
           0,
           0,
           0,
           0,
           2,
           0,
           0,
           2,
           2,
           0,
           0,
           1,
           2,
           0,
           0,
           0,
           0,
           2,
           2,
           0,
           2,
           0,
           0,
           0,
           0,
           0,
           0,
           0,
           0,
           0,
           0,
           2,
           0,
           0,
           0,
           0,
           2,
           0,
           0,
           0,
           0,
           0,
           0,
           0,
           0,
           0,
           0,
           0,
           1,
           2,
           0,
           0,
           0,
           0,
           0,
           0,
           2,
           0,
           0,
           0,
           0,
           1,
           1,
           0,
           0,
           0,
           0,
           0,
           0,
           2,
           1,
           2,
           2,
           2,
           0,
           0,
           0,
           0,
           0,
           0,
           0,
           0,
           2,
           2,
           0,
           0,
           2,
           2,
           0,
           0,
           0,
           0,
           0,
           0,
           0,
           0,
           0,
           0,
           0,
           0,
           0,
           0,
           0,
           2,
           0,
           2,
           0,
           2,
           0,
           0,
           0,
           0,
           0,
           0,
           0,
           0,
           0,
           0,
           0,
           0,
           0,
           0,
           0,
           0,
           0,
           0,
           0,
           2,
           0,
           0,
           0,
           0,
           0,
           0,
           0,
           0,
           0,
           0,
           0,
           2,
           2,
           0,
           0,
           2,
           2,
           0,
           0,
           0,
           0,
           0,
           0,
           2,
           0,
           0,
           0,
           0,
           2,
           0,
           0,
           0,
           0,
           0,
           0,
           1,
           0,
           0,
           0,
           0,
           0,
           0,
           0,
           0,
           0,
           0,
           0,
           0,
           0,
           0,
           0,
           0,
           0,
           0,
           0,
           1,
           0,
           0,
           0,
           0,
           0,
           0,
           2,
           0,
           0,
           0,
           0,
           0,
           0,
           0,
           2,
           0,
           0,
           0,
           0,
           0,
           2,
           0,
           0,
           2,
           0,
           0,
           0,
           2,
           0,
           0,
           0,
           0,
           2,
           0,
           0,
           0,
           0,
           0,
           2,
           0,
           0,
           0,
           0,
           2,
           0,
           0,
           0,
           0,
           0,
           0,
           0,
           0,
           0,
           0,
           0,
           0,
           0,
           0,
           0,
           0,
           0,
           0,
           0,
           0,
           0,
           0,
           0,
           0,
           0,
           2,
           0,
           0,
           0,
           1,
           0,
           0,
           0,
           0,
           0,
           0,
           2,
           2,
           2,
           0,
           0,
           0,
           0,
           0,
           0,
           0,
           0,
           0,
           0,
           0,
           0,
           0,
           0,
           1,
           0,
           0,
           2,
           0,
           0,
           0,
           2,
           0,
           0,
           0,
           0,
           0,
           0,
           0,
           0,
           0,
           0,
           0,
           0,
           0,
           0,
           0,
           0,
           0,
           0,
           0,
           0,
           0,
           0,
           1,
           0,
           0,
           0,
           0,
           0,
           2,
           0,
           0,
           2,
           0,
           0,
           0,
           0,
           0,
           0,
           0,
           0,
           1,
           0,
           0,
           0,
           0,
           1,
           0,
           0,
           0,
           0,
           0,
           0,
           0,
           0,
           0,
           0,
           0,
           0,
           0,
           0,
           0,
           0,
           0,
           0,
           0,
           0,
           2,
           0,
           0,
           0,
           0,
           0,
           0,
           0,
           0,
           0,
           0,
           0,
           0,
           0,
           0,
           0,
           0,
           0,
           0,
           0,
           2,
           0,
           0,
           0,
           0,
           0,
           0,
           0,
           0,
           0,
           0,
           0,
           1,
           0,
           2,
           0,
           1,
           0,
           2,
           0,
           2,
           0,
           0,
           0,
           1,
           2,
           0,
           0,
           0,
           0,
           0,
           0,
           0,
           0,
           0,
           0,
           2,
           1,
           0,
           0,
           0,
           0,
           2,
           0,
           0,
           0,
           0,
           0,
           0,
           0,
           0,
           0,
           0,
           0,
           2,
           0,
           0,
           0,
           0,
           0,
           0,
           0,
           0,
           0,
           0,
           0,
           0,
           0,
           0,
           0,
           0,
           0,
           0,
           0,
           0,
           0,
           0,
           0,
           0,
           0,
           0,
           0,
           0,
           1,
           0,
           0,
           0,
           0,
           0,
           1,
           0,
           0,
           0,
           0,
           2,
           2,
           0,
           0,
           0,
           0,
           0,
           1,
           0,
           0,
           0,
           1,
           0,
           0,
           0,
           2,
           0,
           0,
           0,
           0,
           1,
           0,
           0,
           2,
           2,
           0,
           0,
           2,
           0,
           0,
           0,
           1,
           0,
           0,
           0,
           0,
           0,
           2,
           0,
           0,
           0,
           0,
           0,
           0,
           0,
           0,
           0,
           0,
           0,
           0,
           0,
           0,
           0,
           0,
           0,
           0,
           0,
           0,
           0,
           0,
           0,
           2,
           0,
           0,
           0,
           0,
           0,
           0,
           0,
           0,
           0,
           0,
           2,
           0,
           0,
           1,
           0,
           0,
           2,
           0,
           0,
           0,
           0,
           2,
           0,
           0,
           0,
           0,
           0,
           1,
           1,
           0,
           0,
           0,
           1,
           0,
           0,
           0,
           0,
           0,
           0,
           0,
           0,
           0,
           0,
           0,
           0,
           0,
           0,
           0,
           0,
           0,
           0,
           0,
           2,
           0,
           0,
           0,
           2,
           1,
           1,
           0,
           0,
           0,
           2,
           0,
           0,
           0,
           0,
           0,
           0,
           0,
           0,
           0,
           0,
           0,
           0,
           2,
           1,
           0,
           0,
           0,
           0,
           0,
           0,
           0,
           0,
           0,
           0,
           0,
           0,
           0,
           0,
           0,
           0,
           0,
           0,
           0,
           0,
           0,
           0,
           0,
           0,
           0,
           0,
           0,
           0,
           0,
           0,
           0,
           0,
           0,
           0,
           0,
           0,
           0,
           0,
           1,
           0,
           0,
           0,
           0,
           0,
           0,
           2,
           0,
           0,
           1,
           1,
           0,
           0,
           0,
           0,
           0,
           0,
           0,
           0,
           0,
           1,
           0,
           0,
           0,
           0,
           0,
           0,
           0,
           0,
           0,
           0,
           0,
           0,
           0,
           0,
           0,
           0,
           0,
           0,
           0,
           0,
           0,
           0,
           0,
           0,
           0,
           2,
           0,
           0,
           0,
           0,
           0,
           0,
           1,
           0,
           0,
           0,
           0,
           0,
           0,
           0,
           0,
           0,
           0,
           0,
           0,
           0,
           0,
           0,
           0,
           0,
           0,
           0,
           0,
           0,
           1,
           0,
           0,
           0,
           0,
           0,
           0,
           0,
           0,
           0,
           0,
           0,
           0,
           0,
           0,
           0,
           0,
           0,
           0,
           0,
           0,
           0,
           0,
           0,
           0,
           0,
           0,
           0,
           0,
           0,
           0,
           0,
           0,
           0,
           0,
           0,
           0,
           0,
           2,
           0,
           0,
           0,
           0,
           0,
           0,
           0,
           0,
           0,
           0,
           0,
           0,
           0,
           0,
           0,
           0,
           0,
           0,
           0,
           0,
           2,
           0,
           0,
           0,
           0,
           0,
           0,
           0,
           0,
           0,
           0,
           0,
           0,
           0,
           0,
           0,
           0,
           0,
           0,
           0,
           0,
           0,
           0,
           0,
           0,
           0,
           0,
           0,
           0,
           0,
           0,
           0,
           0,
           0,
           0,
           0,
           0,
           0,
           0,
           0,
           0,
           0,
           0,
           2,
           0,
           0,
           0,
           0,
           0,
           0,
           0,
           0,
           0,
           0,
           0,
           0,
           0,
           0,
           0,
           0,
           0,
           0,
           0,
           0,
           0,
           0,
           0,
           0,
           0,
           0,
           0,
           0,
           0,
           0,
           0,
           0,
           0,
           0,
           0,
           0,
           0,
           0,
           0,
           0,
           0,
           0,
           0,
           0,
           0,
           0,
           0,
           0,
           0,
           0,
           0,
           0,
           0,
           0,
           0,
           0,
           0,
           0,
           0,
           0,
           0,
           0,
           0,
           0,
           0,
           0,
           0,
           0,
           0,
           0,
           0,
           0,
           0,
           0,
           0,
           0,
           0,
           0,
           0,
           0,
           0,
           0,
           0,
           0,
           0,
           0,
           0,
           0,
           0,
           0,
           0,
           0,
           2,
           0,
           0,
           0,
           0,
           0,
           0,
           0,
           0,
           0,
           0,
           0,
           0,
           0,
           0,
           0,
           0,
           0,
           0,
           0,
           0,
           0,
           0,
           0,
           0,
           0,
           0,
           0,
           0,
           0,
           0,
           0,
           0,
           0,
           0,
           0,
           0,
           0,
           0,
           0,
           0,
           0,
           0,
           0,
           0,
           0,
           0,
           0,
           0,
           0,
           0,
           0,
           0,
           0,
           0,
           0,
           0,
           0,
           0,
           0,
           0,
           0,
           0,
           0,
           0,
           0,
           0,
           0,
           0,
           0,
           0,
           0,
           0,
           0,
           0,
           0,
           0,
           0,
           0,
           0,
           0,
           0,
           0,
           0,
           0,
           0,
           0,
           0,
           0,
           0,
           0,
           0,
           0,
           0,
           0,
           0,
           0,
           0,
           0,
           0,
           0,
           0,
           0,
           0,
           0,
           0,
           0,
           0,
           0,
           1,
           0
          ],
          "coloraxis": "coloraxis",
          "symbol": "circle"
         },
         "mode": "markers",
         "name": "",
         "showlegend": false,
         "type": "scattergl",
         "x": [
          72.5,
          21.476190476190474,
          39.8936170212766,
          124.74425500370644,
          39.864,
          277.4166666666667,
          75.48351648351648,
          101.25925925925925,
          69.37931034482759,
          134.7941176470588,
          65,
          97.625,
          76.33333333333333,
          166.14285714285714,
          149.66666666666666,
          96,
          32.34154929577465,
          203.71666666666667,
          215,
          167.66666666666666,
          403.2578125,
          138.24500344589939,
          181.00819672131146,
          228.5,
          384,
          235.75,
          126.51807228915662,
          43,
          72.0519801980198,
          72.19522776572668,
          113.97157524479513,
          426.2,
          76.375,
          235.66610169491526,
          74.25,
          180.5,
          50.392857142857146,
          46.03738317757009,
          196,
          64.8,
          34.265567765567766,
          116,
          104.13650730936389,
          109.07692307692308,
          349.64102564102564,
          99.73770491803279,
          39.5,
          117,
          112.37777777777778,
          197.9016393442623,
          33.87412587412587,
          94.83870967741936,
          69.4186046511628,
          72.11904761904762,
          20.8,
          72.62962962962963,
          82.11904761904762,
          122,
          164.5,
          86.94805194805195,
          146.68115942028984,
          329.17391304347825,
          403.17857142857144,
          121,
          79.05263157894737,
          68.82608695652173,
          51,
          71.71219512195123,
          76,
          314.1,
          70,
          72.16666666666667,
          16,
          88,
          632.6341463414634,
          600,
          16.837209302325583,
          77.3265306122449,
          210,
          56.5,
          59.64957264957265,
          73,
          354.43220338983053,
          407.1975308641975,
          442.0740740740741,
          275.8,
          174.3984962406015,
          92.2,
          83,
          49.25,
          48.68,
          74.41666666666667,
          60.77777777777778,
          70.11111111111111,
          77.26415094339623,
          234.56410256410257,
          222.83653846153845,
          48.34375,
          39.4,
          160.13422818791946,
          98.3076923076923,
          43.857142857142854,
          78.22222222222223,
          36.2,
          48.5,
          88.5,
          26,
          41.458333333333336,
          29,
          147,
          109.125,
          85,
          102.27777777777777,
          101.32183908045977,
          38.64,
          64,
          148.18897637795277,
          32,
          146.2,
          42.333333333333336,
          187.23368421052632,
          35.928994082840234,
          100.76829268292683,
          25.375,
          19.272727272727273,
          36.942477876106196,
          28,
          56.094339622641506,
          59.03921568627451,
          85.93442622950819,
          95.8,
          50.5,
          43.583333333333336,
          61.5,
          29.88888888888889,
          43.111111111111114,
          94,
          63,
          34.80769230769231,
          25.725118483412324,
          124.25,
          58.125786163522015,
          67.94243048403708,
          67.06770833333333,
          58,
          28.976744186046513,
          39.42857142857143,
          34,
          107,
          23.457142857142856,
          63.6,
          75.01923076923077,
          307.2,
          382.86633663366337,
          53.75,
          61.285714285714285,
          171.04473304473305,
          129.42253521126761,
          229,
          57.794117647058826,
          112.3,
          22,
          22.14814814814815,
          59.4,
          311.54545454545456,
          71,
          -1,
          43.666666666666664,
          18.166666666666668,
          263.25,
          73.5,
          108.5,
          70,
          25,
          33,
          45.4,
          392,
          13.75,
          81,
          89,
          87.83333333333333,
          14.857142857142858,
          61.18518518518518,
          27.357142857142858,
          55.285714285714285,
          2,
          111.63157894736842,
          83.7,
          54.5,
          23,
          111.47058823529412,
          28.3125,
          3,
          40.75,
          71.16666666666667,
          103.97727272727273,
          563,
          172.55,
          106.14285714285714,
          77.23728813559322,
          42.708333333333336,
          71.96296296296296,
          49.666666666666664,
          135.22435897435898,
          16.46938775510204,
          136,
          59.58585858585859,
          82,
          37.143459915611814,
          64.03821656050955,
          102.8443113772455,
          772.5,
          26.89273356401384,
          74,
          92.33333333333333,
          77.85714285714286,
          77.5,
          212.98589562764457,
          159,
          29,
          598.3076923076923,
          75.5,
          120,
          39.67465753424658,
          117.66666666666667,
          21.736842105263158,
          123,
          55.64414414414414,
          96.12203389830509,
          718.1111111111111,
          93.88888888888889,
          79.36363636363636,
          110.41666666666667,
          91.47629796839729,
          30.5,
          194.33333333333334,
          219.25,
          128.66666666666666,
          29.794871794871796,
          98.5,
          362.2,
          27,
          56,
          6,
          28.555555555555557,
          71.19642857142857,
          61.929577464788736,
          30,
          44.54679802955665,
          39,
          129,
          21.583333333333332,
          25.406417112299465,
          23.819444444444443,
          79,
          163.27777777777777,
          23.766666666666666,
          45.51923076923077,
          29.25,
          64.22077922077922,
          71.33333333333333,
          50.38461538461539,
          69.66666666666667,
          55.714285714285715,
          51.75,
          44.67741935483871,
          220.83333333333334,
          16,
          30,
          62,
          519,
          -3,
          38.888888888888886,
          63,
          51.214285714285715,
          53.04761904761905,
          78.5,
          275.48148148148147,
          345.3333333333333,
          311.72727272727275,
          56.083333333333336,
          1,
          75.6923076923077,
          50.291666666666664,
          94,
          43.416666666666664,
          47.48148148148148,
          65.78787878787878,
          82.0909090909091,
          51.75,
          43.166666666666664,
          42.6875,
          51.6,
          77.71428571428571,
          449,
          35.5,
          61.05555555555556,
          217.4,
          65.45454545454545,
          51.6875,
          49,
          319.8,
          71.05882352941177,
          59.4,
          121.87610619469027,
          60,
          57.44444444444444,
          105,
          165.375,
          69,
          58,
          36,
          139,
          115,
          33.93172690763052,
          38.86666666666667,
          44.37096774193548,
          27,
          146.95238095238096,
          84.85714285714286,
          10,
          58.35,
          146.59574468085106,
          7,
          474,
          39.357142857142854,
          165,
          20.666666666666668,
          48.4,
          96.15441176470588,
          157.59574468085106,
          39.98175675675676,
          66,
          349.8125,
          96.63636363636364,
          99.30952380952381,
          139,
          186.61515151515152,
          116.6797385620915,
          64.33333333333333,
          169.57865168539325,
          155.05362776025237,
          747,
          74,
          112,
          40.72222222222222,
          46.6875,
          568.5,
          134.16666666666666,
          20.333333333333332,
          122,
          128.33333333333334,
          52,
          64.5,
          119,
          50,
          23.8,
          173.8679245283019,
          34,
          116,
          62,
          60.588235294117645,
          51.45454545454545,
          224.843853820598,
          32,
          76,
          98,
          154.5625,
          104.16666666666667,
          34.166666666666664,
          28.2,
          35.28125,
          36.5,
          57,
          39.5,
          18.53846153846154,
          156.30769230769232,
          43.09090909090909,
          31.625,
          84.25,
          68.4090909090909,
          53.75,
          43,
          35,
          168.33333333333334,
          0.5,
          119.53846153846153,
          43,
          229.1304347826087,
          188,
          66,
          55.25,
          56.333333333333336,
          146.1978021978022,
          -1.5,
          58.75,
          228.5,
          73,
          69,
          88.8,
          571.6,
          164,
          544.8878504672897,
          16,
          647,
          136,
          220,
          92,
          165,
          62.45454545454545,
          178.75,
          98.04761904761905,
          699,
          369,
          50.625,
          91.75,
          3,
          104,
          52,
          162.85714285714286,
          89,
          34.72727272727273,
          77.14285714285714,
          49.58695652173913,
          373.3076923076923,
          602.1,
          29.73913043478261,
          69,
          99.21875,
          39.9,
          134.57142857142858,
          134.39285714285714,
          30,
          80.5,
          43.2093023255814,
          120.25,
          53,
          49.19230769230769,
          86.44444444444444,
          93.5,
          104,
          15.5,
          169.8846153846154,
          44.224409448818896,
          27.009345794392523,
          30.17386091127098,
          20.31578947368421,
          115,
          53.93103448275862,
          131,
          161.25,
          85.28571428571429,
          43.25,
          35.45744680851064,
          99,
          42.93181818181818,
          148,
          90.54545454545455,
          184.5,
          86.28571428571429,
          127.17647058823529,
          49,
          68.4,
          88,
          58.72727272727273,
          128,
          74,
          96.11111111111111,
          16.2,
          53.2,
          234.3,
          335.68055555555554,
          56.55,
          92.3,
          105,
          28.651515151515152,
          142,
          448.875,
          52.88235294117647,
          117.23529411764706,
          28.904761904761905,
          66.44827586206897,
          245,
          316.40625,
          44,
          107.05555555555556,
          125.125,
          63.01470588235294,
          80.5,
          638,
          24.29787234042553,
          74.84615384615384,
          81,
          957,
          138.70666666666668,
          146,
          65.75,
          312.83870967741933,
          76.75,
          17.904761904761905,
          10,
          3,
          427.5,
          12,
          30.5,
          190.349173553719,
          121.34270216962524,
          99.01522070015221,
          158.65263157894736,
          359.9259259259259,
          7,
          93.7134328358209,
          30.2,
          334,
          70,
          14.590361445783133,
          66.66666666666667,
          98.54545454545455,
          31.97761194029851,
          359.5,
          69.20731707317073,
          54.84615384615385,
          20.571428571428573,
          70.652950310559,
          33.007751937984494,
          52.588235294117645,
          39.59027777777778,
          33.29761904761905,
          24.3953488372093,
          178.032,
          26.509677419354837,
          45.71052631578947,
          53.75,
          60,
          33.5,
          66.78571428571429,
          165.28571428571428,
          38.5,
          31.75,
          27.858974358974358,
          104.84210526315789,
          69.5,
          2.6363636363636362,
          505.42857142857144,
          56.5,
          75.10526315789474,
          65.8,
          41,
          166.91666666666666,
          224.15384615384616,
          18.653225806451612,
          78.2,
          316,
          88.22222222222223,
          135.57142857142858,
          85.13888888888889,
          137.3815028901734,
          684.3061224489796,
          127,
          9.5,
          127.08333333333333,
          116,
          19.93548387096774,
          17.130434782608695,
          48.75,
          82.82352941176471,
          131.25806451612902,
          51.6,
          36.6,
          14.5,
          1,
          878.8333333333334,
          580,
          137.72222222222223,
          41,
          75.77777777777777,
          714,
          4,
          98,
          168,
          17.2,
          -0.40625,
          -3.3333333333333335,
          -4,
          313.72727272727275,
          179,
          94,
          21,
          58.44444444444444,
          93.29310344827586,
          119.46153846153847,
          7,
          221.9090909090909,
          194,
          89.68085106382979,
          0,
          391,
          56.21739130434783,
          61.46666666666667,
          158.23076923076923,
          369.4,
          916,
          398,
          56.1,
          73.75,
          64,
          112.19444444444444,
          44,
          235,
          42,
          46.588235294117645,
          0.6666666666666666,
          93.71428571428571,
          87.18,
          33.5,
          114.88,
          58,
          79,
          45.7,
          388.6875,
          770,
          44,
          61,
          52.23809523809524,
          -0.5,
          71.46938775510205,
          40,
          64.1875,
          53.8,
          47.166666666666664,
          44.5,
          93.4,
          83,
          -2,
          99.46428571428571,
          58.333333333333336,
          77.9047619047619,
          34.8,
          17.5,
          89.93333333333334,
          34.25,
          131.5,
          108,
          83.41666666666667,
          82.66666666666667,
          58.8,
          46.642857142857146,
          21.517857142857142,
          17.75,
          86.83333333333333,
          20.5,
          67.625,
          62.53846153846154,
          61.125,
          65.38095238095238,
          57.5,
          171.8,
          22.5,
          18.53125,
          470,
          113.25,
          -5,
          22.48148148148148,
          -3,
          91.66666666666667,
          163.125,
          303.85714285714283,
          81.5,
          86.25,
          710,
          593.0204081632653,
          52.03333333333333,
          46.6,
          63.96875,
          19.136363636363637,
          99.83333333333333,
          57.111111111111114,
          66,
          60.6,
          28.875,
          663,
          60.2,
          25.333333333333332,
          46.857142857142854,
          2.5,
          5.75,
          60.30909090909091,
          6,
          52.473684210526315,
          63.23076923076923,
          129.71875,
          4,
          94.08163265306122,
          50.69230769230769,
          20.333333333333332,
          65.5,
          74.25,
          95.52427184466019,
          95.64285714285714,
          44.833333333333336,
          95.7939393939394,
          -2.3333333333333335,
          69,
          61.19230769230769,
          82.46153846153847,
          167,
          198.35714285714286,
          41.175141242937855,
          52.5,
          39,
          55.5,
          57,
          83.88888888888889,
          564,
          50.666666666666664,
          37.142857142857146,
          141.5,
          176,
          127,
          98,
          141.33333333333334,
          187,
          60.708333333333336,
          48.8,
          87.57142857142857,
          77,
          98.5,
          -1,
          71.7,
          102.52525252525253,
          42,
          44.9,
          58.166666666666664,
          34.916666666666664,
          108.5,
          424.6666666666667,
          123,
          189.875,
          44,
          50.44827586206897,
          41.25,
          43.5,
          88.86666666666666,
          14.722222222222221,
          20.8,
          44.22222222222222,
          74.0625,
          20.31578947368421,
          83.5,
          93.19845857418112,
          59.5,
          108.51724137931035,
          21.4,
          75.21698113207547,
          127.125,
          122,
          36.4,
          33.3,
          25.25,
          16,
          31,
          148,
          1.5,
          19.333333333333332,
          156.57142857142858,
          90.27272727272727,
          20,
          186.3,
          64.85714285714286,
          34.906976744186046,
          52.55555555555556,
          89,
          81.6,
          257.5,
          41.3801652892562,
          118.2,
          0,
          19,
          202.85714285714286,
          96,
          35,
          41,
          4,
          83.03571428571429,
          70.5,
          50.285714285714285,
          0.6,
          118,
          15.909090909090908,
          57,
          51.285714285714285,
          93.96078431372548,
          89,
          79.66666666666667,
          216,
          93.5,
          106.88461538461539,
          70.25,
          95.64285714285714,
          61,
          66,
          34.166666666666664,
          -2,
          197.5,
          82.66666666666667,
          117.05405405405405,
          32.96782841823056,
          6,
          78.75,
          20.5,
          95.97058823529412,
          61.06666666666667,
          73.03448275862068,
          7,
          74.5,
          45.11290322580645,
          78.63636363636364,
          104.43181818181819,
          62.833333333333336,
          5,
          161.57142857142858,
          40.875,
          68.66666666666667,
          21.5,
          81.875,
          189,
          5.724489795918367,
          105,
          45,
          64.41666666666667,
          97,
          9,
          107.8,
          77.84444444444445,
          5.5,
          96.66666666666667,
          107,
          135,
          31.125,
          38,
          24,
          72.33333333333333,
          19.666666666666668,
          135.44444444444446,
          181,
          143,
          168,
          147.66538461538462,
          57.45454545454545,
          29,
          44.22222222222222,
          222.66666666666666,
          20,
          27,
          69,
          130.25,
          -0.8181818181818182,
          125.1,
          6,
          98,
          15.666666666666666,
          60.6,
          7,
          120.96323529411765,
          95.33333333333333,
          31.5,
          17,
          30.324324324324323,
          7,
          47,
          66,
          94.26666666666667,
          -1,
          26.4375,
          42.09090909090909,
          71.66666666666667,
          15,
          95,
          53.333333333333336,
          12.117647058823529,
          54.5,
          -5,
          134.5,
          9,
          56.5,
          56.25,
          29.7,
          91,
          72,
          15,
          37.666666666666664,
          49.666666666666664,
          50.4,
          80,
          -3.5,
          0.6,
          44,
          50,
          50.666666666666664,
          -2,
          36,
          49,
          24.428571428571427,
          118.5,
          80,
          180.33333333333334,
          35,
          31.5,
          68,
          37.88028169014085,
          33,
          33.327586206896555,
          45.5,
          58.2,
          72.85714285714286,
          -4.5,
          17,
          41,
          -2,
          -1,
          69,
          59.5,
          122.5,
          79.5,
          60,
          142,
          6,
          83,
          6,
          53.888888888888886,
          144.77777777777777,
          35,
          80,
          13.68421052631579,
          89,
          10,
          45.333333333333336,
          3.25,
          95,
          48,
          12.857142857142858,
          41.333333333333336,
          19.714285714285715,
          50.666666666666664,
          49,
          24.666666666666668,
          -1,
          3,
          10,
          2,
          1,
          10,
          22.142857142857142,
          34,
          -2.5,
          84,
          40.666666666666664,
          9,
          111.5,
          68,
          7,
          45.69565217391305,
          6,
          12,
          5,
          48.25,
          5,
          39,
          66,
          45,
          32,
          3,
          42.75,
          5,
          29,
          35,
          4.5,
          10,
          5,
          27,
          4,
          20,
          57,
          -1.3333333333333333,
          -1.2,
          -4,
          5,
          -2,
          4.5,
          23,
          45.5,
          7,
          27,
          20,
          21,
          20,
          7,
          -0.6,
          26,
          -3,
          -2.5,
          40.625,
          7,
          39,
          2,
          17,
          11,
          -4,
          -5,
          -5,
          -1,
          2,
          -2,
          9,
          3,
          -1.5,
          86,
          55.5,
          32.36585365853659,
          25,
          37,
          26.8,
          62.92857142857143,
          46.888888888888886,
          128.5,
          127.26900584795321,
          75.46875,
          59.2,
          43.857142857142854,
          23.17142857142857,
          44.72607322059097,
          153.14285714285714,
          77.61475409836065,
          97.2258064516129,
          41.57142857142857,
          102.91666666666667,
          90.4047619047619,
          73.59290953545232,
          86.97887323943662,
          690,
          170.75
         ],
         "xaxis": "x",
         "y": [
          7,
          15.54226189336368,
          23.610272306178043,
          185.52359293921185,
          28.28208825615662,
          336.0358279761487,
          107.94601146842523,
          15.124083170159167,
          33.96997353317231,
          149.88406993573696,
          23.137271518771033,
          29.861286452050734,
          27.78906051053131,
          68.88015817691036,
          16.01561737804697,
          22.315913604421397,
          31.208059897055403,
          160.27127543458366,
          0,
          15.947831618540919,
          350.1870421723416,
          229.44189013916707,
          83.5580162582791,
          16.33457014488543,
          0,
          194.65717728012666,
          86.73415528959504,
          0,
          41.86870693739268,
          40.69340373587657,
          163.041377647967,
          188.55953966850893,
          12.24671967741333,
          273.2257076191084,
          8.370583412562521,
          82.73149339882606,
          104.64879421125755,
          18.53956769846939,
          0,
          62.32736156777375,
          22.06007197514574,
          28.698432012916665,
          40.19528174377455,
          46.58408443961223,
          169.30220366947805,
          101.39492124680014,
          10.606601717798213,
          33.94915985036235,
          102.55440625442307,
          150.4659103050735,
          12.68905879641881,
          90.51154503678653,
          18.137349727826873,
          19.55754782992051,
          17.782013384316187,
          79.86930274276193,
          62.280245908372436,
          24.576411454889016,
          43.47029637196722,
          60.51030710459173,
          101.49696953566304,
          34.87334508802475,
          265.1058563656509,
          111.72287142747452,
          27.026720278690053,
          26.16321528390758,
          16.186414056238647,
          66.47932081217448,
          0,
          254.61664858341263,
          41.012193308819754,
          29.55005723095881,
          0,
          11.532562594670797,
          71.14870206038934,
          172.00872070915474,
          15.545524899710864,
          94.70752956583013,
          0,
          17.67766952966369,
          110.80420179546955,
          65.7709524168396,
          323.85148751028606,
          96.07827794994643,
          279.9608387347617,
          294.33942991043523,
          205.30446566105593,
          17.65597160547483,
          0,
          31.5,
          51.064273225024955,
          21.228018934389233,
          72.39251872726055,
          21.175699667549512,
          22.951366532269724,
          230.25338386813348,
          161.23572389049292,
          16.66483524883963,
          25.774017925034503,
          173.7715965879218,
          155.62528961974903,
          13.740797786501476,
          40.687153309668204,
          5.674504383644443,
          7.7781745930520225,
          26.16295090390226,
          31.11269837220809,
          20.290105477342653,
          0,
          0,
          66.23357982756326,
          0,
          130.0977945127113,
          81.74229133029787,
          13.102048445544225,
          0,
          142.52282154310632,
          4.242640687119285,
          182.39435298276098,
          3.7859388972001833,
          175.36519496637942,
          24.118420497489744,
          37.142468050084545,
          10.940586299254193,
          29.3226564590963,
          22.832165635581294,
          0,
          18.672546848395246,
          44.72894400019465,
          33.90939256627168,
          28.978152690144576,
          0.7071067811865476,
          12.609219811012268,
          7.7781745930520225,
          11.805130711309854,
          14.066311211938656,
          14.240786495134317,
          0,
          108.91465254253688,
          11.367048633165602,
          152.6834961611765,
          25.977775832324266,
          35.69683119267784,
          69.43127679844385,
          21.213203435596427,
          4.31767338192702,
          10.533393610436333,
          0,
          0,
          13.014342443769392,
          20.678491240900534,
          17.439520573343014,
          181.2897006328698,
          250.51170905484165,
          43.69115089656791,
          3.8172540616821125,
          254.90517791949046,
          146.86919953013884,
          0,
          35.97876428535158,
          39.27976578341576,
          0,
          27.32806911992433,
          19.31986394509917,
          130.59277440682823,
          0,
          0,
          23.000724626266308,
          12.843935014888025,
          119.5,
          3.5355339059327378,
          0.7071067811865476,
          20,
          30.787110189918018,
          0,
          52.58136552049595,
          0,
          4.131758532565592,
          0,
          0,
          11.90773352267588,
          11.006491591004698,
          8.15728573370521,
          25.930698002581785,
          18.508685219956295,
          4.97686957526825,
          46.540556419244346,
          11.304374767712225,
          2.380476142847616,
          0,
          29.10090625905041,
          14.323494685306377,
          0,
          10.688779163215978,
          7.132936834066868,
          76.4979065335576,
          0,
          78.08731617470546,
          1.0690449676496985,
          38.10639131759397,
          37.90546498016241,
          23.087594873373813,
          8.144527815247079,
          158.32728755163276,
          13.598563099362629,
          0,
          28.688691543351958,
          0,
          17.240954686058824,
          16.44177190772397,
          61.248061296871676,
          417.5331861522645,
          14.827676208286752,
          0,
          61.10537346802379,
          11.066896153673374,
          31.89043743820395,
          252.16987105636207,
          21.213203435596427,
          0,
          386.200131458369,
          18.063775906493085,
          0,
          54.029840694280466,
          174.021377414419,
          32.11929517917567,
          0,
          28.691862398402815,
          47.57305898749229,
          409.7698879994858,
          38.18975669390772,
          21.275679670801246,
          61.4172885540654,
          17.57333974912781,
          11.319599521773434,
          332.2684657522187,
          42.5,
          47.24757489367399,
          21.280309019297984,
          136.4391477019738,
          211.3153514957628,
          0,
          0,
          0,
          11.080513425729775,
          64.48239214005554,
          85.23579790022819,
          0,
          33.74352196126087,
          0,
          0,
          16.621225932979534,
          11.784961630848203,
          10.472400196907778,
          11.357816691600547,
          64.75638106695655,
          19.644571652298733,
          45.13964840603227,
          18.122269909331635,
          40.538358500451665,
          22.177604781539277,
          14.1686672351961,
          34.2088062381958,
          12.073037801574289,
          28.293108701590217,
          15.934003675105625,
          327.58963150055075,
          0,
          16.779617264870957,
          25.45584412271571,
          0,
          1.4142135623730951,
          11.730776236511849,
          2.8284271247461903,
          10.070356890998845,
          29.370863437216467,
          28.30194339616981,
          198.9055121855042,
          243.1508448131187,
          273.5511253528638,
          57.68796681415904,
          0,
          58.063735979503036,
          18.338553275323658,
          0,
          25.60216815999679,
          14.666472415186043,
          28.809457622191506,
          10.245636338122878,
          42.902214395063574,
          22.98400978685732,
          41.607240956352776,
          10.280355747040774,
          11.996031089688035,
          6.683312551921135,
          45.96194077712559,
          26.23305553332244,
          250.95378060511462,
          35.88973010866378,
          18.153856339632082,
          2,
          223.7938783791907,
          13.10281738899737,
          13.24009063413087,
          51.94315793375946,
          13.540064007726599,
          15.314299780851156,
          0,
          27.61370432713923,
          19.05255888325765,
          1.4142135623730951,
          12.1420167776433,
          0,
          0,
          22.89349810477872,
          18.520581532406236,
          27.70091945934756,
          0,
          92.28622659447952,
          31.51416914885838,
          20.93527440196842,
          12.179685416385155,
          19.98875724704317,
          0,
          0,
          4.908503498359413,
          0,
          11.129540272026814,
          10.04655828298096,
          19.127981704713665,
          137.25819944553726,
          12.528655658050209,
          14.000000000000002,
          261.6196268758647,
          37.26465544526805,
          23.49103419546679,
          42.42640687119285,
          39.07370185980139,
          59.48414799834572,
          19.974225816529085,
          86.18418716879442,
          39.81587719726368,
          22.627416997969522,
          0,
          31.11269837220809,
          19.426499656111208,
          17.168648752886757,
          13.435028842544403,
          31.541699191368686,
          14.080719678577037,
          0,
          22.722969289539016,
          2.449489742783178,
          12.020815280171307,
          0,
          35.35533905932738,
          17.930730914023307,
          122.94567716188418,
          28.284271247461902,
          35.71605190437996,
          0,
          14.811561461951824,
          5.4472678723124375,
          39.42442817719186,
          0,
          34.39476704383968,
          0,
          22.95493774042236,
          181.2991082897725,
          19.104100781420378,
          9.65861733836106,
          18.948545565089102,
          13.397761006974262,
          0,
          6.328945848682508,
          14.552292972903986,
          31.428184313300207,
          10.79642397105498,
          17.36941071457027,
          22.4258035902098,
          16.64091083504486,
          45.434018092174064,
          0,
          0,
          85.17237423797305,
          3.5118845842842465,
          14.607479643609349,
          21.67025611293046,
          138.27058595634668,
          0,
          0,
          3.774917217635374,
          7.1414284285428495,
          76.66003156508897,
          0.7071067811865476,
          4.527692569068707,
          82.73149339882606,
          9.899494936611665,
          0,
          16.897074039936946,
          59.35739212600229,
          0,
          367.467963617182,
          15.588457268119896,
          0,
          0,
          312.54119728445403,
          35.35533905932738,
          214.69979040511427,
          49.021145715626915,
          36.700363304287144,
          31.785965756094612,
          21.213203435596427,
          515.0698981691709,
          47.50620260254745,
          50.400892849234324,
          0,
          0,
          1.4142135623730951,
          50.33033734382134,
          20.912516188477493,
          24.662079835613657,
          30.73233135439273,
          36.22250748235382,
          268.3226865223366,
          190.46869092378995,
          34.987293006701144,
          20.813457185196313,
          12.800540248175514,
          29.076336312082603,
          225.7537533306083,
          97.6772232769234,
          3.7416573867739413,
          61.518289963229634,
          18.17973510668624,
          26.762847382145274,
          0,
          8.975607971694089,
          9.619136020338713,
          101.20029644225357,
          27.679715798155634,
          20.304106893846793,
          154.67548659644214,
          52.46173429023594,
          18.4286444352329,
          20.251770339459014,
          15.527941237148198,
          25.238858928247925,
          22.876892637523312,
          48.08326112068523,
          59.21986877005772,
          32.64309159028031,
          4.5,
          11.05476581274156,
          64.49030934954492,
          30.210422214686293,
          0,
          98.74144381804797,
          13.435028842544403,
          100.09951092743704,
          135.7099415492252,
          0,
          119.38215043182389,
          0,
          32.229095360215176,
          0,
          0,
          19.719561635875962,
          42.637490024103855,
          7.463243262818116,
          34.59563796476534,
          0.9492544499975186,
          56.89091593382439,
          86.78331892964479,
          3.4641016151377544,
          22.65153581089094,
          39.56429366655411,
          27.115823003236635,
          50.16582795207957,
          61.54109702821992,
          11.605622611065558,
          51.00814259518067,
          377.23820944685156,
          261.6260545387673,
          0,
          18.521496782005592,
          38.59339321697433,
          99.42550737741469,
          2.8834503141697705,
          169.85287751463028,
          11.238356087460753,
          10.106484336356813,
          32.863353450309965,
          0,
          54.0374678156548,
          0,
          47.67511580129268,
          272.7354147367241,
          38.46816865929544,
          32.62653025055647,
          0,
          0,
          24.623836689950117,
          0,
          48.79036790187178,
          245.08520506670075,
          177.00294304353835,
          27.233348229367806,
          99.84943648516689,
          122.06931382996052,
          14.370107863199914,
          20.89713110644036,
          18.056261280469208,
          11.313708498984761,
          0,
          16.58020870192746,
          11.430952132988162,
          19.276103906603684,
          14.634609032759629,
          499.9244942988891,
          51.42049785951557,
          82.98422869159212,
          12.817398889233115,
          86.31726173088767,
          21.133629358635662,
          35.855932338149685,
          20.36236646038033,
          21.55563256941407,
          13.040449055669342,
          107.51030978318971,
          11.652639042230428,
          16.252282989642023,
          25.5,
          38.05785070126793,
          2.1213203435596424,
          37.777474321843776,
          20.846376869169106,
          24.849547279578356,
          7.5,
          14.131777177946383,
          132.1178034066396,
          26.564387187862373,
          2.1105794120443453,
          275.11807654888116,
          16.263455967290593,
          13.01663353321479,
          25.7332469774026,
          0,
          70.63158945239324,
          103.6901201930108,
          13.684626918546826,
          41.55357986984996,
          0,
          31.56254812977629,
          198.6478099072637,
          47.769776923297314,
          119.73150245079,
          104.0851422477517,
          0,
          2.1213203435596424,
          208.89458890876594,
          0,
          45.525037421819476,
          23.785603644041966,
          20.21665063661543,
          166.64829555613431,
          139.6595784379373,
          6.024948132556826,
          8.876936408468858,
          4.949747468305833,
          0,
          35.90218192069483,
          100.45894683899488,
          72.61324263890126,
          0,
          50.11431376806874,
          168.29661315665268,
          0,
          0,
          0,
          28.647862049374645,
          3.221494093359227,
          1.1547005383792515,
          0,
          57.7825075764126,
          0,
          34.22474738158535,
          8.04155872120988,
          11.822765233978801,
          27.847027604078335,
          29.688986130144254,
          14.764823060233402,
          112.88175631646997,
          0,
          25.360107652167205,
          0,
          459.0130717092924,
          19.86764505818701,
          65.52269063847841,
          117.28997257132639,
          232.5828884505479,
          0,
          17.435595774162692,
          24.10699832872298,
          27.10934648173332,
          19.05255888325765,
          208.7843479963332,
          0,
          21.213203435596427,
          19.157244060668017,
          41.28265196109833,
          3.7859388972001824,
          63.17360811212829,
          68.78321164413327,
          10.606601717798213,
          56.26671603473348,
          27.329013886344306,
          0,
          5.716448003592596,
          190.08307818662664,
          0,
          20.8806130178211,
          5.196152422706632,
          36.1689158835384,
          1.6431676725154984,
          46.42426719975247,
          16.368355962743383,
          50.79858323377294,
          41.69172579781269,
          47.769966474446015,
          6.363961030678928,
          6.024948132556826,
          0,
          0,
          61.44644289066164,
          2.5166114784235822,
          11.361798985656987,
          19.221754916473298,
          0.7071067811865476,
          59.03211760635823,
          4.5,
          14.788509052639483,
          72.74613391789285,
          11.927495609521365,
          4.04145188432738,
          18.989470766717012,
          17.92122567433181,
          11.552238777796312,
          7.55456342692472,
          41.542603177796636,
          0.7071067811865476,
          31.905832426958284,
          46.32604628179016,
          65.59276419153042,
          72.02254937898005,
          5.879747322073338,
          36.83340874803743,
          4.949747468305833,
          49.206598282304874,
          0,
          51.5,
          0,
          15.824446448868454,
          0,
          58.79058881601147,
          15.008925915696203,
          255.12247292325344,
          18.62793601019716,
          74.5,
          0,
          63.00809795703457,
          18.32933080655407,
          8.502940667792526,
          28.597861836383906,
          13.054083304050534,
          17.19786808493037,
          14.970341048590413,
          0,
          2.190890230020664,
          15.770111875678895,
          0,
          46.10326573151962,
          21.69764684909124,
          7.244045173533258,
          4.949747468305833,
          1.2583057392117916,
          1.550062451223693,
          0,
          84.17664523096167,
          60.09874353394565,
          37.00064025165319,
          0,
          44.88217757579926,
          9.339741389929875,
          16.258331197676267,
          21.920310216782973,
          13.5,
          80.75839598920291,
          45.410278644745254,
          28.05784069101584,
          50.048817262614214,
          1.632993161855452,
          113.02322770121192,
          11.868624747360796,
          10.243822403570725,
          0,
          150.37113427110276,
          51.719719435927665,
          60.10407640085654,
          0,
          12.020815280171307,
          28.284271247461902,
          21.647427355487558,
          0,
          47.71093515467217,
          30.709199681120722,
          58.68986283848344,
          0,
          76.64637412602548,
          0,
          43.385865593915874,
          0,
          30.794521204783884,
          19.498717906570164,
          75.38385287795573,
          12.355835328567093,
          34.952348514322566,
          0,
          34.37069164920084,
          39.70306712933394,
          0,
          33.85081650090257,
          32.49871792342994,
          9.783644360344306,
          2.1213203435596424,
          14.933184523068073,
          20.8463768691691,
          42.605960347618705,
          33.91164991562634,
          25.77178164318562,
          12.919623317522328,
          9.192388155425117,
          36.482611644192254,
          8.910044269749106,
          22.449006542313676,
          18.525507940254823,
          37.50994312623432,
          20.182645547265345,
          3.6742346141747673,
          37.20673120606364,
          42.2729227756965,
          41.929039280376664,
          2.8362729848243533,
          18.775873433227893,
          100.40841598192853,
          0,
          23.586012804202408,
          11.173747427740944,
          13.997448747131436,
          2.8284271247461903,
          0,
          53.2603667530244,
          0.7071067811865476,
          9.814954576223638,
          104.654943231828,
          24.99939393204757,
          10.392304845413264,
          74.59825735230012,
          29.481228894719724,
          38.23784017620019,
          15.709162223930905,
          1.4142135623730951,
          76.29416753592636,
          290.62088706767105,
          24.490221245205575,
          128.46080249546074,
          1,
          0,
          25.86135193313613,
          110.36368450329509,
          1,
          12.806248474865697,
          0,
          18.18929710298145,
          45.96194077712559,
          15.929791014267629,
          6.045068828628599,
          0,
          13.780091040733698,
          0,
          41.71216563431779,
          37.320750680721154,
          1.7320508075688772,
          14.57166199626293,
          220.61731573020282,
          55.68945851302277,
          71.53758560257785,
          15.62735696508804,
          20.144123567078175,
          0,
          17.349351572897472,
          5.424411712272809,
          0,
          16.263455967290593,
          37.43438704364389,
          59.97543290842137,
          22.873636861730326,
          0,
          84.52760890186512,
          9.516902257112267,
          82.80114378294968,
          23.95254253279411,
          34.02360814684487,
          0,
          45.96194077712559,
          45.01843150354821,
          24.78012399998324,
          39.38917200241637,
          28.42123619173991,
          0,
          119.77876431551789,
          4.882549100038392,
          47.92007234273893,
          12.020815280171307,
          19.460124063618622,
          22.627416997969522,
          9.324372909176214,
          39.59797974644666,
          0,
          15.675448860230352,
          0,
          9.128709291752768,
          98.9100601556788,
          58.136577265621824,
          0.7071067811865476,
          32.65986323710904,
          25.534290669607408,
          142.8355697996826,
          17.787937325213235,
          26.60826939130014,
          0,
          35.21548070523549,
          21.96967607104544,
          38.66558906544394,
          18.384776310850235,
          30.71644510681534,
          9.899494936611665,
          73.25530245442533,
          20.378241515712958,
          0,
          33.41272596497114,
          85.11364951248027,
          4.242640687119285,
          0,
          0,
          17.5,
          0.6030226891555273,
          56.30166762874593,
          11.313708498984761,
          0,
          10.598742063723098,
          22.378561169118985,
          0,
          30.549391237975488,
          33.020195840323744,
          18.448125469362285,
          0,
          18.353101545415598,
          0,
          59.39696961966999,
          0,
          24.848413996891622,
          1,
          15.836534764061657,
          6.284179269475775,
          20.207259421636902,
          1.4142135623730951,
          0,
          28.53652630109932,
          20.254266072056208,
          7.503332592921628,
          0,
          61.518289963229634,
          0,
          17.10847743079436,
          12.816005617976296,
          28.921541375859544,
          13.999999999999998,
          0,
          0,
          8.477420991472975,
          5.507570547286102,
          16.269945024833707,
          0,
          0.7071067811865476,
          2.073644135332772,
          7.0710678118654755,
          0,
          11.547005383792516,
          0,
          0,
          59.39696961966999,
          17.405527310379913,
          30.405591591021544,
          0,
          38.68246803570492,
          0,
          0.7071067811865476,
          13.038404810405298,
          25.12676581265038,
          7.0710678118654755,
          22.866256081099436,
          14.433756729740644,
          46.25057609883021,
          19.187049203638818,
          1,
          0,
          10.353743284435827,
          0,
          0,
          0,
          4.949747468305833,
          6.363961030678928,
          17.67766952966369,
          0,
          0,
          0,
          0,
          0,
          11.395661942647783,
          294.4613338355021,
          0,
          58.66003750424986,
          24.785866563155498,
          51.96152422706632,
          0,
          3.7859388972001833,
          5.5,
          8.48528137423857,
          39.66106403010388,
          19.986900471963892,
          11.360751148875089,
          15.723806639554407,
          23.45918441321721,
          20.506096654409877,
          6.713171133426188,
          0,
          0,
          0,
          0,
          0,
          0,
          10.253919111386493,
          25.612496949731394,
          3.5355339059327378,
          0,
          7.952986860293433,
          1.732050807568878,
          17,
          8.48528137423857,
          0,
          18.482017753404364,
          0,
          0,
          0,
          10.5,
          0,
          12.12435565298214,
          0,
          12.727922061357855,
          0,
          0,
          4.5,
          11.726039399558575,
          0,
          0,
          4.949747468305833,
          0,
          0,
          0,
          0,
          32.526911934581186,
          0,
          0.5773502691896258,
          1.6431676725154982,
          1.4142135623730951,
          7.54983443527075,
          0,
          3.5032452487268535,
          0,
          6.363961030678928,
          0,
          17.795130420052185,
          0,
          0,
          0,
          0,
          0.894427190999916,
          0,
          0,
          2.1213203435596424,
          17.687263375499494,
          0,
          0,
          1.4142135623730951,
          0,
          0,
          0,
          0,
          0,
          0,
          2.8284271247461903,
          0,
          2.8284271247461903,
          0,
          0.5773502691896257,
          54.4426303552648,
          25.630429550027415,
          33.371961357973085,
          0,
          0,
          1.9235384061671343,
          9.25885958616054,
          34.48349041369088,
          24.02021207723392,
          10.095900662264787,
          32.974241389880305,
          43.64706939379398,
          29.128614633658607,
          4.823262956362474,
          35.9920794465406,
          54.139218179199304,
          64.07994061156741,
          45.98167002724698,
          42.78032075798222,
          77.70948645895355,
          51.72868219988839,
          66.03462834457574,
          45.34289662007392,
          0,
          84.5
         ],
         "yaxis": "y"
        }
       ],
       "layout": {
        "coloraxis": {
         "colorbar": {
          "title": {
           "text": "cluster_id"
          }
         },
         "colorscale": [
          [
           0,
           "#0d0887"
          ],
          [
           0.1111111111111111,
           "#46039f"
          ],
          [
           0.2222222222222222,
           "#7201a8"
          ],
          [
           0.3333333333333333,
           "#9c179e"
          ],
          [
           0.4444444444444444,
           "#bd3786"
          ],
          [
           0.5555555555555556,
           "#d8576b"
          ],
          [
           0.6666666666666666,
           "#ed7953"
          ],
          [
           0.7777777777777778,
           "#fb9f3a"
          ],
          [
           0.8888888888888888,
           "#fdca26"
          ],
          [
           1,
           "#f0f921"
          ]
         ]
        },
        "legend": {
         "tracegroupgap": 0
        },
        "template": {
         "data": {
          "bar": [
           {
            "error_x": {
             "color": "#2a3f5f"
            },
            "error_y": {
             "color": "#2a3f5f"
            },
            "marker": {
             "line": {
              "color": "#E5ECF6",
              "width": 0.5
             },
             "pattern": {
              "fillmode": "overlay",
              "size": 10,
              "solidity": 0.2
             }
            },
            "type": "bar"
           }
          ],
          "barpolar": [
           {
            "marker": {
             "line": {
              "color": "#E5ECF6",
              "width": 0.5
             },
             "pattern": {
              "fillmode": "overlay",
              "size": 10,
              "solidity": 0.2
             }
            },
            "type": "barpolar"
           }
          ],
          "carpet": [
           {
            "aaxis": {
             "endlinecolor": "#2a3f5f",
             "gridcolor": "white",
             "linecolor": "white",
             "minorgridcolor": "white",
             "startlinecolor": "#2a3f5f"
            },
            "baxis": {
             "endlinecolor": "#2a3f5f",
             "gridcolor": "white",
             "linecolor": "white",
             "minorgridcolor": "white",
             "startlinecolor": "#2a3f5f"
            },
            "type": "carpet"
           }
          ],
          "choropleth": [
           {
            "colorbar": {
             "outlinewidth": 0,
             "ticks": ""
            },
            "type": "choropleth"
           }
          ],
          "contour": [
           {
            "colorbar": {
             "outlinewidth": 0,
             "ticks": ""
            },
            "colorscale": [
             [
              0,
              "#0d0887"
             ],
             [
              0.1111111111111111,
              "#46039f"
             ],
             [
              0.2222222222222222,
              "#7201a8"
             ],
             [
              0.3333333333333333,
              "#9c179e"
             ],
             [
              0.4444444444444444,
              "#bd3786"
             ],
             [
              0.5555555555555556,
              "#d8576b"
             ],
             [
              0.6666666666666666,
              "#ed7953"
             ],
             [
              0.7777777777777778,
              "#fb9f3a"
             ],
             [
              0.8888888888888888,
              "#fdca26"
             ],
             [
              1,
              "#f0f921"
             ]
            ],
            "type": "contour"
           }
          ],
          "contourcarpet": [
           {
            "colorbar": {
             "outlinewidth": 0,
             "ticks": ""
            },
            "type": "contourcarpet"
           }
          ],
          "heatmap": [
           {
            "colorbar": {
             "outlinewidth": 0,
             "ticks": ""
            },
            "colorscale": [
             [
              0,
              "#0d0887"
             ],
             [
              0.1111111111111111,
              "#46039f"
             ],
             [
              0.2222222222222222,
              "#7201a8"
             ],
             [
              0.3333333333333333,
              "#9c179e"
             ],
             [
              0.4444444444444444,
              "#bd3786"
             ],
             [
              0.5555555555555556,
              "#d8576b"
             ],
             [
              0.6666666666666666,
              "#ed7953"
             ],
             [
              0.7777777777777778,
              "#fb9f3a"
             ],
             [
              0.8888888888888888,
              "#fdca26"
             ],
             [
              1,
              "#f0f921"
             ]
            ],
            "type": "heatmap"
           }
          ],
          "heatmapgl": [
           {
            "colorbar": {
             "outlinewidth": 0,
             "ticks": ""
            },
            "colorscale": [
             [
              0,
              "#0d0887"
             ],
             [
              0.1111111111111111,
              "#46039f"
             ],
             [
              0.2222222222222222,
              "#7201a8"
             ],
             [
              0.3333333333333333,
              "#9c179e"
             ],
             [
              0.4444444444444444,
              "#bd3786"
             ],
             [
              0.5555555555555556,
              "#d8576b"
             ],
             [
              0.6666666666666666,
              "#ed7953"
             ],
             [
              0.7777777777777778,
              "#fb9f3a"
             ],
             [
              0.8888888888888888,
              "#fdca26"
             ],
             [
              1,
              "#f0f921"
             ]
            ],
            "type": "heatmapgl"
           }
          ],
          "histogram": [
           {
            "marker": {
             "pattern": {
              "fillmode": "overlay",
              "size": 10,
              "solidity": 0.2
             }
            },
            "type": "histogram"
           }
          ],
          "histogram2d": [
           {
            "colorbar": {
             "outlinewidth": 0,
             "ticks": ""
            },
            "colorscale": [
             [
              0,
              "#0d0887"
             ],
             [
              0.1111111111111111,
              "#46039f"
             ],
             [
              0.2222222222222222,
              "#7201a8"
             ],
             [
              0.3333333333333333,
              "#9c179e"
             ],
             [
              0.4444444444444444,
              "#bd3786"
             ],
             [
              0.5555555555555556,
              "#d8576b"
             ],
             [
              0.6666666666666666,
              "#ed7953"
             ],
             [
              0.7777777777777778,
              "#fb9f3a"
             ],
             [
              0.8888888888888888,
              "#fdca26"
             ],
             [
              1,
              "#f0f921"
             ]
            ],
            "type": "histogram2d"
           }
          ],
          "histogram2dcontour": [
           {
            "colorbar": {
             "outlinewidth": 0,
             "ticks": ""
            },
            "colorscale": [
             [
              0,
              "#0d0887"
             ],
             [
              0.1111111111111111,
              "#46039f"
             ],
             [
              0.2222222222222222,
              "#7201a8"
             ],
             [
              0.3333333333333333,
              "#9c179e"
             ],
             [
              0.4444444444444444,
              "#bd3786"
             ],
             [
              0.5555555555555556,
              "#d8576b"
             ],
             [
              0.6666666666666666,
              "#ed7953"
             ],
             [
              0.7777777777777778,
              "#fb9f3a"
             ],
             [
              0.8888888888888888,
              "#fdca26"
             ],
             [
              1,
              "#f0f921"
             ]
            ],
            "type": "histogram2dcontour"
           }
          ],
          "mesh3d": [
           {
            "colorbar": {
             "outlinewidth": 0,
             "ticks": ""
            },
            "type": "mesh3d"
           }
          ],
          "parcoords": [
           {
            "line": {
             "colorbar": {
              "outlinewidth": 0,
              "ticks": ""
             }
            },
            "type": "parcoords"
           }
          ],
          "pie": [
           {
            "automargin": true,
            "type": "pie"
           }
          ],
          "scatter": [
           {
            "fillpattern": {
             "fillmode": "overlay",
             "size": 10,
             "solidity": 0.2
            },
            "type": "scatter"
           }
          ],
          "scatter3d": [
           {
            "line": {
             "colorbar": {
              "outlinewidth": 0,
              "ticks": ""
             }
            },
            "marker": {
             "colorbar": {
              "outlinewidth": 0,
              "ticks": ""
             }
            },
            "type": "scatter3d"
           }
          ],
          "scattercarpet": [
           {
            "marker": {
             "colorbar": {
              "outlinewidth": 0,
              "ticks": ""
             }
            },
            "type": "scattercarpet"
           }
          ],
          "scattergeo": [
           {
            "marker": {
             "colorbar": {
              "outlinewidth": 0,
              "ticks": ""
             }
            },
            "type": "scattergeo"
           }
          ],
          "scattergl": [
           {
            "marker": {
             "colorbar": {
              "outlinewidth": 0,
              "ticks": ""
             }
            },
            "type": "scattergl"
           }
          ],
          "scattermapbox": [
           {
            "marker": {
             "colorbar": {
              "outlinewidth": 0,
              "ticks": ""
             }
            },
            "type": "scattermapbox"
           }
          ],
          "scatterpolar": [
           {
            "marker": {
             "colorbar": {
              "outlinewidth": 0,
              "ticks": ""
             }
            },
            "type": "scatterpolar"
           }
          ],
          "scatterpolargl": [
           {
            "marker": {
             "colorbar": {
              "outlinewidth": 0,
              "ticks": ""
             }
            },
            "type": "scatterpolargl"
           }
          ],
          "scatterternary": [
           {
            "marker": {
             "colorbar": {
              "outlinewidth": 0,
              "ticks": ""
             }
            },
            "type": "scatterternary"
           }
          ],
          "surface": [
           {
            "colorbar": {
             "outlinewidth": 0,
             "ticks": ""
            },
            "colorscale": [
             [
              0,
              "#0d0887"
             ],
             [
              0.1111111111111111,
              "#46039f"
             ],
             [
              0.2222222222222222,
              "#7201a8"
             ],
             [
              0.3333333333333333,
              "#9c179e"
             ],
             [
              0.4444444444444444,
              "#bd3786"
             ],
             [
              0.5555555555555556,
              "#d8576b"
             ],
             [
              0.6666666666666666,
              "#ed7953"
             ],
             [
              0.7777777777777778,
              "#fb9f3a"
             ],
             [
              0.8888888888888888,
              "#fdca26"
             ],
             [
              1,
              "#f0f921"
             ]
            ],
            "type": "surface"
           }
          ],
          "table": [
           {
            "cells": {
             "fill": {
              "color": "#EBF0F8"
             },
             "line": {
              "color": "white"
             }
            },
            "header": {
             "fill": {
              "color": "#C8D4E3"
             },
             "line": {
              "color": "white"
             }
            },
            "type": "table"
           }
          ]
         },
         "layout": {
          "annotationdefaults": {
           "arrowcolor": "#2a3f5f",
           "arrowhead": 0,
           "arrowwidth": 1
          },
          "autotypenumbers": "strict",
          "coloraxis": {
           "colorbar": {
            "outlinewidth": 0,
            "ticks": ""
           }
          },
          "colorscale": {
           "diverging": [
            [
             0,
             "#8e0152"
            ],
            [
             0.1,
             "#c51b7d"
            ],
            [
             0.2,
             "#de77ae"
            ],
            [
             0.3,
             "#f1b6da"
            ],
            [
             0.4,
             "#fde0ef"
            ],
            [
             0.5,
             "#f7f7f7"
            ],
            [
             0.6,
             "#e6f5d0"
            ],
            [
             0.7,
             "#b8e186"
            ],
            [
             0.8,
             "#7fbc41"
            ],
            [
             0.9,
             "#4d9221"
            ],
            [
             1,
             "#276419"
            ]
           ],
           "sequential": [
            [
             0,
             "#0d0887"
            ],
            [
             0.1111111111111111,
             "#46039f"
            ],
            [
             0.2222222222222222,
             "#7201a8"
            ],
            [
             0.3333333333333333,
             "#9c179e"
            ],
            [
             0.4444444444444444,
             "#bd3786"
            ],
            [
             0.5555555555555556,
             "#d8576b"
            ],
            [
             0.6666666666666666,
             "#ed7953"
            ],
            [
             0.7777777777777778,
             "#fb9f3a"
            ],
            [
             0.8888888888888888,
             "#fdca26"
            ],
            [
             1,
             "#f0f921"
            ]
           ],
           "sequentialminus": [
            [
             0,
             "#0d0887"
            ],
            [
             0.1111111111111111,
             "#46039f"
            ],
            [
             0.2222222222222222,
             "#7201a8"
            ],
            [
             0.3333333333333333,
             "#9c179e"
            ],
            [
             0.4444444444444444,
             "#bd3786"
            ],
            [
             0.5555555555555556,
             "#d8576b"
            ],
            [
             0.6666666666666666,
             "#ed7953"
            ],
            [
             0.7777777777777778,
             "#fb9f3a"
            ],
            [
             0.8888888888888888,
             "#fdca26"
            ],
            [
             1,
             "#f0f921"
            ]
           ]
          },
          "colorway": [
           "#636efa",
           "#EF553B",
           "#00cc96",
           "#ab63fa",
           "#FFA15A",
           "#19d3f3",
           "#FF6692",
           "#B6E880",
           "#FF97FF",
           "#FECB52"
          ],
          "font": {
           "color": "#2a3f5f"
          },
          "geo": {
           "bgcolor": "white",
           "lakecolor": "white",
           "landcolor": "#E5ECF6",
           "showlakes": true,
           "showland": true,
           "subunitcolor": "white"
          },
          "hoverlabel": {
           "align": "left"
          },
          "hovermode": "closest",
          "mapbox": {
           "style": "light"
          },
          "paper_bgcolor": "white",
          "plot_bgcolor": "#E5ECF6",
          "polar": {
           "angularaxis": {
            "gridcolor": "white",
            "linecolor": "white",
            "ticks": ""
           },
           "bgcolor": "#E5ECF6",
           "radialaxis": {
            "gridcolor": "white",
            "linecolor": "white",
            "ticks": ""
           }
          },
          "scene": {
           "xaxis": {
            "backgroundcolor": "#E5ECF6",
            "gridcolor": "white",
            "gridwidth": 2,
            "linecolor": "white",
            "showbackground": true,
            "ticks": "",
            "zerolinecolor": "white"
           },
           "yaxis": {
            "backgroundcolor": "#E5ECF6",
            "gridcolor": "white",
            "gridwidth": 2,
            "linecolor": "white",
            "showbackground": true,
            "ticks": "",
            "zerolinecolor": "white"
           },
           "zaxis": {
            "backgroundcolor": "#E5ECF6",
            "gridcolor": "white",
            "gridwidth": 2,
            "linecolor": "white",
            "showbackground": true,
            "ticks": "",
            "zerolinecolor": "white"
           }
          },
          "shapedefaults": {
           "line": {
            "color": "#2a3f5f"
           }
          },
          "ternary": {
           "aaxis": {
            "gridcolor": "white",
            "linecolor": "white",
            "ticks": ""
           },
           "baxis": {
            "gridcolor": "white",
            "linecolor": "white",
            "ticks": ""
           },
           "bgcolor": "#E5ECF6",
           "caxis": {
            "gridcolor": "white",
            "linecolor": "white",
            "ticks": ""
           }
          },
          "title": {
           "x": 0.05
          },
          "xaxis": {
           "automargin": true,
           "gridcolor": "white",
           "linecolor": "white",
           "ticks": "",
           "title": {
            "standoff": 15
           },
           "zerolinecolor": "white",
           "zerolinewidth": 2
          },
          "yaxis": {
           "automargin": true,
           "gridcolor": "white",
           "linecolor": "white",
           "ticks": "",
           "title": {
            "standoff": 15
           },
           "zerolinecolor": "white",
           "zerolinewidth": 2
          }
         }
        },
        "title": {
         "text": "Clusters - Mean Payment Time vs Std Dev Payment Time"
        },
        "xaxis": {
         "anchor": "y",
         "domain": [
          0,
          1
         ],
         "title": {
          "text": "Mean Payment Time"
         }
        },
        "yaxis": {
         "anchor": "x",
         "domain": [
          0,
          1
         ],
         "title": {
          "text": "Std Dev Payment Time"
         }
        }
       }
      },
      "text/html": [
       "<div>                            <div id=\"9447fd17-54fd-4924-ade7-a2c361a804d7\" class=\"plotly-graph-div\" style=\"height:525px; width:100%;\"></div>            <script type=\"text/javascript\">                require([\"plotly\"], function(Plotly) {                    window.PLOTLYENV=window.PLOTLYENV || {};                                    if (document.getElementById(\"9447fd17-54fd-4924-ade7-a2c361a804d7\")) {                    Plotly.newPlot(                        \"9447fd17-54fd-4924-ade7-a2c361a804d7\",                        [{\"hovertemplate\":\"<b>%{hovertext}</b><br><br>Mean Payment Time=%{x}<br>Std Dev Payment Time=%{y}<br>cluster_id=%{marker.color}<extra></extra>\",\"hovertext\":[\"10100\",\"10320\",\"10360\",\"1044\",\"1076\",\"1146\",\"1154\",\"1192\",\"11940\",\"1198\",\"1201\",\"12060\",\"1223\",\"1239\",\"12460\",\"12660\",\"1279\",\"1333\",\"1335\",\"13546\",\"1385\",\"1409\",\"1420\",\"1500\",\"1523\",\"1540\",\"1566\",\"15762\",\"15766\",\"15767\",\"15768\",\"15769\",\"1579\",\"1679\",\"1710\",\"1713\",\"1744\",\"17860\",\"1793\",\"18041\",\"1825\",\"18300\",\"1888\",\"1953\",\"19640\",\"19700\",\"20620\",\"20827\",\"20837\",\"20839\",\"20855\",\"20860\",\"20863\",\"20864\",\"20867\",\"20868\",\"20870\",\"20872\",\"20875\",\"20879\",\"20884\",\"20898\",\"20907\",\"20910\",\"20914\",\"20946\",\"20949\",\"20955\",\"20958\",\"20959\",\"20960\",\"20963\",\"20965\",\"20966\",\"20967\",\"20973\",\"20977\",\"20983\",\"20984\",\"20987\",\"20998\",\"21019\",\"21031\",\"21032\",\"21041\",\"21053\",\"21059\",\"21072\",\"21078\",\"21125\",\"21135\",\"21136\",\"21140\",\"21144\",\"21145\",\"21161\",\"21180\",\"21185\",\"21189\",\"21221\",\"21222\",\"21231\",\"21251\",\"2127\",\"21279\",\"21312\",\"21317\",\"21340\",\"21341\",\"21402\",\"21424\",\"21425\",\"21621\",\"21700\",\"2180\",\"2195\",\"22240\",\"22320\",\"2269\",\"22697\",\"2273\",\"2274\",\"23020\",\"23023\",\"23029\",\"23030\",\"23031\",\"23034\",\"23040\",\"23042\",\"2306\",\"23062\",\"23064\",\"23065\",\"23071\",\"23072\",\"23103\",\"23121\",\"23136\",\"23140\",\"23145\",\"23149\",\"2315\",\"23152\",\"23153\",\"23156\",\"23159\",\"23220\",\"23221\",\"23247\",\"23250\",\"23257\",\"23271\",\"23280\",\"23281\",\"23291\",\"23296\",\"23298\",\"23310\",\"23312\",\"23315\",\"23322\",\"23323\",\"23325\",\"23326\",\"23328\",\"23330\",\"23336\",\"23337\",\"23344\",\"23346\",\"23347\",\"23348\",\"23350\",\"23355\",\"23356\",\"23357\",\"23359\",\"23363\",\"23364\",\"23365\",\"23367\",\"23370\",\"23372\",\"23373\",\"23374\",\"23376\",\"23377\",\"23378\",\"23380\",\"23382\",\"23388\",\"23394\",\"23395\",\"23396\",\"23397\",\"23400\",\"23410\",\"23419\",\"23426\",\"23430\",\"23449\",\"23615\",\"23618\",\"23625\",\"2390\",\"24260\",\"24340\",\"24400\",\"2452\",\"25140\",\"2516\",\"2624\",\"2727\",\"2738\",\"2751\",\"27880\",\"2795\",\"2815\",\"2856\",\"29240\",\"2937\",\"29400\",\"29420\",\"3029\",\"30580\",\"30620\",\"3079\",\"3113\",\"31500\",\"3166\",\"32420\",\"32480\",\"3274\",\"3276\",\"33020\",\"33080\",\"33150\",\"33260\",\"33325\",\"33423\",\"33425\",\"33428\",\"33440\",\"33463\",\"33560\",\"33682\",\"33683\",\"33801\",\"33820\",\"34008\",\"34041\",\"3409\",\"34161\",\"34182\",\"34185\",\"34186\",\"34193\",\"34194\",\"34198\",\"34199\",\"34201\",\"34202\",\"34203\",\"34205\",\"34214\",\"34216\",\"34219\",\"34226\",\"34229\",\"34230\",\"34235\",\"34240\",\"34245\",\"34247\",\"34253\",\"34256\",\"34258\",\"34259\",\"34260\",\"34264\",\"34265\",\"34270\",\"34271\",\"34272\",\"34274\",\"34281\",\"34282\",\"34285\",\"34289\",\"34294\",\"34295\",\"34298\",\"34299\",\"34300\",\"34306\",\"34307\",\"34309\",\"34310\",\"34315\",\"34317\",\"34318\",\"34325\",\"34328\",\"34336\",\"34343\",\"34396\",\"34409\",\"34479\",\"34533\",\"34546\",\"34557\",\"34569\",\"34592\",\"34596\",\"34597\",\"34599\",\"34600\",\"34601\",\"34603\",\"34608\",\"34609\",\"34610\",\"34617\",\"34621\",\"34627\",\"34634\",\"34635\",\"34640\",\"34641\",\"34647\",\"34870\",\"34876\",\"34902\",\"34903\",\"34907\",\"34912\",\"34918\",\"34919\",\"34925\",\"34927\",\"34931\",\"34932\",\"34933\",\"34935\",\"34940\",\"34941\",\"34945\",\"34946\",\"34948\",\"34956\",\"34959\",\"34961\",\"34962\",\"34963\",\"34965\",\"34970\",\"34974\",\"34975\",\"34977\",\"34980\",\"34983\",\"34984\",\"34985\",\"34989\",\"34991\",\"34992\",\"34995\",\"34996\",\"34997\",\"35000\",\"35002\",\"35003\",\"35005\",\"35007\",\"35009\",\"35012\",\"35013\",\"35015\",\"35022\",\"35026\",\"35028\",\"35032\",\"35033\",\"35034\",\"35035\",\"35036\",\"35041\",\"35043\",\"35050\",\"35052\",\"35054\",\"35060\",\"35061\",\"35062\",\"35065\",\"35066\",\"35068\",\"35084\",\"35085\",\"35092\",\"35103\",\"35105\",\"35107\",\"35110\",\"35112\",\"35113\",\"35121\",\"35128\",\"35130\",\"35135\",\"35136\",\"35137\",\"35252\",\"35273\",\"35337\",\"35414\",\"35434\",\"35475\",\"35478\",\"3550\",\"35515\",\"35554\",\"35556\",\"35634\",\"35636\",\"35675\",\"35734\",\"3600\",\"3602\",\"36115\",\"3622\",\"3625\",\"36314\",\"36355\",\"36356\",\"36394\",\"36457\",\"36535\",\"36539\",\"36698\",\"36834\",\"36835\",\"3685\",\"3693\",\"3694\",\"36956\",\"36995\",\"3709\",\"37094\",\"37218\",\"37274\",\"37357\",\"37398\",\"37403\",\"37404\",\"37437\",\"37460\",\"37537\",\"37577\",\"37678\",\"3771\",\"3774\",\"37777\",\"37818\",\"37820\",\"37878\",\"3788\",\"37881\",\"38018\",\"38032\",\"38035\",\"38038\",\"38039\",\"38057\",\"38158\",\"3820\",\"3823\",\"38237\",\"38238\",\"38280\",\"38297\",\"38317\",\"38319\",\"38320\",\"38418\",\"3846\",\"3848\",\"38498\",\"38540\",\"38562\",\"38597\",\"38797\",\"38818\",\"38917\",\"3895\",\"39017\",\"39018\",\"39020\",\"3903\",\"39038\",\"39039\",\"39179\",\"39198\",\"39217\",\"3925\",\"3926\",\"3927\",\"3933\",\"3949\",\"39498\",\"39507\",\"39517\",\"39538\",\"39600\",\"39604\",\"39659\",\"39697\",\"3978\",\"39797\",\"3988\",\"3993\",\"39969\",\"3997\",\"4002\",\"4003\",\"4005\",\"4007\",\"4009\",\"4011\",\"4012\",\"4013\",\"40146\",\"40152\",\"4016\",\"4017\",\"40171\",\"4018\",\"4020\",\"4023\",\"40337\",\"40397\",\"40417\",\"40437\",\"40497\",\"40518\",\"40537\",\"40721\",\"40722\",\"40723\",\"40739\",\"40740\",\"40857\",\"40858\",\"40877\",\"40917\",\"4101\",\"4104\",\"41124\",\"41297\",\"41317\",\"41320\",\"41343\",\"41360\",\"41437\",\"41497\",\"41558\",\"41577\",\"41617\",\"41657\",\"41719\",\"41723\",\"41725\",\"41817\",\"41837\",\"41922\",\"41939\",\"42041\",\"42120\",\"42143\",\"42220\",\"42221\",\"42223\",\"42320\",\"42383\",\"4241\",\"42420\",\"42442\",\"42561\",\"42602\",\"42605\",\"42641\",\"42660\",\"42740\",\"42741\",\"42820\",\"42840\",\"43060\",\"43080\",\"43160\",\"43164\",\"43280\",\"43320\",\"43341\",\"43342\",\"43343\",\"43380\",\"43400\",\"43440\",\"43520\",\"43560\",\"43580\",\"43581\",\"43626\",\"43663\",\"43666\",\"43820\",\"43861\",\"43904\",\"43921\",\"43961\",\"43981\",\"44041\",\"44042\",\"44120\",\"44141\",\"44142\",\"44143\",\"44160\",\"44161\",\"44163\",\"44240\",\"44300\",\"44302\",\"44360\",\"44380\",\"44440\",\"44441\",\"44520\",\"44540\",\"44621\",\"44700\",\"44781\",\"44860\",\"44900\",\"44922\",\"44925\",\"44940\",\"44961\",\"45040\",\"45161\",\"45167\",\"45169\",\"45201\",\"45202\",\"45222\",\"45224\",\"45242\",\"45260\",\"45341\",\"45380\",\"45382\",\"45444\",\"45445\",\"45580\",\"45680\",\"45763\",\"45800\",\"45820\",\"45841\",\"45862\",\"45901\",\"45921\",\"45941\",\"45980\",\"46020\",\"46041\",\"46060\",\"46061\",\"46100\",\"46160\",\"46221\",\"46280\",\"46301\",\"46340\",\"46342\",\"46382\",\"4650\",\"4651\",\"4652\",\"46540\",\"46561\",\"46620\",\"46640\",\"46660\",\"46661\",\"46662\",\"46760\",\"46802\",\"46804\",\"46820\",\"46923\",\"46924\",\"46940\",\"46942\",\"46980\",\"46981\",\"47002\",\"47005\",\"47006\",\"47007\",\"47047\",\"47060\",\"47062\",\"47081\",\"47084\",\"47101\",\"47120\",\"47162\",\"47180\",\"47220\",\"47221\",\"47240\",\"47320\",\"47361\",\"47362\",\"47363\",\"47380\",\"47381\",\"47400\",\"47401\",\"47420\",\"47441\",\"47444\",\"47480\",\"47503\",\"47505\",\"47521\",\"47522\",\"47761\",\"47780\",\"47800\",\"47840\",\"4785\",\"4788\",\"47880\",\"47882\",\"4790\",\"47900\",\"4791\",\"47920\",\"47963\",\"48020\",\"4805\",\"4806\",\"48080\",\"48081\",\"48082\",\"48100\",\"48101\",\"48102\",\"48140\",\"48142\",\"48160\",\"48220\",\"48221\",\"48222\",\"48241\",\"48242\",\"4826\",\"48340\",\"48360\",\"48382\",\"48401\",\"48440\",\"48441\",\"48460\",\"48462\",\"48480\",\"48486\",\"48520\",\"48540\",\"48541\",\"48560\",\"48561\",\"48600\",\"48601\",\"48602\",\"48640\",\"48660\",\"48661\",\"48662\",\"48663\",\"48680\",\"48681\",\"48682\",\"48700\",\"48701\",\"48720\",\"48725\",\"48729\",\"48760\",\"48781\",\"48800\",\"48820\",\"48840\",\"48842\",\"48880\",\"48920\",\"48980\",\"49000\",\"49060\",\"49083\",\"49120\",\"49140\",\"49144\",\"49145\",\"49146\",\"49161\",\"49163\",\"49201\",\"49224\",\"49281\",\"49282\",\"49300\",\"49301\",\"49302\",\"49303\",\"49321\",\"49323\",\"49325\",\"49326\",\"49327\",\"49328\",\"49332\",\"49342\",\"49345\",\"49383\",\"49384\",\"49385\",\"49386\",\"49402\",\"49405\",\"49420\",\"49422\",\"49440\",\"49442\",\"49480\",\"49500\",\"49503\",\"49504\",\"49506\",\"49507\",\"49520\",\"49522\",\"49540\",\"49542\",\"49543\",\"49545\",\"49560\",\"49562\",\"49563\",\"49582\",\"49584\",\"49586\",\"49600\",\"49601\",\"49602\",\"49603\",\"49624\",\"49640\",\"49641\",\"49642\",\"49646\",\"49660\",\"49661\",\"49740\",\"49762\",\"49780\",\"49900\",\"49920\",\"49940\",\"49960\",\"49980\",\"50040\",\"50061\",\"50121\",\"50141\",\"50142\",\"50143\",\"50160\",\"50200\",\"50220\",\"50221\",\"50260\",\"50380\",\"50400\",\"50420\",\"50460\",\"50461\",\"50480\",\"50520\",\"50521\",\"5053\",\"50541\",\"5055\",\"50561\",\"50600\",\"50680\",\"50700\",\"50720\",\"50721\",\"50740\",\"50780\",\"50801\",\"50820\",\"50840\",\"50860\",\"50861\",\"50880\",\"50881\",\"50901\",\"50902\",\"50921\",\"50922\",\"50941\",\"50942\",\"50944\",\"50946\",\"50961\",\"5097\",\"50980\",\"51000\",\"51001\",\"51004\",\"51020\",\"51060\",\"51061\",\"51081\",\"51120\",\"51121\",\"51140\",\"51180\",\"51181\",\"51200\",\"51220\",\"51240\",\"51280\",\"51281\",\"51320\",\"51341\",\"51342\",\"51361\",\"51380\",\"51400\",\"51402\",\"51440\",\"51461\",\"51462\",\"51463\",\"51480\",\"51481\",\"51520\",\"51560\",\"51580\",\"51600\",\"51622\",\"51640\",\"51700\",\"51721\",\"51722\",\"51741\",\"51742\",\"51780\",\"51800\",\"51801\",\"51820\",\"51840\",\"51881\",\"51883\",\"51900\",\"51920\",\"51960\",\"51961\",\"52003\",\"52020\",\"52040\",\"52042\",\"52043\",\"52060\",\"52080\",\"52100\",\"52140\",\"52180\",\"52181\",\"52200\",\"52220\",\"52260\",\"52320\",\"52360\",\"52361\",\"5239\",\"52400\",\"52421\",\"52500\",\"52580\",\"52601\",\"52640\",\"52661\",\"52721\",\"52723\",\"52762\",\"52800\",\"52802\",\"52820\",\"52940\",\"5320\",\"5460\",\"5522\",\"5580\",\"5720\",\"5743\",\"5944\",\"6046\",\"6422\",\"6520\",\"6960\",\"6980\",\"7519\",\"7524\",\"7530\",\"7534\",\"7544\",\"7545\",\"7546\",\"7547\",\"7548\",\"7567\",\"7594\",\"7651\",\"8380\"],\"legendgroup\":\"\",\"marker\":{\"color\":[0,0,0,2,0,2,0,0,0,2,0,0,0,0,0,0,0,2,0,0,2,2,0,0,1,2,0,0,0,0,2,2,0,2,0,0,0,0,0,0,0,0,0,0,2,0,0,0,0,2,0,0,0,0,0,0,0,0,0,0,0,1,2,0,0,0,0,0,0,2,0,0,0,0,1,1,0,0,0,0,0,0,2,1,2,2,2,0,0,0,0,0,0,0,0,2,2,0,0,2,2,0,0,0,0,0,0,0,0,0,0,0,0,0,0,0,2,0,2,0,2,0,0,0,0,0,0,0,0,0,0,0,0,0,0,0,0,0,0,0,2,0,0,0,0,0,0,0,0,0,0,0,2,2,0,0,2,2,0,0,0,0,0,0,2,0,0,0,0,2,0,0,0,0,0,0,1,0,0,0,0,0,0,0,0,0,0,0,0,0,0,0,0,0,0,0,1,0,0,0,0,0,0,2,0,0,0,0,0,0,0,2,0,0,0,0,0,2,0,0,2,0,0,0,2,0,0,0,0,2,0,0,0,0,0,2,0,0,0,0,2,0,0,0,0,0,0,0,0,0,0,0,0,0,0,0,0,0,0,0,0,0,0,0,0,0,2,0,0,0,1,0,0,0,0,0,0,2,2,2,0,0,0,0,0,0,0,0,0,0,0,0,0,0,1,0,0,2,0,0,0,2,0,0,0,0,0,0,0,0,0,0,0,0,0,0,0,0,0,0,0,0,0,0,1,0,0,0,0,0,2,0,0,2,0,0,0,0,0,0,0,0,1,0,0,0,0,1,0,0,0,0,0,0,0,0,0,0,0,0,0,0,0,0,0,0,0,0,2,0,0,0,0,0,0,0,0,0,0,0,0,0,0,0,0,0,0,0,2,0,0,0,0,0,0,0,0,0,0,0,1,0,2,0,1,0,2,0,2,0,0,0,1,2,0,0,0,0,0,0,0,0,0,0,2,1,0,0,0,0,2,0,0,0,0,0,0,0,0,0,0,0,2,0,0,0,0,0,0,0,0,0,0,0,0,0,0,0,0,0,0,0,0,0,0,0,0,0,0,0,0,1,0,0,0,0,0,1,0,0,0,0,2,2,0,0,0,0,0,1,0,0,0,1,0,0,0,2,0,0,0,0,1,0,0,2,2,0,0,2,0,0,0,1,0,0,0,0,0,2,0,0,0,0,0,0,0,0,0,0,0,0,0,0,0,0,0,0,0,0,0,0,0,2,0,0,0,0,0,0,0,0,0,0,2,0,0,1,0,0,2,0,0,0,0,2,0,0,0,0,0,1,1,0,0,0,1,0,0,0,0,0,0,0,0,0,0,0,0,0,0,0,0,0,0,0,2,0,0,0,2,1,1,0,0,0,2,0,0,0,0,0,0,0,0,0,0,0,0,2,1,0,0,0,0,0,0,0,0,0,0,0,0,0,0,0,0,0,0,0,0,0,0,0,0,0,0,0,0,0,0,0,0,0,0,0,0,0,0,1,0,0,0,0,0,0,2,0,0,1,1,0,0,0,0,0,0,0,0,0,1,0,0,0,0,0,0,0,0,0,0,0,0,0,0,0,0,0,0,0,0,0,0,0,0,0,2,0,0,0,0,0,0,1,0,0,0,0,0,0,0,0,0,0,0,0,0,0,0,0,0,0,0,0,0,1,0,0,0,0,0,0,0,0,0,0,0,0,0,0,0,0,0,0,0,0,0,0,0,0,0,0,0,0,0,0,0,0,0,0,0,0,0,2,0,0,0,0,0,0,0,0,0,0,0,0,0,0,0,0,0,0,0,0,2,0,0,0,0,0,0,0,0,0,0,0,0,0,0,0,0,0,0,0,0,0,0,0,0,0,0,0,0,0,0,0,0,0,0,0,0,0,0,0,0,0,0,2,0,0,0,0,0,0,0,0,0,0,0,0,0,0,0,0,0,0,0,0,0,0,0,0,0,0,0,0,0,0,0,0,0,0,0,0,0,0,0,0,0,0,0,0,0,0,0,0,0,0,0,0,0,0,0,0,0,0,0,0,0,0,0,0,0,0,0,0,0,0,0,0,0,0,0,0,0,0,0,0,0,0,0,0,0,0,0,0,0,0,0,0,2,0,0,0,0,0,0,0,0,0,0,0,0,0,0,0,0,0,0,0,0,0,0,0,0,0,0,0,0,0,0,0,0,0,0,0,0,0,0,0,0,0,0,0,0,0,0,0,0,0,0,0,0,0,0,0,0,0,0,0,0,0,0,0,0,0,0,0,0,0,0,0,0,0,0,0,0,0,0,0,0,0,0,0,0,0,0,0,0,0,0,0,0,0,0,0,0,0,0,0,0,0,0,0,0,0,0,0,0,1,0],\"coloraxis\":\"coloraxis\",\"symbol\":\"circle\"},\"mode\":\"markers\",\"name\":\"\",\"showlegend\":false,\"x\":[72.5,21.476190476190474,39.8936170212766,124.74425500370644,39.864,277.4166666666667,75.48351648351648,101.25925925925925,69.37931034482759,134.7941176470588,65.0,97.625,76.33333333333333,166.14285714285714,149.66666666666666,96.0,32.34154929577465,203.71666666666667,215.0,167.66666666666666,403.2578125,138.24500344589939,181.00819672131146,228.5,384.0,235.75,126.51807228915662,43.0,72.0519801980198,72.19522776572668,113.97157524479513,426.2,76.375,235.66610169491526,74.25,180.5,50.392857142857146,46.03738317757009,196.0,64.8,34.265567765567766,116.0,104.13650730936389,109.07692307692308,349.64102564102564,99.73770491803279,39.5,117.0,112.37777777777778,197.9016393442623,33.87412587412587,94.83870967741936,69.4186046511628,72.11904761904762,20.8,72.62962962962963,82.11904761904762,122.0,164.5,86.94805194805195,146.68115942028984,329.17391304347825,403.17857142857144,121.0,79.05263157894737,68.82608695652173,51.0,71.71219512195123,76.0,314.1,70.0,72.16666666666667,16.0,88.0,632.6341463414634,600.0,16.837209302325583,77.3265306122449,210.0,56.5,59.64957264957265,73.0,354.43220338983053,407.1975308641975,442.0740740740741,275.8,174.3984962406015,92.2,83.0,49.25,48.68,74.41666666666667,60.77777777777778,70.11111111111111,77.26415094339623,234.56410256410257,222.83653846153845,48.34375,39.4,160.13422818791946,98.3076923076923,43.857142857142854,78.22222222222223,36.2,48.5,88.5,26.0,41.458333333333336,29.0,147.0,109.125,85.0,102.27777777777777,101.32183908045977,38.64,64.0,148.18897637795277,32.0,146.2,42.333333333333336,187.23368421052632,35.928994082840234,100.76829268292683,25.375,19.272727272727273,36.942477876106196,28.0,56.094339622641506,59.03921568627451,85.93442622950819,95.8,50.5,43.583333333333336,61.5,29.88888888888889,43.111111111111114,94.0,63.0,34.80769230769231,25.725118483412324,124.25,58.125786163522015,67.94243048403708,67.06770833333333,58.0,28.976744186046513,39.42857142857143,34.0,107.0,23.457142857142856,63.6,75.01923076923077,307.2,382.86633663366337,53.75,61.285714285714285,171.04473304473305,129.42253521126761,229.0,57.794117647058826,112.3,22.0,22.14814814814815,59.4,311.54545454545456,71.0,-1.0,43.666666666666664,18.166666666666668,263.25,73.5,108.5,70.0,25.0,33.0,45.4,392.0,13.75,81.0,89.0,87.83333333333333,14.857142857142858,61.18518518518518,27.357142857142858,55.285714285714285,2.0,111.63157894736842,83.7,54.5,23.0,111.47058823529412,28.3125,3.0,40.75,71.16666666666667,103.97727272727273,563.0,172.55,106.14285714285714,77.23728813559322,42.708333333333336,71.96296296296296,49.666666666666664,135.22435897435898,16.46938775510204,136.0,59.58585858585859,82.0,37.143459915611814,64.03821656050955,102.8443113772455,772.5,26.89273356401384,74.0,92.33333333333333,77.85714285714286,77.5,212.98589562764457,159.0,29.0,598.3076923076923,75.5,120.0,39.67465753424658,117.66666666666667,21.736842105263158,123.0,55.64414414414414,96.12203389830509,718.1111111111111,93.88888888888889,79.36363636363636,110.41666666666667,91.47629796839729,30.5,194.33333333333334,219.25,128.66666666666666,29.794871794871796,98.5,362.2,27.0,56.0,6.0,28.555555555555557,71.19642857142857,61.929577464788736,30.0,44.54679802955665,39.0,129.0,21.583333333333332,25.406417112299465,23.819444444444443,79.0,163.27777777777777,23.766666666666666,45.51923076923077,29.25,64.22077922077922,71.33333333333333,50.38461538461539,69.66666666666667,55.714285714285715,51.75,44.67741935483871,220.83333333333334,16.0,30.0,62.0,519.0,-3.0,38.888888888888886,63.0,51.214285714285715,53.04761904761905,78.5,275.48148148148147,345.3333333333333,311.72727272727275,56.083333333333336,1.0,75.6923076923077,50.291666666666664,94.0,43.416666666666664,47.48148148148148,65.78787878787878,82.0909090909091,51.75,43.166666666666664,42.6875,51.6,77.71428571428571,449.0,35.5,61.05555555555556,217.4,65.45454545454545,51.6875,49.0,319.8,71.05882352941177,59.4,121.87610619469027,60.0,57.44444444444444,105.0,165.375,69.0,58.0,36.0,139.0,115.0,33.93172690763052,38.86666666666667,44.37096774193548,27.0,146.95238095238096,84.85714285714286,10.0,58.35,146.59574468085106,7.0,474.0,39.357142857142854,165.0,20.666666666666668,48.4,96.15441176470588,157.59574468085106,39.98175675675676,66.0,349.8125,96.63636363636364,99.30952380952381,139.0,186.61515151515152,116.6797385620915,64.33333333333333,169.57865168539325,155.05362776025237,747.0,74.0,112.0,40.72222222222222,46.6875,568.5,134.16666666666666,20.333333333333332,122.0,128.33333333333334,52.0,64.5,119.0,50.0,23.8,173.8679245283019,34.0,116.0,62.0,60.588235294117645,51.45454545454545,224.843853820598,32.0,76.0,98.0,154.5625,104.16666666666667,34.166666666666664,28.2,35.28125,36.5,57.0,39.5,18.53846153846154,156.30769230769232,43.09090909090909,31.625,84.25,68.4090909090909,53.75,43.0,35.0,168.33333333333334,0.5,119.53846153846153,43.0,229.1304347826087,188.0,66.0,55.25,56.333333333333336,146.1978021978022,-1.5,58.75,228.5,73.0,69.0,88.8,571.6,164.0,544.8878504672897,16.0,647.0,136.0,220.0,92.0,165.0,62.45454545454545,178.75,98.04761904761905,699.0,369.0,50.625,91.75,3.0,104.0,52.0,162.85714285714286,89.0,34.72727272727273,77.14285714285714,49.58695652173913,373.3076923076923,602.1,29.73913043478261,69.0,99.21875,39.9,134.57142857142858,134.39285714285714,30.0,80.5,43.2093023255814,120.25,53.0,49.19230769230769,86.44444444444444,93.5,104.0,15.5,169.8846153846154,44.224409448818896,27.009345794392523,30.17386091127098,20.31578947368421,115.0,53.93103448275862,131.0,161.25,85.28571428571429,43.25,35.45744680851064,99.0,42.93181818181818,148.0,90.54545454545455,184.5,86.28571428571429,127.17647058823529,49.0,68.4,88.0,58.72727272727273,128.0,74.0,96.11111111111111,16.2,53.2,234.3,335.68055555555554,56.55,92.3,105.0,28.651515151515152,142.0,448.875,52.88235294117647,117.23529411764706,28.904761904761905,66.44827586206897,245.0,316.40625,44.0,107.05555555555556,125.125,63.01470588235294,80.5,638.0,24.29787234042553,74.84615384615384,81.0,957.0,138.70666666666668,146.0,65.75,312.83870967741933,76.75,17.904761904761905,10.0,3.0,427.5,12.0,30.5,190.349173553719,121.34270216962524,99.01522070015221,158.65263157894736,359.9259259259259,7.0,93.7134328358209,30.2,334.0,70.0,14.590361445783133,66.66666666666667,98.54545454545455,31.97761194029851,359.5,69.20731707317073,54.84615384615385,20.571428571428573,70.652950310559,33.007751937984494,52.588235294117645,39.59027777777778,33.29761904761905,24.3953488372093,178.032,26.509677419354837,45.71052631578947,53.75,60.0,33.5,66.78571428571429,165.28571428571428,38.5,31.75,27.858974358974358,104.84210526315789,69.5,2.6363636363636362,505.42857142857144,56.5,75.10526315789474,65.8,41.0,166.91666666666666,224.15384615384616,18.653225806451612,78.2,316.0,88.22222222222223,135.57142857142858,85.13888888888889,137.3815028901734,684.3061224489796,127.0,9.5,127.08333333333333,116.0,19.93548387096774,17.130434782608695,48.75,82.82352941176471,131.25806451612902,51.6,36.6,14.5,1.0,878.8333333333334,580.0,137.72222222222223,41.0,75.77777777777777,714.0,4.0,98.0,168.0,17.2,-0.40625,-3.3333333333333335,-4.0,313.72727272727275,179.0,94.0,21.0,58.44444444444444,93.29310344827586,119.46153846153847,7.0,221.9090909090909,194.0,89.68085106382979,0.0,391.0,56.21739130434783,61.46666666666667,158.23076923076923,369.4,916.0,398.0,56.1,73.75,64.0,112.19444444444444,44.0,235.0,42.0,46.588235294117645,0.6666666666666666,93.71428571428571,87.18,33.5,114.88,58.0,79.0,45.7,388.6875,770.0,44.0,61.0,52.23809523809524,-0.5,71.46938775510205,40.0,64.1875,53.8,47.166666666666664,44.5,93.4,83.0,-2.0,99.46428571428571,58.333333333333336,77.9047619047619,34.8,17.5,89.93333333333334,34.25,131.5,108.0,83.41666666666667,82.66666666666667,58.8,46.642857142857146,21.517857142857142,17.75,86.83333333333333,20.5,67.625,62.53846153846154,61.125,65.38095238095238,57.5,171.8,22.5,18.53125,470.0,113.25,-5.0,22.48148148148148,-3.0,91.66666666666667,163.125,303.85714285714283,81.5,86.25,710.0,593.0204081632653,52.03333333333333,46.6,63.96875,19.136363636363637,99.83333333333333,57.111111111111114,66.0,60.6,28.875,663.0,60.2,25.333333333333332,46.857142857142854,2.5,5.75,60.30909090909091,6.0,52.473684210526315,63.23076923076923,129.71875,4.0,94.08163265306122,50.69230769230769,20.333333333333332,65.5,74.25,95.52427184466019,95.64285714285714,44.833333333333336,95.7939393939394,-2.3333333333333335,69.0,61.19230769230769,82.46153846153847,167.0,198.35714285714286,41.175141242937855,52.5,39.0,55.5,57.0,83.88888888888889,564.0,50.666666666666664,37.142857142857146,141.5,176.0,127.0,98.0,141.33333333333334,187.0,60.708333333333336,48.8,87.57142857142857,77.0,98.5,-1.0,71.7,102.52525252525253,42.0,44.9,58.166666666666664,34.916666666666664,108.5,424.6666666666667,123.0,189.875,44.0,50.44827586206897,41.25,43.5,88.86666666666666,14.722222222222221,20.8,44.22222222222222,74.0625,20.31578947368421,83.5,93.19845857418112,59.5,108.51724137931035,21.4,75.21698113207547,127.125,122.0,36.4,33.3,25.25,16.0,31.0,148.0,1.5,19.333333333333332,156.57142857142858,90.27272727272727,20.0,186.3,64.85714285714286,34.906976744186046,52.55555555555556,89.0,81.6,257.5,41.3801652892562,118.2,0.0,19.0,202.85714285714286,96.0,35.0,41.0,4.0,83.03571428571429,70.5,50.285714285714285,0.6,118.0,15.909090909090908,57.0,51.285714285714285,93.96078431372548,89.0,79.66666666666667,216.0,93.5,106.88461538461539,70.25,95.64285714285714,61.0,66.0,34.166666666666664,-2.0,197.5,82.66666666666667,117.05405405405405,32.96782841823056,6.0,78.75,20.5,95.97058823529412,61.06666666666667,73.03448275862068,7.0,74.5,45.11290322580645,78.63636363636364,104.43181818181819,62.833333333333336,5.0,161.57142857142858,40.875,68.66666666666667,21.5,81.875,189.0,5.724489795918367,105.0,45.0,64.41666666666667,97.0,9.0,107.8,77.84444444444445,5.5,96.66666666666667,107.0,135.0,31.125,38.0,24.0,72.33333333333333,19.666666666666668,135.44444444444446,181.0,143.0,168.0,147.66538461538462,57.45454545454545,29.0,44.22222222222222,222.66666666666666,20.0,27.0,69.0,130.25,-0.8181818181818182,125.1,6.0,98.0,15.666666666666666,60.6,7.0,120.96323529411765,95.33333333333333,31.5,17.0,30.324324324324323,7.0,47.0,66.0,94.26666666666667,-1.0,26.4375,42.09090909090909,71.66666666666667,15.0,95.0,53.333333333333336,12.117647058823529,54.5,-5.0,134.5,9.0,56.5,56.25,29.7,91.0,72.0,15.0,37.666666666666664,49.666666666666664,50.4,80.0,-3.5,0.6,44.0,50.0,50.666666666666664,-2.0,36.0,49.0,24.428571428571427,118.5,80.0,180.33333333333334,35.0,31.5,68.0,37.88028169014085,33.0,33.327586206896555,45.5,58.2,72.85714285714286,-4.5,17.0,41.0,-2.0,-1.0,69.0,59.5,122.5,79.5,60.0,142.0,6.0,83.0,6.0,53.888888888888886,144.77777777777777,35.0,80.0,13.68421052631579,89.0,10.0,45.333333333333336,3.25,95.0,48.0,12.857142857142858,41.333333333333336,19.714285714285715,50.666666666666664,49.0,24.666666666666668,-1.0,3.0,10.0,2.0,1.0,10.0,22.142857142857142,34.0,-2.5,84.0,40.666666666666664,9.0,111.5,68.0,7.0,45.69565217391305,6.0,12.0,5.0,48.25,5.0,39.0,66.0,45.0,32.0,3.0,42.75,5.0,29.0,35.0,4.5,10.0,5.0,27.0,4.0,20.0,57.0,-1.3333333333333333,-1.2,-4.0,5.0,-2.0,4.5,23.0,45.5,7.0,27.0,20.0,21.0,20.0,7.0,-0.6,26.0,-3.0,-2.5,40.625,7.0,39.0,2.0,17.0,11.0,-4.0,-5.0,-5.0,-1.0,2.0,-2.0,9.0,3.0,-1.5,86.0,55.5,32.36585365853659,25.0,37.0,26.8,62.92857142857143,46.888888888888886,128.5,127.26900584795321,75.46875,59.2,43.857142857142854,23.17142857142857,44.72607322059097,153.14285714285714,77.61475409836065,97.2258064516129,41.57142857142857,102.91666666666667,90.4047619047619,73.59290953545232,86.97887323943662,690.0,170.75],\"xaxis\":\"x\",\"y\":[7.0,15.54226189336368,23.610272306178043,185.52359293921185,28.28208825615662,336.0358279761487,107.94601146842523,15.124083170159167,33.96997353317231,149.88406993573696,23.137271518771033,29.861286452050734,27.78906051053131,68.88015817691036,16.01561737804697,22.315913604421397,31.208059897055403,160.27127543458366,0.0,15.947831618540919,350.1870421723416,229.44189013916707,83.5580162582791,16.33457014488543,0.0,194.65717728012666,86.73415528959504,0.0,41.86870693739268,40.69340373587657,163.041377647967,188.55953966850893,12.24671967741333,273.2257076191084,8.370583412562521,82.73149339882606,104.64879421125755,18.53956769846939,0.0,62.32736156777375,22.06007197514574,28.698432012916665,40.19528174377455,46.58408443961223,169.30220366947805,101.39492124680014,10.606601717798213,33.94915985036235,102.55440625442307,150.4659103050735,12.68905879641881,90.51154503678653,18.137349727826873,19.55754782992051,17.782013384316187,79.86930274276193,62.280245908372436,24.576411454889016,43.47029637196722,60.51030710459173,101.49696953566304,34.87334508802475,265.1058563656509,111.72287142747452,27.026720278690053,26.16321528390758,16.186414056238647,66.47932081217448,0.0,254.61664858341263,41.012193308819754,29.55005723095881,0.0,11.532562594670797,71.14870206038934,172.00872070915474,15.545524899710864,94.70752956583013,0.0,17.67766952966369,110.80420179546955,65.7709524168396,323.85148751028606,96.07827794994643,279.9608387347617,294.33942991043523,205.30446566105593,17.65597160547483,0.0,31.5,51.064273225024955,21.228018934389233,72.39251872726055,21.175699667549512,22.951366532269724,230.25338386813348,161.23572389049292,16.66483524883963,25.774017925034503,173.7715965879218,155.62528961974903,13.740797786501476,40.687153309668204,5.674504383644443,7.7781745930520225,26.16295090390226,31.11269837220809,20.290105477342653,0.0,0.0,66.23357982756326,0.0,130.0977945127113,81.74229133029787,13.102048445544225,0.0,142.52282154310632,4.242640687119285,182.39435298276098,3.7859388972001833,175.36519496637942,24.118420497489744,37.142468050084545,10.940586299254193,29.3226564590963,22.832165635581294,0.0,18.672546848395246,44.72894400019465,33.90939256627168,28.978152690144576,0.7071067811865476,12.609219811012268,7.7781745930520225,11.805130711309854,14.066311211938656,14.240786495134317,0.0,108.91465254253688,11.367048633165602,152.6834961611765,25.977775832324266,35.69683119267784,69.43127679844385,21.213203435596427,4.31767338192702,10.533393610436333,0.0,0.0,13.014342443769392,20.678491240900534,17.439520573343014,181.2897006328698,250.51170905484165,43.69115089656791,3.8172540616821125,254.90517791949046,146.86919953013884,0.0,35.97876428535158,39.27976578341576,0.0,27.32806911992433,19.31986394509917,130.59277440682823,0.0,0.0,23.000724626266308,12.843935014888025,119.5,3.5355339059327378,0.7071067811865476,20.0,30.787110189918018,0.0,52.58136552049595,0.0,4.131758532565592,0.0,0.0,11.90773352267588,11.006491591004698,8.15728573370521,25.930698002581785,18.508685219956295,4.97686957526825,46.540556419244346,11.304374767712225,2.380476142847616,0.0,29.10090625905041,14.323494685306377,0.0,10.688779163215978,7.132936834066868,76.4979065335576,0.0,78.08731617470546,1.0690449676496985,38.10639131759397,37.90546498016241,23.087594873373813,8.144527815247079,158.32728755163276,13.598563099362629,0.0,28.688691543351958,0.0,17.240954686058824,16.44177190772397,61.248061296871676,417.5331861522645,14.827676208286752,0.0,61.10537346802379,11.066896153673374,31.89043743820395,252.16987105636207,21.213203435596427,0.0,386.200131458369,18.063775906493085,0.0,54.029840694280466,174.021377414419,32.11929517917567,0.0,28.691862398402815,47.57305898749229,409.7698879994858,38.18975669390772,21.275679670801246,61.4172885540654,17.57333974912781,11.319599521773434,332.2684657522187,42.5,47.24757489367399,21.280309019297984,136.4391477019738,211.3153514957628,0.0,0.0,0.0,11.080513425729775,64.48239214005554,85.23579790022819,0.0,33.74352196126087,0.0,0.0,16.621225932979534,11.784961630848203,10.472400196907778,11.357816691600547,64.75638106695655,19.644571652298733,45.13964840603227,18.122269909331635,40.538358500451665,22.177604781539277,14.1686672351961,34.2088062381958,12.073037801574289,28.293108701590217,15.934003675105625,327.58963150055075,0.0,16.779617264870957,25.45584412271571,0.0,1.4142135623730951,11.730776236511849,2.8284271247461903,10.070356890998845,29.370863437216467,28.30194339616981,198.9055121855042,243.1508448131187,273.5511253528638,57.68796681415904,0.0,58.063735979503036,18.338553275323658,0.0,25.60216815999679,14.666472415186043,28.809457622191506,10.245636338122878,42.902214395063574,22.98400978685732,41.607240956352776,10.280355747040774,11.996031089688035,6.683312551921135,45.96194077712559,26.23305553332244,250.95378060511462,35.88973010866378,18.153856339632082,2.0,223.7938783791907,13.10281738899737,13.24009063413087,51.94315793375946,13.540064007726599,15.314299780851156,0.0,27.61370432713923,19.05255888325765,1.4142135623730951,12.1420167776433,0.0,0.0,22.89349810477872,18.520581532406236,27.70091945934756,0.0,92.28622659447952,31.51416914885838,20.93527440196842,12.179685416385155,19.98875724704317,0.0,0.0,4.908503498359413,0.0,11.129540272026814,10.04655828298096,19.127981704713665,137.25819944553726,12.528655658050209,14.000000000000002,261.6196268758647,37.26465544526805,23.49103419546679,42.42640687119285,39.07370185980139,59.48414799834572,19.974225816529085,86.18418716879442,39.81587719726368,22.627416997969522,0.0,31.11269837220809,19.426499656111208,17.168648752886757,13.435028842544403,31.541699191368686,14.080719678577037,0.0,22.722969289539016,2.449489742783178,12.020815280171307,0.0,35.35533905932738,17.930730914023307,122.94567716188418,28.284271247461902,35.71605190437996,0.0,14.811561461951824,5.4472678723124375,39.42442817719186,0.0,34.39476704383968,0.0,22.95493774042236,181.2991082897725,19.104100781420378,9.65861733836106,18.948545565089102,13.397761006974262,0.0,6.328945848682508,14.552292972903986,31.428184313300207,10.79642397105498,17.36941071457027,22.4258035902098,16.64091083504486,45.434018092174064,0.0,0.0,85.17237423797305,3.5118845842842465,14.607479643609349,21.67025611293046,138.27058595634668,0.0,0.0,3.774917217635374,7.1414284285428495,76.66003156508897,0.7071067811865476,4.527692569068707,82.73149339882606,9.899494936611665,0.0,16.897074039936946,59.35739212600229,0.0,367.467963617182,15.588457268119896,0.0,0.0,312.54119728445403,35.35533905932738,214.69979040511427,49.021145715626915,36.700363304287144,31.785965756094612,21.213203435596427,515.0698981691709,47.50620260254745,50.400892849234324,0.0,0.0,1.4142135623730951,50.33033734382134,20.912516188477493,24.662079835613657,30.73233135439273,36.22250748235382,268.3226865223366,190.46869092378995,34.987293006701144,20.813457185196313,12.800540248175514,29.076336312082603,225.7537533306083,97.6772232769234,3.7416573867739413,61.518289963229634,18.17973510668624,26.762847382145274,0.0,8.975607971694089,9.619136020338713,101.20029644225357,27.679715798155634,20.304106893846793,154.67548659644214,52.46173429023594,18.4286444352329,20.251770339459014,15.527941237148198,25.238858928247925,22.876892637523312,48.08326112068523,59.21986877005772,32.64309159028031,4.5,11.05476581274156,64.49030934954492,30.210422214686293,0.0,98.74144381804797,13.435028842544403,100.09951092743704,135.7099415492252,0.0,119.38215043182389,0.0,32.229095360215176,0.0,0.0,19.719561635875962,42.637490024103855,7.463243262818116,34.59563796476534,0.9492544499975186,56.89091593382439,86.78331892964479,3.4641016151377544,22.65153581089094,39.56429366655411,27.115823003236635,50.16582795207957,61.54109702821992,11.605622611065558,51.00814259518067,377.23820944685156,261.6260545387673,0.0,18.521496782005592,38.59339321697433,99.42550737741469,2.8834503141697705,169.85287751463028,11.238356087460753,10.106484336356813,32.863353450309965,0.0,54.0374678156548,0.0,47.67511580129268,272.7354147367241,38.46816865929544,32.62653025055647,0.0,0.0,24.623836689950117,0.0,48.79036790187178,245.08520506670075,177.00294304353835,27.233348229367806,99.84943648516689,122.06931382996052,14.370107863199914,20.89713110644036,18.056261280469208,11.313708498984761,0.0,16.58020870192746,11.430952132988162,19.276103906603684,14.634609032759629,499.9244942988891,51.42049785951557,82.98422869159212,12.817398889233115,86.31726173088767,21.133629358635662,35.855932338149685,20.36236646038033,21.55563256941407,13.040449055669342,107.51030978318971,11.652639042230428,16.252282989642023,25.5,38.05785070126793,2.1213203435596424,37.777474321843776,20.846376869169106,24.849547279578356,7.5,14.131777177946383,132.1178034066396,26.564387187862373,2.1105794120443453,275.11807654888116,16.263455967290593,13.01663353321479,25.7332469774026,0.0,70.63158945239324,103.6901201930108,13.684626918546826,41.55357986984996,0.0,31.56254812977629,198.6478099072637,47.769776923297314,119.73150245079,104.0851422477517,0.0,2.1213203435596424,208.89458890876594,0.0,45.525037421819476,23.785603644041966,20.21665063661543,166.64829555613431,139.6595784379373,6.024948132556826,8.876936408468858,4.949747468305833,0.0,35.90218192069483,100.45894683899488,72.61324263890126,0.0,50.11431376806874,168.29661315665268,0.0,0.0,0.0,28.647862049374645,3.221494093359227,1.1547005383792515,0.0,57.7825075764126,0.0,34.22474738158535,8.04155872120988,11.822765233978801,27.847027604078335,29.688986130144254,14.764823060233402,112.88175631646997,0.0,25.360107652167205,0.0,459.0130717092924,19.86764505818701,65.52269063847841,117.28997257132639,232.5828884505479,0.0,17.435595774162692,24.10699832872298,27.10934648173332,19.05255888325765,208.7843479963332,0.0,21.213203435596427,19.157244060668017,41.28265196109833,3.7859388972001824,63.17360811212829,68.78321164413327,10.606601717798213,56.26671603473348,27.329013886344306,0.0,5.716448003592596,190.08307818662664,0.0,20.8806130178211,5.196152422706632,36.1689158835384,1.6431676725154984,46.42426719975247,16.368355962743383,50.79858323377294,41.69172579781269,47.769966474446015,6.363961030678928,6.024948132556826,0.0,0.0,61.44644289066164,2.5166114784235822,11.361798985656987,19.221754916473298,0.7071067811865476,59.03211760635823,4.5,14.788509052639483,72.74613391789285,11.927495609521365,4.04145188432738,18.989470766717012,17.92122567433181,11.552238777796312,7.55456342692472,41.542603177796636,0.7071067811865476,31.905832426958284,46.32604628179016,65.59276419153042,72.02254937898005,5.879747322073338,36.83340874803743,4.949747468305833,49.206598282304874,0.0,51.5,0.0,15.824446448868454,0.0,58.79058881601147,15.008925915696203,255.12247292325344,18.62793601019716,74.5,0.0,63.00809795703457,18.32933080655407,8.502940667792526,28.597861836383906,13.054083304050534,17.19786808493037,14.970341048590413,0.0,2.190890230020664,15.770111875678895,0.0,46.10326573151962,21.69764684909124,7.244045173533258,4.949747468305833,1.2583057392117916,1.550062451223693,0.0,84.17664523096167,60.09874353394565,37.00064025165319,0.0,44.88217757579926,9.339741389929875,16.258331197676267,21.920310216782973,13.5,80.75839598920291,45.410278644745254,28.05784069101584,50.048817262614214,1.632993161855452,113.02322770121192,11.868624747360796,10.243822403570725,0.0,150.37113427110276,51.719719435927665,60.10407640085654,0.0,12.020815280171307,28.284271247461902,21.647427355487558,0.0,47.71093515467217,30.709199681120722,58.68986283848344,0.0,76.64637412602548,0.0,43.385865593915874,0.0,30.794521204783884,19.498717906570164,75.38385287795573,12.355835328567093,34.952348514322566,0.0,34.37069164920084,39.70306712933394,0.0,33.85081650090257,32.49871792342994,9.783644360344306,2.1213203435596424,14.933184523068073,20.8463768691691,42.605960347618705,33.91164991562634,25.77178164318562,12.919623317522328,9.192388155425117,36.482611644192254,8.910044269749106,22.449006542313676,18.525507940254823,37.50994312623432,20.182645547265345,3.6742346141747673,37.20673120606364,42.2729227756965,41.929039280376664,2.8362729848243533,18.775873433227893,100.40841598192853,0.0,23.586012804202408,11.173747427740944,13.997448747131436,2.8284271247461903,0.0,53.2603667530244,0.7071067811865476,9.814954576223638,104.654943231828,24.99939393204757,10.392304845413264,74.59825735230012,29.481228894719724,38.23784017620019,15.709162223930905,1.4142135623730951,76.29416753592636,290.62088706767105,24.490221245205575,128.46080249546074,1.0,0.0,25.86135193313613,110.36368450329509,1.0,12.806248474865697,0.0,18.18929710298145,45.96194077712559,15.929791014267629,6.045068828628599,0.0,13.780091040733698,0.0,41.71216563431779,37.320750680721154,1.7320508075688772,14.57166199626293,220.61731573020282,55.68945851302277,71.53758560257785,15.62735696508804,20.144123567078175,0.0,17.349351572897472,5.424411712272809,0.0,16.263455967290593,37.43438704364389,59.97543290842137,22.873636861730326,0.0,84.52760890186512,9.516902257112267,82.80114378294968,23.95254253279411,34.02360814684487,0.0,45.96194077712559,45.01843150354821,24.78012399998324,39.38917200241637,28.42123619173991,0.0,119.77876431551789,4.882549100038392,47.92007234273893,12.020815280171307,19.460124063618622,22.627416997969522,9.324372909176214,39.59797974644666,0.0,15.675448860230352,0.0,9.128709291752768,98.9100601556788,58.136577265621824,0.7071067811865476,32.65986323710904,25.534290669607408,142.8355697996826,17.787937325213235,26.60826939130014,0.0,35.21548070523549,21.96967607104544,38.66558906544394,18.384776310850235,30.71644510681534,9.899494936611665,73.25530245442533,20.378241515712958,0.0,33.41272596497114,85.11364951248027,4.242640687119285,0.0,0.0,17.5,0.6030226891555273,56.30166762874593,11.313708498984761,0.0,10.598742063723098,22.378561169118985,0.0,30.549391237975488,33.020195840323744,18.448125469362285,0.0,18.353101545415598,0.0,59.39696961966999,0.0,24.848413996891622,1.0,15.836534764061657,6.284179269475775,20.207259421636902,1.4142135623730951,0.0,28.53652630109932,20.254266072056208,7.503332592921628,0.0,61.518289963229634,0.0,17.10847743079436,12.816005617976296,28.921541375859544,13.999999999999998,0.0,0.0,8.477420991472975,5.507570547286102,16.269945024833707,0.0,0.7071067811865476,2.073644135332772,7.0710678118654755,0.0,11.547005383792516,0.0,0.0,59.39696961966999,17.405527310379913,30.405591591021544,0.0,38.68246803570492,0.0,0.7071067811865476,13.038404810405298,25.12676581265038,7.0710678118654755,22.866256081099436,14.433756729740644,46.25057609883021,19.187049203638818,1.0,0.0,10.353743284435827,0.0,0.0,0.0,4.949747468305833,6.363961030678928,17.67766952966369,0.0,0.0,0.0,0.0,0.0,11.395661942647783,294.4613338355021,0.0,58.66003750424986,24.785866563155498,51.96152422706632,0.0,3.7859388972001833,5.5,8.48528137423857,39.66106403010388,19.986900471963892,11.360751148875089,15.723806639554407,23.45918441321721,20.506096654409877,6.713171133426188,0.0,0.0,0.0,0.0,0.0,0.0,10.253919111386493,25.612496949731394,3.5355339059327378,0.0,7.952986860293433,1.732050807568878,17.0,8.48528137423857,0.0,18.482017753404364,0.0,0.0,0.0,10.5,0.0,12.12435565298214,0.0,12.727922061357855,0.0,0.0,4.5,11.726039399558575,0.0,0.0,4.949747468305833,0.0,0.0,0.0,0.0,32.526911934581186,0.0,0.5773502691896258,1.6431676725154982,1.4142135623730951,7.54983443527075,0.0,3.5032452487268535,0.0,6.363961030678928,0.0,17.795130420052185,0.0,0.0,0.0,0.0,0.894427190999916,0.0,0.0,2.1213203435596424,17.687263375499494,0.0,0.0,1.4142135623730951,0.0,0.0,0.0,0.0,0.0,0.0,2.8284271247461903,0.0,2.8284271247461903,0.0,0.5773502691896257,54.4426303552648,25.630429550027415,33.371961357973085,0.0,0.0,1.9235384061671343,9.25885958616054,34.48349041369088,24.02021207723392,10.095900662264787,32.974241389880305,43.64706939379398,29.128614633658607,4.823262956362474,35.9920794465406,54.139218179199304,64.07994061156741,45.98167002724698,42.78032075798222,77.70948645895355,51.72868219988839,66.03462834457574,45.34289662007392,0.0,84.5],\"yaxis\":\"y\",\"type\":\"scattergl\"}],                        {\"template\":{\"data\":{\"histogram2dcontour\":[{\"type\":\"histogram2dcontour\",\"colorbar\":{\"outlinewidth\":0,\"ticks\":\"\"},\"colorscale\":[[0.0,\"#0d0887\"],[0.1111111111111111,\"#46039f\"],[0.2222222222222222,\"#7201a8\"],[0.3333333333333333,\"#9c179e\"],[0.4444444444444444,\"#bd3786\"],[0.5555555555555556,\"#d8576b\"],[0.6666666666666666,\"#ed7953\"],[0.7777777777777778,\"#fb9f3a\"],[0.8888888888888888,\"#fdca26\"],[1.0,\"#f0f921\"]]}],\"choropleth\":[{\"type\":\"choropleth\",\"colorbar\":{\"outlinewidth\":0,\"ticks\":\"\"}}],\"histogram2d\":[{\"type\":\"histogram2d\",\"colorbar\":{\"outlinewidth\":0,\"ticks\":\"\"},\"colorscale\":[[0.0,\"#0d0887\"],[0.1111111111111111,\"#46039f\"],[0.2222222222222222,\"#7201a8\"],[0.3333333333333333,\"#9c179e\"],[0.4444444444444444,\"#bd3786\"],[0.5555555555555556,\"#d8576b\"],[0.6666666666666666,\"#ed7953\"],[0.7777777777777778,\"#fb9f3a\"],[0.8888888888888888,\"#fdca26\"],[1.0,\"#f0f921\"]]}],\"heatmap\":[{\"type\":\"heatmap\",\"colorbar\":{\"outlinewidth\":0,\"ticks\":\"\"},\"colorscale\":[[0.0,\"#0d0887\"],[0.1111111111111111,\"#46039f\"],[0.2222222222222222,\"#7201a8\"],[0.3333333333333333,\"#9c179e\"],[0.4444444444444444,\"#bd3786\"],[0.5555555555555556,\"#d8576b\"],[0.6666666666666666,\"#ed7953\"],[0.7777777777777778,\"#fb9f3a\"],[0.8888888888888888,\"#fdca26\"],[1.0,\"#f0f921\"]]}],\"heatmapgl\":[{\"type\":\"heatmapgl\",\"colorbar\":{\"outlinewidth\":0,\"ticks\":\"\"},\"colorscale\":[[0.0,\"#0d0887\"],[0.1111111111111111,\"#46039f\"],[0.2222222222222222,\"#7201a8\"],[0.3333333333333333,\"#9c179e\"],[0.4444444444444444,\"#bd3786\"],[0.5555555555555556,\"#d8576b\"],[0.6666666666666666,\"#ed7953\"],[0.7777777777777778,\"#fb9f3a\"],[0.8888888888888888,\"#fdca26\"],[1.0,\"#f0f921\"]]}],\"contourcarpet\":[{\"type\":\"contourcarpet\",\"colorbar\":{\"outlinewidth\":0,\"ticks\":\"\"}}],\"contour\":[{\"type\":\"contour\",\"colorbar\":{\"outlinewidth\":0,\"ticks\":\"\"},\"colorscale\":[[0.0,\"#0d0887\"],[0.1111111111111111,\"#46039f\"],[0.2222222222222222,\"#7201a8\"],[0.3333333333333333,\"#9c179e\"],[0.4444444444444444,\"#bd3786\"],[0.5555555555555556,\"#d8576b\"],[0.6666666666666666,\"#ed7953\"],[0.7777777777777778,\"#fb9f3a\"],[0.8888888888888888,\"#fdca26\"],[1.0,\"#f0f921\"]]}],\"surface\":[{\"type\":\"surface\",\"colorbar\":{\"outlinewidth\":0,\"ticks\":\"\"},\"colorscale\":[[0.0,\"#0d0887\"],[0.1111111111111111,\"#46039f\"],[0.2222222222222222,\"#7201a8\"],[0.3333333333333333,\"#9c179e\"],[0.4444444444444444,\"#bd3786\"],[0.5555555555555556,\"#d8576b\"],[0.6666666666666666,\"#ed7953\"],[0.7777777777777778,\"#fb9f3a\"],[0.8888888888888888,\"#fdca26\"],[1.0,\"#f0f921\"]]}],\"mesh3d\":[{\"type\":\"mesh3d\",\"colorbar\":{\"outlinewidth\":0,\"ticks\":\"\"}}],\"scatter\":[{\"fillpattern\":{\"fillmode\":\"overlay\",\"size\":10,\"solidity\":0.2},\"type\":\"scatter\"}],\"parcoords\":[{\"type\":\"parcoords\",\"line\":{\"colorbar\":{\"outlinewidth\":0,\"ticks\":\"\"}}}],\"scatterpolargl\":[{\"type\":\"scatterpolargl\",\"marker\":{\"colorbar\":{\"outlinewidth\":0,\"ticks\":\"\"}}}],\"bar\":[{\"error_x\":{\"color\":\"#2a3f5f\"},\"error_y\":{\"color\":\"#2a3f5f\"},\"marker\":{\"line\":{\"color\":\"#E5ECF6\",\"width\":0.5},\"pattern\":{\"fillmode\":\"overlay\",\"size\":10,\"solidity\":0.2}},\"type\":\"bar\"}],\"scattergeo\":[{\"type\":\"scattergeo\",\"marker\":{\"colorbar\":{\"outlinewidth\":0,\"ticks\":\"\"}}}],\"scatterpolar\":[{\"type\":\"scatterpolar\",\"marker\":{\"colorbar\":{\"outlinewidth\":0,\"ticks\":\"\"}}}],\"histogram\":[{\"marker\":{\"pattern\":{\"fillmode\":\"overlay\",\"size\":10,\"solidity\":0.2}},\"type\":\"histogram\"}],\"scattergl\":[{\"type\":\"scattergl\",\"marker\":{\"colorbar\":{\"outlinewidth\":0,\"ticks\":\"\"}}}],\"scatter3d\":[{\"type\":\"scatter3d\",\"line\":{\"colorbar\":{\"outlinewidth\":0,\"ticks\":\"\"}},\"marker\":{\"colorbar\":{\"outlinewidth\":0,\"ticks\":\"\"}}}],\"scattermapbox\":[{\"type\":\"scattermapbox\",\"marker\":{\"colorbar\":{\"outlinewidth\":0,\"ticks\":\"\"}}}],\"scatterternary\":[{\"type\":\"scatterternary\",\"marker\":{\"colorbar\":{\"outlinewidth\":0,\"ticks\":\"\"}}}],\"scattercarpet\":[{\"type\":\"scattercarpet\",\"marker\":{\"colorbar\":{\"outlinewidth\":0,\"ticks\":\"\"}}}],\"carpet\":[{\"aaxis\":{\"endlinecolor\":\"#2a3f5f\",\"gridcolor\":\"white\",\"linecolor\":\"white\",\"minorgridcolor\":\"white\",\"startlinecolor\":\"#2a3f5f\"},\"baxis\":{\"endlinecolor\":\"#2a3f5f\",\"gridcolor\":\"white\",\"linecolor\":\"white\",\"minorgridcolor\":\"white\",\"startlinecolor\":\"#2a3f5f\"},\"type\":\"carpet\"}],\"table\":[{\"cells\":{\"fill\":{\"color\":\"#EBF0F8\"},\"line\":{\"color\":\"white\"}},\"header\":{\"fill\":{\"color\":\"#C8D4E3\"},\"line\":{\"color\":\"white\"}},\"type\":\"table\"}],\"barpolar\":[{\"marker\":{\"line\":{\"color\":\"#E5ECF6\",\"width\":0.5},\"pattern\":{\"fillmode\":\"overlay\",\"size\":10,\"solidity\":0.2}},\"type\":\"barpolar\"}],\"pie\":[{\"automargin\":true,\"type\":\"pie\"}]},\"layout\":{\"autotypenumbers\":\"strict\",\"colorway\":[\"#636efa\",\"#EF553B\",\"#00cc96\",\"#ab63fa\",\"#FFA15A\",\"#19d3f3\",\"#FF6692\",\"#B6E880\",\"#FF97FF\",\"#FECB52\"],\"font\":{\"color\":\"#2a3f5f\"},\"hovermode\":\"closest\",\"hoverlabel\":{\"align\":\"left\"},\"paper_bgcolor\":\"white\",\"plot_bgcolor\":\"#E5ECF6\",\"polar\":{\"bgcolor\":\"#E5ECF6\",\"angularaxis\":{\"gridcolor\":\"white\",\"linecolor\":\"white\",\"ticks\":\"\"},\"radialaxis\":{\"gridcolor\":\"white\",\"linecolor\":\"white\",\"ticks\":\"\"}},\"ternary\":{\"bgcolor\":\"#E5ECF6\",\"aaxis\":{\"gridcolor\":\"white\",\"linecolor\":\"white\",\"ticks\":\"\"},\"baxis\":{\"gridcolor\":\"white\",\"linecolor\":\"white\",\"ticks\":\"\"},\"caxis\":{\"gridcolor\":\"white\",\"linecolor\":\"white\",\"ticks\":\"\"}},\"coloraxis\":{\"colorbar\":{\"outlinewidth\":0,\"ticks\":\"\"}},\"colorscale\":{\"sequential\":[[0.0,\"#0d0887\"],[0.1111111111111111,\"#46039f\"],[0.2222222222222222,\"#7201a8\"],[0.3333333333333333,\"#9c179e\"],[0.4444444444444444,\"#bd3786\"],[0.5555555555555556,\"#d8576b\"],[0.6666666666666666,\"#ed7953\"],[0.7777777777777778,\"#fb9f3a\"],[0.8888888888888888,\"#fdca26\"],[1.0,\"#f0f921\"]],\"sequentialminus\":[[0.0,\"#0d0887\"],[0.1111111111111111,\"#46039f\"],[0.2222222222222222,\"#7201a8\"],[0.3333333333333333,\"#9c179e\"],[0.4444444444444444,\"#bd3786\"],[0.5555555555555556,\"#d8576b\"],[0.6666666666666666,\"#ed7953\"],[0.7777777777777778,\"#fb9f3a\"],[0.8888888888888888,\"#fdca26\"],[1.0,\"#f0f921\"]],\"diverging\":[[0,\"#8e0152\"],[0.1,\"#c51b7d\"],[0.2,\"#de77ae\"],[0.3,\"#f1b6da\"],[0.4,\"#fde0ef\"],[0.5,\"#f7f7f7\"],[0.6,\"#e6f5d0\"],[0.7,\"#b8e186\"],[0.8,\"#7fbc41\"],[0.9,\"#4d9221\"],[1,\"#276419\"]]},\"xaxis\":{\"gridcolor\":\"white\",\"linecolor\":\"white\",\"ticks\":\"\",\"title\":{\"standoff\":15},\"zerolinecolor\":\"white\",\"automargin\":true,\"zerolinewidth\":2},\"yaxis\":{\"gridcolor\":\"white\",\"linecolor\":\"white\",\"ticks\":\"\",\"title\":{\"standoff\":15},\"zerolinecolor\":\"white\",\"automargin\":true,\"zerolinewidth\":2},\"scene\":{\"xaxis\":{\"backgroundcolor\":\"#E5ECF6\",\"gridcolor\":\"white\",\"linecolor\":\"white\",\"showbackground\":true,\"ticks\":\"\",\"zerolinecolor\":\"white\",\"gridwidth\":2},\"yaxis\":{\"backgroundcolor\":\"#E5ECF6\",\"gridcolor\":\"white\",\"linecolor\":\"white\",\"showbackground\":true,\"ticks\":\"\",\"zerolinecolor\":\"white\",\"gridwidth\":2},\"zaxis\":{\"backgroundcolor\":\"#E5ECF6\",\"gridcolor\":\"white\",\"linecolor\":\"white\",\"showbackground\":true,\"ticks\":\"\",\"zerolinecolor\":\"white\",\"gridwidth\":2}},\"shapedefaults\":{\"line\":{\"color\":\"#2a3f5f\"}},\"annotationdefaults\":{\"arrowcolor\":\"#2a3f5f\",\"arrowhead\":0,\"arrowwidth\":1},\"geo\":{\"bgcolor\":\"white\",\"landcolor\":\"#E5ECF6\",\"subunitcolor\":\"white\",\"showland\":true,\"showlakes\":true,\"lakecolor\":\"white\"},\"title\":{\"x\":0.05},\"mapbox\":{\"style\":\"light\"}}},\"xaxis\":{\"anchor\":\"y\",\"domain\":[0.0,1.0],\"title\":{\"text\":\"Mean Payment Time\"}},\"yaxis\":{\"anchor\":\"x\",\"domain\":[0.0,1.0],\"title\":{\"text\":\"Std Dev Payment Time\"}},\"coloraxis\":{\"colorbar\":{\"title\":{\"text\":\"cluster_id\"}},\"colorscale\":[[0.0,\"#0d0887\"],[0.1111111111111111,\"#46039f\"],[0.2222222222222222,\"#7201a8\"],[0.3333333333333333,\"#9c179e\"],[0.4444444444444444,\"#bd3786\"],[0.5555555555555556,\"#d8576b\"],[0.6666666666666666,\"#ed7953\"],[0.7777777777777778,\"#fb9f3a\"],[0.8888888888888888,\"#fdca26\"],[1.0,\"#f0f921\"]]},\"legend\":{\"tracegroupgap\":0},\"title\":{\"text\":\"Clusters - Mean Payment Time vs Std Dev Payment Time\"}},                        {\"responsive\": true}                    ).then(function(){\n",
       "                            \n",
       "var gd = document.getElementById('9447fd17-54fd-4924-ade7-a2c361a804d7');\n",
       "var x = new MutationObserver(function (mutations, observer) {{\n",
       "        var display = window.getComputedStyle(gd).display;\n",
       "        if (!display || display === 'none') {{\n",
       "            console.log([gd, 'removed!']);\n",
       "            Plotly.purge(gd);\n",
       "            observer.disconnect();\n",
       "        }}\n",
       "}});\n",
       "\n",
       "// Listen for the removal of the full notebook cells\n",
       "var notebookContainer = gd.closest('#notebook-container');\n",
       "if (notebookContainer) {{\n",
       "    x.observe(notebookContainer, {childList: true});\n",
       "}}\n",
       "\n",
       "// Listen for the clearing of the current output cell\n",
       "var outputEl = gd.closest('.output');\n",
       "if (outputEl) {{\n",
       "    x.observe(outputEl, {childList: true});\n",
       "}}\n",
       "\n",
       "                        })                };                });            </script>        </div>"
      ]
     },
     "metadata": {},
     "output_type": "display_data"
    }
   ],
   "source": [
    "import plotly.express as px\n",
    "\n",
    "# Define colors for each cluster\n",
    "colors = ['red', 'blue', 'green']\n",
    "\n",
    "# Create a scatter plot using Plotly\n",
    "fig = px.scatter(grouped_data, x='Mean_Payment_time', y='Std_Dev_Payment_time', color='cluster_id',\n",
    "                 color_discrete_sequence=colors, labels={'Mean_Payment_time': 'Mean Payment Time',\n",
    "                                                          'Std_Dev_Payment_time': 'Std Dev Payment Time'},\n",
    "                 title='Clusters - Mean Payment Time vs Std Dev Payment Time', hover_name='CUSTOMER_NUMBER')\n",
    "\n",
    "# Show the plot\n",
    "fig.show()\n"
   ]
  },
  {
   "cell_type": "code",
   "execution_count": 212,
   "id": "23672fe0",
   "metadata": {},
   "outputs": [
    {
     "data": {
      "image/png": "[encoded data removed]",
      "text/plain": [
       "<Figure size 800x600 with 1 Axes>"
      ]
     },
     "metadata": {},
     "output_type": "display_data"
    }
   ],
   "source": [
    "import matplotlib.pyplot as plt\n",
    "\n",
    "# Assume 'grouped_data' contains the required data\n",
    "\n",
    "# Define quadrants based on average and standard deviation thresholds\n",
    "mean_threshold = grouped_data['Mean_Payment_time'].median()\n",
    "std_threshold = grouped_data['Std_Dev_Payment_time'].median()\n",
    "\n",
    "# Create a new column to categorize quadrants\n",
    "grouped_data['Quadrant'] = 'Quadrant 1'\n",
    "grouped_data.loc[grouped_data['Mean_Payment_time'] <= mean_threshold, 'Quadrant'] = 'Quadrant 2'\n",
    "grouped_data.loc[(grouped_data['Mean_Payment_time'] > mean_threshold) & (grouped_data['Std_Dev_Payment_time'] <= std_threshold), 'Quadrant'] = 'Quadrant 3'\n",
    "grouped_data.loc[(grouped_data['Mean_Payment_time'] > mean_threshold) & (grouped_data['Std_Dev_Payment_time'] > std_threshold), 'Quadrant'] = 'Quadrant 4'\n",
    "\n",
    "# Plotting quadrant-wise behavior\n",
    "plt.figure(figsize=(8, 6))\n",
    "\n",
    "for quadrant in grouped_data['Quadrant'].unique():\n",
    "    data = grouped_data[grouped_data['Quadrant'] == quadrant]\n",
    "    plt.scatter(data['Mean_Payment_time'], data['Std_Dev_Payment_time'], label=quadrant)\n",
    "\n",
    "plt.axvline(x=mean_threshold, color='black', linestyle='--')\n",
    "plt.axhline(y=std_threshold, color='black', linestyle='--')\n",
    "\n",
    "plt.xlabel('Average Payment Time')\n",
    "plt.ylabel('Standard Deviation in Payment Time')\n",
    "plt.title('Quadrant-wise B2B Payment Analysis')\n",
    "plt.legend()\n",
    "plt.grid(True)\n",
    "plt.show()\n"
   ]
  },
  {
   "cell_type": "raw",
   "id": "c24eba04",
   "metadata": {},
   "source": [
    "1.  Cluster 0: Punctual Payers\n",
    "   - Low delay in payments\n",
    "   - Low standard deviation\n",
    "   \n",
    "2. CLuster 1:  Erratic Payers\n",
    "   - High payment time\n",
    "   - Low standard deviation\n",
    "\n",
    "3. Cluster2 : Variable Payers\n",
    "   - High deviation in payment time\n",
    "   - High payment time\n",
    "\n",
    "\n"
   ]
  },
  {
   "cell_type": "markdown",
   "id": "911754f7",
   "metadata": {},
   "source": [
    "# Model Building - Predictive Modelling\n"
   ]
  },
  {
   "cell_type": "raw",
   "id": "2ce289dd",
   "metadata": {},
   "source": [
    "We will try to build multiple classification models to predict late payments at an invoice level.As explainability of the model is an important step here, it is important to identify variables that strongly predict late payments. Logistic Regression or Decision Trees could be our best bet here."
   ]
  },
  {
   "cell_type": "code",
   "execution_count": 213,
   "id": "1e282b23",
   "metadata": {
    "scrolled": true
   },
   "outputs": [
    {
     "data": {
      "text/plain": [
       "Index(['RECEIPT_METHOD', 'CUSTOMER_NAME', 'CUSTOMER_NUMBER', 'RECEIPT_DOC_NO',\n",
       "       'RECEIPT_DATE', 'CLASS', 'CURRENCY_CODE', 'Local Amount', 'USD Amount',\n",
       "       'INVOICE_ALLOCATED', 'INVOICE_CREATION_DATE', 'DUE_DATE',\n",
       "       'PAYMENT_TERM', 'INVOICE_CLASS', 'INVOICE_CURRENCY_CODE',\n",
       "       'INVOICE_TYPE', 'Payment Status', 'Payment_Terms',\n",
       "       'Average_payment_time', 'Receipt_Week'],\n",
       "      dtype='object')"
      ]
     },
     "execution_count": 213,
     "metadata": {},
     "output_type": "execute_result"
    }
   ],
   "source": [
    "received_payments.columns"
   ]
  },
  {
   "cell_type": "code",
   "execution_count": 214,
   "id": "26e7e004",
   "metadata": {},
   "outputs": [
    {
     "data": {
      "text/plain": [
       "Index(['CUSTOMER_NUMBER', 'Mean_Payment_time', 'Std_Dev_Payment_time',\n",
       "       'cluster_id', 'Quadrant'],\n",
       "      dtype='object')"
      ]
     },
     "execution_count": 214,
     "metadata": {},
     "output_type": "execute_result"
    }
   ],
   "source": [
    "grouped_data.columns"
   ]
  },
  {
   "cell_type": "code",
   "execution_count": 215,
   "id": "5cdaa506",
   "metadata": {
    "scrolled": true
   },
   "outputs": [
    {
     "name": "stdout",
     "output_type": "stream",
     "text": [
      "<class 'pandas.core.frame.DataFrame'>\n",
      "Int64Index: 91826 entries, 0 to 93936\n",
      "Data columns (total 21 columns):\n",
      " #   Column                 Non-Null Count  Dtype         \n",
      "---  ------                 --------------  -----         \n",
      " 0   RECEIPT_METHOD         91826 non-null  object        \n",
      " 1   CUSTOMER_NAME          91826 non-null  object        \n",
      " 2   CUSTOMER_NUMBER        91826 non-null  object        \n",
      " 3   RECEIPT_DOC_NO         91797 non-null  float64       \n",
      " 4   RECEIPT_DATE           91826 non-null  datetime64[ns]\n",
      " 5   CLASS                  91826 non-null  object        \n",
      " 6   CURRENCY_CODE          91826 non-null  object        \n",
      " 7   Local Amount           91826 non-null  float64       \n",
      " 8   USD Amount             91826 non-null  float64       \n",
      " 9   INVOICE_ALLOCATED      91826 non-null  object        \n",
      " 10  INVOICE_CREATION_DATE  91826 non-null  datetime64[ns]\n",
      " 11  DUE_DATE               91826 non-null  datetime64[ns]\n",
      " 12  PAYMENT_TERM           91826 non-null  object        \n",
      " 13  INVOICE_CLASS          91826 non-null  object        \n",
      " 14  INVOICE_CURRENCY_CODE  91826 non-null  object        \n",
      " 15  INVOICE_TYPE           91826 non-null  object        \n",
      " 16  Payment Status         91826 non-null  object        \n",
      " 17  Payment_Terms          91826 non-null  int64         \n",
      " 18  Average_payment_time   91826 non-null  int64         \n",
      " 19  Receipt_Week           91826 non-null  period[W-SUN] \n",
      " 20  cluster_id             91826 non-null  int64         \n",
      "dtypes: datetime64[ns](3), float64(3), int64(3), object(11), period[W-SUN](1)\n",
      "memory usage: 15.4+ MB\n"
     ]
    }
   ],
   "source": [
    "#We need to map the clusters obtained from the Customer Segmentation Process to the receivables dataset\n",
    "# Merge the two DataFrames based on 'CUSTOMER_NUMBER'\n",
    "# Create a dictionary mapping 'CUSTOMER_NUMBER' to 'cluster_id' from grouped_data\n",
    "customer_cluster_dict = dict(zip(grouped_data['CUSTOMER_NUMBER'], grouped_data['cluster_id']))\n",
    "\n",
    "# Map 'cluster_id' to 'received_payments' DataFrame using the created dictionary\n",
    "received_payments['cluster_id'] = received_payments['CUSTOMER_NUMBER'].map(customer_cluster_dict)\n",
    "\n",
    "received_payments.info()"
   ]
  },
  {
   "cell_type": "code",
   "execution_count": 216,
   "id": "47651692",
   "metadata": {},
   "outputs": [
    {
     "data": {
      "text/plain": [
       "0"
      ]
     },
     "execution_count": 216,
     "metadata": {},
     "output_type": "execute_result"
    }
   ],
   "source": [
    "#Checking if there are some cluster IDs which are Null\n",
    "received_payments['cluster_id'].isnull().sum()"
   ]
  },
  {
   "cell_type": "markdown",
   "id": "a7180353",
   "metadata": {},
   "source": [
    "AWSESOME!!!"
   ]
  },
  {
   "cell_type": "code",
   "execution_count": 217,
   "id": "fd9ff887",
   "metadata": {},
   "outputs": [
    {
     "data": {
      "text/plain": [
       "Index(['RECEIPT_METHOD', 'CUSTOMER_NAME', 'CUSTOMER_NUMBER', 'RECEIPT_DOC_NO',\n",
       "       'RECEIPT_DATE', 'CLASS', 'CURRENCY_CODE', 'Local Amount', 'USD Amount',\n",
       "       'INVOICE_ALLOCATED', 'INVOICE_CREATION_DATE', 'DUE_DATE',\n",
       "       'PAYMENT_TERM', 'INVOICE_CLASS', 'INVOICE_CURRENCY_CODE',\n",
       "       'INVOICE_TYPE', 'Payment Status', 'Payment_Terms',\n",
       "       'Average_payment_time', 'Receipt_Week', 'cluster_id'],\n",
       "      dtype='object')"
      ]
     },
     "execution_count": 217,
     "metadata": {},
     "output_type": "execute_result"
    }
   ],
   "source": [
    "received_payments.columns"
   ]
  },
  {
   "cell_type": "code",
   "execution_count": 218,
   "id": "f5bf511d",
   "metadata": {},
   "outputs": [],
   "source": [
    "#Columns to be dropped from logistical regression\n",
    "columns_to_be_dropped=['RECEIPT_METHOD', 'CUSTOMER_NAME', 'CUSTOMER_NUMBER', 'RECEIPT_DOC_NO',\n",
    "       'RECEIPT_DATE', 'CLASS', 'Local Amount', \n",
    "       'INVOICE_ALLOCATED', 'INVOICE_CREATION_DATE', 'CURRENCY_CODE', 'DUE_DATE',\n",
    "       'PAYMENT_TERM', 'INVOICE_CLASS', 'INVOICE_CURRENCY_CODE',\n",
    "       'INVOICE_TYPE', 'Receipt_Week','Average_payment_time']"
   ]
  },
  {
   "cell_type": "code",
   "execution_count": 219,
   "id": "c3ae90ee",
   "metadata": {},
   "outputs": [],
   "source": [
    "#Dropping non consequential columns which are not important for building of the model\n",
    "received_payments = received_payments.drop(columns=columns_to_be_dropped, axis=1)"
   ]
  },
  {
   "cell_type": "code",
   "execution_count": 220,
   "id": "1a0572cf",
   "metadata": {},
   "outputs": [
    {
     "data": {
      "text/html": [
       "<div>\n",
       "<style scoped>\n",
       "    .dataframe tbody tr th:only-of-type {\n",
       "        vertical-align: middle;\n",
       "    }\n",
       "\n",
       "    .dataframe tbody tr th {\n",
       "        vertical-align: top;\n",
       "    }\n",
       "\n",
       "    .dataframe thead th {\n",
       "        text-align: right;\n",
       "    }\n",
       "</style>\n",
       "<table border=\"1\" class=\"dataframe\">\n",
       "  <thead>\n",
       "    <tr style=\"text-align: right;\">\n",
       "      <th></th>\n",
       "      <th>USD Amount</th>\n",
       "      <th>Payment Status</th>\n",
       "      <th>Payment_Terms</th>\n",
       "      <th>cluster_id</th>\n",
       "    </tr>\n",
       "  </thead>\n",
       "  <tbody>\n",
       "    <tr>\n",
       "      <th>0</th>\n",
       "      <td>101018.63040</td>\n",
       "      <td>Late Payment</td>\n",
       "      <td>58</td>\n",
       "      <td>0</td>\n",
       "    </tr>\n",
       "    <tr>\n",
       "      <th>1</th>\n",
       "      <td>48990.21133</td>\n",
       "      <td>Late Payment</td>\n",
       "      <td>30</td>\n",
       "      <td>0</td>\n",
       "    </tr>\n",
       "    <tr>\n",
       "      <th>2</th>\n",
       "      <td>41991.60971</td>\n",
       "      <td>On-time Payment</td>\n",
       "      <td>30</td>\n",
       "      <td>0</td>\n",
       "    </tr>\n",
       "    <tr>\n",
       "      <th>3</th>\n",
       "      <td>41991.60971</td>\n",
       "      <td>Late Payment</td>\n",
       "      <td>30</td>\n",
       "      <td>2</td>\n",
       "    </tr>\n",
       "    <tr>\n",
       "      <th>4</th>\n",
       "      <td>41991.60971</td>\n",
       "      <td>Late Payment</td>\n",
       "      <td>30</td>\n",
       "      <td>0</td>\n",
       "    </tr>\n",
       "  </tbody>\n",
       "</table>\n",
       "</div>"
      ],
      "text/plain": [
       "     USD Amount   Payment Status  Payment_Terms  cluster_id\n",
       "0  101018.63040     Late Payment             58           0\n",
       "1   48990.21133     Late Payment             30           0\n",
       "2   41991.60971  On-time Payment             30           0\n",
       "3   41991.60971     Late Payment             30           2\n",
       "4   41991.60971     Late Payment             30           0"
      ]
     },
     "execution_count": 220,
     "metadata": {},
     "output_type": "execute_result"
    }
   ],
   "source": [
    "received_payments.head()"
   ]
  },
  {
   "cell_type": "code",
   "execution_count": 221,
   "id": "bfb70469",
   "metadata": {},
   "outputs": [
    {
     "data": {
      "text/plain": [
       "USD Amount        float64\n",
       "Payment Status     object\n",
       "Payment_Terms       int64\n",
       "cluster_id          int64\n",
       "dtype: object"
      ]
     },
     "execution_count": 221,
     "metadata": {},
     "output_type": "execute_result"
    }
   ],
   "source": [
    "received_payments.dtypes"
   ]
  },
  {
   "cell_type": "code",
   "execution_count": 222,
   "id": "95fc12f8",
   "metadata": {},
   "outputs": [],
   "source": [
    "# Convert 'cluster_id' to categorical variable\n",
    "received_payments['cluster_id'] = received_payments['cluster_id'].astype('category')\n"
   ]
  },
  {
   "cell_type": "markdown",
   "id": "7ba46ca1",
   "metadata": {},
   "source": [
    "Dummy variable creation\n",
    "The next step is to deal with the categorical variables present in the dataset. So first take a look at which variables are actually categorical variables."
   ]
  },
  {
   "cell_type": "code",
   "execution_count": 223,
   "id": "0ef329d5",
   "metadata": {},
   "outputs": [],
   "source": [
    "# Create dummy variables for specified columns\n",
    "dummy = pd.get_dummies(received_payments[['cluster_id']], drop_first=True)\n",
    "\n",
    "# Add the results to the master dataframe\n",
    "received_payments = pd.concat([received_payments, dummy], axis=1)\n"
   ]
  },
  {
   "cell_type": "code",
   "execution_count": 224,
   "id": "fb3854d1",
   "metadata": {
    "scrolled": true
   },
   "outputs": [
    {
     "name": "stdout",
     "output_type": "stream",
     "text": [
      "<class 'pandas.core.frame.DataFrame'>\n",
      "Int64Index: 91826 entries, 0 to 93936\n",
      "Data columns (total 6 columns):\n",
      " #   Column          Non-Null Count  Dtype   \n",
      "---  ------          --------------  -----   \n",
      " 0   USD Amount      91826 non-null  float64 \n",
      " 1   Payment Status  91826 non-null  object  \n",
      " 2   Payment_Terms   91826 non-null  int64   \n",
      " 3   cluster_id      91826 non-null  category\n",
      " 4   cluster_id_1    91826 non-null  uint8   \n",
      " 5   cluster_id_2    91826 non-null  uint8   \n",
      "dtypes: category(1), float64(1), int64(1), object(1), uint8(2)\n",
      "memory usage: 3.1+ MB\n"
     ]
    }
   ],
   "source": [
    "received_payments.info()"
   ]
  },
  {
   "cell_type": "code",
   "execution_count": 225,
   "id": "124ce82d",
   "metadata": {},
   "outputs": [
    {
     "data": {
      "text/plain": [
       "[0, 2, 1]\n",
       "Categories (3, int64): [0, 1, 2]"
      ]
     },
     "execution_count": 225,
     "metadata": {},
     "output_type": "execute_result"
    }
   ],
   "source": [
    "received_payments['cluster_id'].unique()               "
   ]
  },
  {
   "cell_type": "code",
   "execution_count": 226,
   "id": "5c2c9c59",
   "metadata": {},
   "outputs": [],
   "source": [
    "# Drop the 'cluster_id' and 'CURRENCY_CODE' columns from the merged dataframe\n",
    "received_payments.drop(['cluster_id'], axis=1, inplace=True)\n"
   ]
  },
  {
   "cell_type": "code",
   "execution_count": 227,
   "id": "7cfe52ca",
   "metadata": {},
   "outputs": [
    {
     "data": {
      "text/plain": [
       "Index(['USD Amount', 'Payment Status', 'Payment_Terms', 'cluster_id_1',\n",
       "       'cluster_id_2'],\n",
       "      dtype='object')"
      ]
     },
     "execution_count": 227,
     "metadata": {},
     "output_type": "execute_result"
    }
   ],
   "source": [
    "received_payments.columns"
   ]
  },
  {
   "cell_type": "code",
   "execution_count": 228,
   "id": "5d7d2269",
   "metadata": {},
   "outputs": [
    {
     "data": {
      "text/plain": [
       "array(['Late Payment', 'On-time Payment'], dtype=object)"
      ]
     },
     "execution_count": 228,
     "metadata": {},
     "output_type": "execute_result"
    }
   ],
   "source": [
    "received_payments['Payment Status'].unique()"
   ]
  },
  {
   "cell_type": "code",
   "execution_count": 229,
   "id": "e659bdc2",
   "metadata": {},
   "outputs": [
    {
     "name": "stdout",
     "output_type": "stream",
     "text": [
      "     USD Amount  Late payment  Payment_Terms  cluster_id_1  cluster_id_2\n",
      "0  101018.63040             1             58             0             0\n",
      "1   48990.21133             1             30             0             0\n",
      "2   41991.60971             0             30             0             0\n",
      "3   41991.60971             1             30             0             1\n",
      "4   41991.60971             1             30             0             0\n"
     ]
    }
   ],
   "source": [
    "# Rename 'Payment Status' column to 'Late payment'\n",
    "received_payments.rename(columns={'Payment Status': 'Late payment'}, inplace=True)\n",
    "\n",
    "# Map 'Late Payment' to 1 and 'On-time Payment' to 0\n",
    "received_payments['Late payment'] = received_payments['Late payment'].map({'Late Payment': 1, 'On-time Payment': 0})\n",
    "\n",
    "# Display the updated dataframe\n",
    "print(received_payments.head())\n"
   ]
  },
  {
   "cell_type": "markdown",
   "id": "d13836ea",
   "metadata": {},
   "source": [
    "### Test-Train Split\n",
    "The next step is to split the dataset into training an testing sets."
   ]
  },
  {
   "cell_type": "code",
   "execution_count": 230,
   "id": "f34f97c7",
   "metadata": {},
   "outputs": [],
   "source": [
    "# Import the required library\n",
    "from sklearn.model_selection import train_test_split"
   ]
  },
  {
   "cell_type": "code",
   "execution_count": 231,
   "id": "f5101793",
   "metadata": {},
   "outputs": [],
   "source": [
    "# Assuming 'received_payments' contains your data\n",
    "# Selecting features and target variable\n",
    "features = ['USD Amount', 'Payment_Terms', 'cluster_id_1', 'cluster_id_2']\n",
    "target = 'Late payment'  \n",
    "\n",
    "# Creating feature matrix (X) and target vector (y)\n",
    "X = received_payments[features]\n",
    "y = received_payments[target]"
   ]
  },
  {
   "cell_type": "code",
   "execution_count": 232,
   "id": "a87db836",
   "metadata": {},
   "outputs": [],
   "source": [
    "# Split the dataset into 70% train and 30% test\n",
    "X_train, X_test, y_train, y_test = train_test_split(X, y, train_size=0.7, test_size=0.3, random_state=100)"
   ]
  },
  {
   "cell_type": "markdown",
   "id": "b190a629",
   "metadata": {},
   "source": [
    "#### Scaling the two numerical variables using the Min Max Scaler"
   ]
  },
  {
   "cell_type": "code",
   "execution_count": 233,
   "id": "b7b4f5e4",
   "metadata": {
    "scrolled": true
   },
   "outputs": [
    {
     "data": {
      "text/html": [
       "<div>\n",
       "<style scoped>\n",
       "    .dataframe tbody tr th:only-of-type {\n",
       "        vertical-align: middle;\n",
       "    }\n",
       "\n",
       "    .dataframe tbody tr th {\n",
       "        vertical-align: top;\n",
       "    }\n",
       "\n",
       "    .dataframe thead th {\n",
       "        text-align: right;\n",
       "    }\n",
       "</style>\n",
       "<table border=\"1\" class=\"dataframe\">\n",
       "  <thead>\n",
       "    <tr style=\"text-align: right;\">\n",
       "      <th></th>\n",
       "      <th>USD Amount</th>\n",
       "      <th>Payment_Terms</th>\n",
       "      <th>cluster_id_1</th>\n",
       "      <th>cluster_id_2</th>\n",
       "    </tr>\n",
       "  </thead>\n",
       "  <tbody>\n",
       "    <tr>\n",
       "      <th>36382</th>\n",
       "      <td>0.002817</td>\n",
       "      <td>0.923501</td>\n",
       "      <td>0</td>\n",
       "      <td>1</td>\n",
       "    </tr>\n",
       "    <tr>\n",
       "      <th>45915</th>\n",
       "      <td>0.070331</td>\n",
       "      <td>0.918736</td>\n",
       "      <td>0</td>\n",
       "      <td>0</td>\n",
       "    </tr>\n",
       "    <tr>\n",
       "      <th>47236</th>\n",
       "      <td>0.130462</td>\n",
       "      <td>0.915726</td>\n",
       "      <td>0</td>\n",
       "      <td>1</td>\n",
       "    </tr>\n",
       "    <tr>\n",
       "      <th>18621</th>\n",
       "      <td>0.108911</td>\n",
       "      <td>0.923501</td>\n",
       "      <td>0</td>\n",
       "      <td>1</td>\n",
       "    </tr>\n",
       "    <tr>\n",
       "      <th>33652</th>\n",
       "      <td>0.176406</td>\n",
       "      <td>0.923501</td>\n",
       "      <td>0</td>\n",
       "      <td>1</td>\n",
       "    </tr>\n",
       "  </tbody>\n",
       "</table>\n",
       "</div>"
      ],
      "text/plain": [
       "       USD Amount  Payment_Terms  cluster_id_1  cluster_id_2\n",
       "36382    0.002817       0.923501             0             1\n",
       "45915    0.070331       0.918736             0             0\n",
       "47236    0.130462       0.915726             0             1\n",
       "18621    0.108911       0.923501             0             1\n",
       "33652    0.176406       0.923501             0             1"
      ]
     },
     "execution_count": 233,
     "metadata": {},
     "output_type": "execute_result"
    }
   ],
   "source": [
    "# Import MinMax scaler\n",
    "from sklearn.preprocessing import MinMaxScaler\n",
    "minmaxscaler=MinMaxScaler()\n",
    "X_train[['USD Amount','Payment_Terms']] = minmaxscaler.fit_transform(X_train[['USD Amount','Payment_Terms']])\n",
    "X_train.head()"
   ]
  },
  {
   "cell_type": "markdown",
   "id": "8f1b5dbf",
   "metadata": {},
   "source": [
    "## Building a Classification Model"
   ]
  },
  {
   "cell_type": "code",
   "execution_count": 495,
   "id": "60fbc0ea",
   "metadata": {},
   "outputs": [
    {
     "name": "stdout",
     "output_type": "stream",
     "text": [
      "Random Forest Classifier Accuracy: 0.6406998693190068\n",
      "              precision    recall  f1-score   support\n",
      "\n",
      "           0       0.48      0.73      0.58      9205\n",
      "           1       0.81      0.60      0.69     18343\n",
      "\n",
      "    accuracy                           0.64     27548\n",
      "   macro avg       0.65      0.66      0.63     27548\n",
      "weighted avg       0.70      0.64      0.65     27548\n",
      "\n"
     ]
    }
   ],
   "source": [
    "from sklearn.ensemble import RandomForestClassifier\n",
    "from sklearn.model_selection import train_test_split\n",
    "from sklearn.metrics import accuracy_score, classification_report\n",
    "\n",
    "# Initialize RandomForestClassifier\n",
    "rf_clf = RandomForestClassifier(random_state=42)\n",
    "\n",
    "# Fit the model on the training data\n",
    "rf_clf.fit(X_train, y_train)\n",
    "\n",
    "# Predict on the test data\n",
    "y_pred_rf = rf_clf.predict(X_test)\n",
    "\n",
    "# Calculate accuracy\n",
    "accuracy_rf = accuracy_score(y_test, y_pred_rf)\n",
    "print(f\"Random Forest Classifier Accuracy: {accuracy_rf}\")\n",
    "\n",
    "# Display classification report\n",
    "print(classification_report(y_test, y_pred_rf))\n"
   ]
  },
  {
   "cell_type": "markdown",
   "id": "dde9a2b2",
   "metadata": {},
   "source": []
  },
  {
   "cell_type": "code",
   "execution_count": 496,
   "id": "dfedd0bb",
   "metadata": {},
   "outputs": [
    {
     "name": "stdout",
     "output_type": "stream",
     "text": [
      "Best Parameters: {'max_depth': None, 'max_features': 'auto', 'min_samples_leaf': 1, 'min_samples_split': 2}\n",
      "Best Score: 0.8753696052640179\n",
      "              precision    recall  f1-score   support\n",
      "\n",
      "           0       0.47      0.73      0.57      9205\n",
      "           1       0.81      0.59      0.68     18343\n",
      "\n",
      "    accuracy                           0.64     27548\n",
      "   macro avg       0.64      0.66      0.63     27548\n",
      "weighted avg       0.70      0.64      0.65     27548\n",
      "\n"
     ]
    }
   ],
   "source": [
    "from sklearn.model_selection import train_test_split, GridSearchCV\n",
    "param_grid = {\n",
    "    'max_depth': [None, 5, 10, 15],\n",
    "    'min_samples_split': [2, 5, 10],\n",
    "    'min_samples_leaf': [1, 2, 4],\n",
    "    'max_features': ['auto', 'sqrt', 'log2']\n",
    "}\n",
    "\n",
    "# Perform GridSearchCV for hyperparameter tuning\n",
    "grid_search = GridSearchCV(clf, param_grid, cv=5, scoring='accuracy', n_jobs=-1)\n",
    "grid_search.fit(X_train, y_train)\n",
    "\n",
    "# Get the best parameters and score\n",
    "best_params = grid_search.best_params_\n",
    "best_score = grid_search.best_score_\n",
    "print(f\"Best Parameters: {best_params}\")\n",
    "print(f\"Best Score: {best_score}\")\n",
    "\n",
    "# Predict on the test data with the tuned model\n",
    "tuned_clf = grid_search.best_estimator_\n",
    "y_pred = tuned_clf.predict(X_test)\n",
    "\n",
    "# Display classification report\n",
    "print(classification_report(y_test, y_pred))"
   ]
  },
  {
   "cell_type": "markdown",
   "id": "bb720817",
   "metadata": {},
   "source": [
    "### Business Insights and Recommendation"
   ]
  },
  {
   "cell_type": "markdown",
   "id": "1967f98e",
   "metadata": {},
   "source": [
    "# MODEL DEPLOYMENT - TESTING THE MODEL ON OPEN INVOICES DATA"
   ]
  },
  {
   "cell_type": "raw",
   "id": "2b63bae5",
   "metadata": {},
   "source": [
    "OPEN INVOICE DATA DICTIONARY\n",
    "\n",
    "AS_OF_DATE\tAs of the current date that is 4th April, 2022 (when the report was extracted by Schuster)\n",
    "Customer Type\tWhether the customer is a third party or holding a direct relationship with Schuster\n",
    "Customer_Name\tName of the customer/vendor\n",
    "Customer Account No\tCustomer's unique identity number\n",
    "Transaction Number\tTransaction number against each invoice\n",
    "Transaction Date\tThis represents the date when the goods or services were sold by Schuster\n",
    "Payment Term\tDays given to the vendor/customer for making the payments\n",
    "Due Date\tDate when the actual payment is due from the vendor\n",
    "Transaction Currency\tIn which currency the goods or services were sold\n",
    "Local Amount\tInvoice value in local currency\n",
    "Transaction Class\tIt is the invoice class - CM, DM, INV or PMT\n",
    "AGE\tIt is the age of the open invoice. This is the difference between the Invoice Due date and the as-of-date\n",
    "USD Amount\tInvoice value in USD\n",
    "INV_CREATION_DATE\tDate when the invoice was created"
   ]
  },
  {
   "cell_type": "markdown",
   "id": "83225d82",
   "metadata": {},
   "source": [
    "#### Loding the data set for open Invoices as Well "
   ]
  },
  {
   "cell_type": "code",
   "execution_count": 421,
   "id": "c0b98673",
   "metadata": {},
   "outputs": [],
   "source": [
    "# Load open invoice data\n",
    "open_invoices = pd.read_csv(r'C:\\Users\\sanka\\Downloads\\MS in Data Science Folder\\Domain Case Study - Retail & B2B e-commerce\\Open_Invoice_data.csv',encoding='latin1')"
   ]
  },
  {
   "cell_type": "code",
   "execution_count": 422,
   "id": "d7d8ed03",
   "metadata": {},
   "outputs": [
    {
     "data": {
      "text/plain": [
       "Index(['AS_OF_DATE', 'Customer Type', 'Customer_Name', 'Customer Account No',\n",
       "       'Transaction Number', 'Transaction Date', 'Payment Term', 'Due Date',\n",
       "       'Transaction Currency', 'Local Amount', 'Transaction Class', 'AGE',\n",
       "       'USD Amount', 'INV_CREATION_DATE'],\n",
       "      dtype='object')"
      ]
     },
     "execution_count": 422,
     "metadata": {},
     "output_type": "execute_result"
    }
   ],
   "source": [
    "open_invoices.columns"
   ]
  },
  {
   "cell_type": "code",
   "execution_count": 423,
   "id": "aaac1c84",
   "metadata": {},
   "outputs": [
    {
     "name": "stdout",
     "output_type": "stream",
     "text": [
      "<class 'pandas.core.frame.DataFrame'>\n",
      "RangeIndex: 88204 entries, 0 to 88203\n",
      "Data columns (total 14 columns):\n",
      " #   Column                Non-Null Count  Dtype  \n",
      "---  ------                --------------  -----  \n",
      " 0   AS_OF_DATE            88204 non-null  object \n",
      " 1   Customer Type         88204 non-null  object \n",
      " 2   Customer_Name         88204 non-null  object \n",
      " 3   Customer Account No   88201 non-null  float64\n",
      " 4   Transaction Number    88195 non-null  object \n",
      " 5   Transaction Date      88204 non-null  object \n",
      " 6   Payment Term          88204 non-null  object \n",
      " 7   Due Date              88204 non-null  object \n",
      " 8   Transaction Currency  88204 non-null  object \n",
      " 9   Local Amount          88204 non-null  object \n",
      " 10  Transaction Class     88204 non-null  object \n",
      " 11  AGE                   88204 non-null  int64  \n",
      " 12  USD Amount            88204 non-null  object \n",
      " 13  INV_CREATION_DATE     88204 non-null  object \n",
      "dtypes: float64(1), int64(1), object(12)\n",
      "memory usage: 9.4+ MB\n"
     ]
    }
   ],
   "source": [
    "open_invoices.info()"
   ]
  },
  {
   "cell_type": "code",
   "execution_count": 424,
   "id": "7a7d282d",
   "metadata": {},
   "outputs": [],
   "source": [
    "#Creating a copy of the open invoices dataset to perform data manipulatations\n",
    "open_invoices_test=open_invoices.copy()"
   ]
  },
  {
   "cell_type": "code",
   "execution_count": 425,
   "id": "3f188911",
   "metadata": {},
   "outputs": [
    {
     "data": {
      "text/plain": [
       "Index(['AS_OF_DATE', 'Customer Type', 'Customer_Name', 'Customer Account No',\n",
       "       'Transaction Number', 'Transaction Date', 'Payment Term', 'Due Date',\n",
       "       'Transaction Currency', 'Local Amount', 'Transaction Class', 'AGE',\n",
       "       'USD Amount', 'INV_CREATION_DATE'],\n",
       "      dtype='object')"
      ]
     },
     "execution_count": 425,
     "metadata": {},
     "output_type": "execute_result"
    }
   ],
   "source": [
    "open_invoices_test.columns"
   ]
  },
  {
   "cell_type": "code",
   "execution_count": 426,
   "id": "3796e51e",
   "metadata": {},
   "outputs": [
    {
     "data": {
      "text/plain": [
       "(88204, 14)"
      ]
     },
     "execution_count": 426,
     "metadata": {},
     "output_type": "execute_result"
    }
   ],
   "source": [
    "open_invoices_test.shape"
   ]
  },
  {
   "cell_type": "code",
   "execution_count": 427,
   "id": "f3900458",
   "metadata": {},
   "outputs": [],
   "source": [
    "# Remove rows where 'AGE' column is less than 0\n",
    "open_invoices_test = open_invoices_test[open_invoices_test['AGE'] >= 0]"
   ]
  },
  {
   "cell_type": "code",
   "execution_count": 428,
   "id": "2439242c",
   "metadata": {},
   "outputs": [
    {
     "data": {
      "text/plain": [
       "(60124, 14)"
      ]
     },
     "execution_count": 428,
     "metadata": {},
     "output_type": "execute_result"
    }
   ],
   "source": [
    "open_invoices_test.shape"
   ]
  },
  {
   "cell_type": "code",
   "execution_count": 429,
   "id": "a0b48d48",
   "metadata": {},
   "outputs": [
    {
     "data": {
      "text/html": [
       "<div>\n",
       "<style scoped>\n",
       "    .dataframe tbody tr th:only-of-type {\n",
       "        vertical-align: middle;\n",
       "    }\n",
       "\n",
       "    .dataframe tbody tr th {\n",
       "        vertical-align: top;\n",
       "    }\n",
       "\n",
       "    .dataframe thead th {\n",
       "        text-align: right;\n",
       "    }\n",
       "</style>\n",
       "<table border=\"1\" class=\"dataframe\">\n",
       "  <thead>\n",
       "    <tr style=\"text-align: right;\">\n",
       "      <th></th>\n",
       "      <th>AS_OF_DATE</th>\n",
       "      <th>Customer Type</th>\n",
       "      <th>Customer_Name</th>\n",
       "      <th>Customer Account No</th>\n",
       "      <th>Transaction Number</th>\n",
       "      <th>Transaction Date</th>\n",
       "      <th>Payment Term</th>\n",
       "      <th>Due Date</th>\n",
       "      <th>Transaction Currency</th>\n",
       "      <th>Local Amount</th>\n",
       "      <th>Transaction Class</th>\n",
       "      <th>AGE</th>\n",
       "      <th>USD Amount</th>\n",
       "      <th>INV_CREATION_DATE</th>\n",
       "    </tr>\n",
       "  </thead>\n",
       "  <tbody>\n",
       "    <tr>\n",
       "      <th>0</th>\n",
       "      <td>04-APR-2022 01:07:01</td>\n",
       "      <td>3rd Party</td>\n",
       "      <td>GIVE Corp</td>\n",
       "      <td>49144.0</td>\n",
       "      <td>100210000438</td>\n",
       "      <td>21/12/2021</td>\n",
       "      <td>Immediate</td>\n",
       "      <td>21/12/2021</td>\n",
       "      <td>AED</td>\n",
       "      <td>-3,088</td>\n",
       "      <td>CREDIT NOTE</td>\n",
       "      <td>105</td>\n",
       "      <td>-3,088</td>\n",
       "      <td>12/21/2021 12:53</td>\n",
       "    </tr>\n",
       "    <tr>\n",
       "      <th>1</th>\n",
       "      <td>04-APR-2022 01:07:01</td>\n",
       "      <td>Related Party</td>\n",
       "      <td>AL J Corp</td>\n",
       "      <td>23152.0</td>\n",
       "      <td>100220000052</td>\n",
       "      <td>01/02/2022</td>\n",
       "      <td>30 Days from Inv Date</td>\n",
       "      <td>03/03/2022</td>\n",
       "      <td>USD</td>\n",
       "      <td>2,000</td>\n",
       "      <td>INVOICE</td>\n",
       "      <td>33</td>\n",
       "      <td>2,000</td>\n",
       "      <td>2/1/2022 14:09</td>\n",
       "    </tr>\n",
       "    <tr>\n",
       "      <th>3</th>\n",
       "      <td>04-APR-2022 01:07:01</td>\n",
       "      <td>Related Party</td>\n",
       "      <td>AL R Corp</td>\n",
       "      <td>23312.0</td>\n",
       "      <td>100220000001</td>\n",
       "      <td>04/01/2022</td>\n",
       "      <td>15 Days from Inv Date</td>\n",
       "      <td>19/01/2022</td>\n",
       "      <td>AED</td>\n",
       "      <td>2,415</td>\n",
       "      <td>INVOICE</td>\n",
       "      <td>76</td>\n",
       "      <td>2,415</td>\n",
       "      <td>1/5/2022 11:49</td>\n",
       "    </tr>\n",
       "    <tr>\n",
       "      <th>19</th>\n",
       "      <td>04-APR-2022 01:07:01</td>\n",
       "      <td>Related Party</td>\n",
       "      <td>CGR  Corp</td>\n",
       "      <td>3694.0</td>\n",
       "      <td>100220000078</td>\n",
       "      <td>15/02/2022</td>\n",
       "      <td>30 Days from EOM</td>\n",
       "      <td>30/03/2022</td>\n",
       "      <td>AED</td>\n",
       "      <td>1,440</td>\n",
       "      <td>INVOICE</td>\n",
       "      <td>6</td>\n",
       "      <td>1,440</td>\n",
       "      <td>2/15/2022 15:41</td>\n",
       "    </tr>\n",
       "    <tr>\n",
       "      <th>20</th>\n",
       "      <td>04-APR-2022 01:07:01</td>\n",
       "      <td>Related Party</td>\n",
       "      <td>CGR  Corp</td>\n",
       "      <td>3694.0</td>\n",
       "      <td>100220000081</td>\n",
       "      <td>15/02/2022</td>\n",
       "      <td>30 Days from EOM</td>\n",
       "      <td>30/03/2022</td>\n",
       "      <td>AED</td>\n",
       "      <td>1,144</td>\n",
       "      <td>INVOICE</td>\n",
       "      <td>6</td>\n",
       "      <td>1,144</td>\n",
       "      <td>2/15/2022 15:41</td>\n",
       "    </tr>\n",
       "  </tbody>\n",
       "</table>\n",
       "</div>"
      ],
      "text/plain": [
       "              AS_OF_DATE  Customer Type Customer_Name  Customer Account No  \\\n",
       "0   04-APR-2022 01:07:01      3rd Party     GIVE Corp              49144.0   \n",
       "1   04-APR-2022 01:07:01  Related Party     AL J Corp              23152.0   \n",
       "3   04-APR-2022 01:07:01  Related Party     AL R Corp              23312.0   \n",
       "19  04-APR-2022 01:07:01  Related Party     CGR  Corp               3694.0   \n",
       "20  04-APR-2022 01:07:01  Related Party     CGR  Corp               3694.0   \n",
       "\n",
       "   Transaction Number Transaction Date           Payment Term    Due Date  \\\n",
       "0        100210000438       21/12/2021              Immediate  21/12/2021   \n",
       "1        100220000052       01/02/2022  30 Days from Inv Date  03/03/2022   \n",
       "3        100220000001       04/01/2022  15 Days from Inv Date  19/01/2022   \n",
       "19       100220000078       15/02/2022       30 Days from EOM  30/03/2022   \n",
       "20       100220000081       15/02/2022       30 Days from EOM  30/03/2022   \n",
       "\n",
       "   Transaction Currency Local Amount Transaction Class  AGE USD Amount  \\\n",
       "0                   AED       -3,088       CREDIT NOTE  105     -3,088   \n",
       "1                   USD        2,000           INVOICE   33      2,000   \n",
       "3                   AED        2,415           INVOICE   76      2,415   \n",
       "19                  AED        1,440           INVOICE    6      1,440   \n",
       "20                  AED        1,144           INVOICE    6      1,144   \n",
       "\n",
       "   INV_CREATION_DATE  \n",
       "0   12/21/2021 12:53  \n",
       "1     2/1/2022 14:09  \n",
       "3     1/5/2022 11:49  \n",
       "19   2/15/2022 15:41  \n",
       "20   2/15/2022 15:41  "
      ]
     },
     "execution_count": 429,
     "metadata": {},
     "output_type": "execute_result"
    }
   ],
   "source": [
    "open_invoices_test.head()"
   ]
  },
  {
   "cell_type": "code",
   "execution_count": 430,
   "id": "89b9f85f",
   "metadata": {},
   "outputs": [],
   "source": [
    "\n",
    "# Convert 'AS_OF_DATE' , INV_CREATION_DATE' and 'Due Date' columns to datetime format\n",
    "open_invoices_test['INV_CREATION_DATE'] = pd.to_datetime(open_invoices_test['INV_CREATION_DATE'])\n",
    "open_invoices_test['Due Date'] = pd.to_datetime(open_invoices_test['Due Date'])\n",
    "open_invoices_test['AS_OF_DATE'] = pd.to_datetime(open_invoices_test['AS_OF_DATE'])\n",
    "\n",
    "# Calculate the difference between 'Due Date' and 'INV_CREATION_DATE' to get 'PAYMENT_TERM'\n",
    "open_invoices_test['PAYMENT_TERM'] = (open_invoices_test['Due Date'] - open_invoices_test['INV_CREATION_DATE']).dt.days\n",
    "\n",
    "#Caculating the Difference between 'Due Date' and 'AS_OF_DATE' to get the payment time which is left to pay the amount\n",
    "open_invoices_test['Average_payment_time'] = (open_invoices_test['Due Date'] - open_invoices_test['AS_OF_DATE']).dt.days"
   ]
  },
  {
   "cell_type": "code",
   "execution_count": 431,
   "id": "9ff0d303",
   "metadata": {},
   "outputs": [
    {
     "data": {
      "text/plain": [
       "Index(['AS_OF_DATE', 'Customer Type', 'Customer_Name', 'Customer Account No',\n",
       "       'Transaction Number', 'Transaction Date', 'Payment Term', 'Due Date',\n",
       "       'Transaction Currency', 'Local Amount', 'Transaction Class', 'AGE',\n",
       "       'USD Amount', 'INV_CREATION_DATE', 'PAYMENT_TERM',\n",
       "       'Average_payment_time'],\n",
       "      dtype='object')"
      ]
     },
     "execution_count": 431,
     "metadata": {},
     "output_type": "execute_result"
    }
   ],
   "source": [
    "open_invoices_test.columns"
   ]
  },
  {
   "cell_type": "code",
   "execution_count": 432,
   "id": "50f76cc2",
   "metadata": {},
   "outputs": [],
   "source": [
    "# Remove rows where 'Average_payment_time' is less than 0\n",
    "open_invoices_test = open_invoices_test[open_invoices_test['Average_payment_time'] >= 0]"
   ]
  },
  {
   "cell_type": "code",
   "execution_count": 433,
   "id": "ab498362",
   "metadata": {},
   "outputs": [
    {
     "data": {
      "text/plain": [
       "(3639, 16)"
      ]
     },
     "execution_count": 433,
     "metadata": {},
     "output_type": "execute_result"
    }
   ],
   "source": [
    "open_invoices_test.shape"
   ]
  },
  {
   "cell_type": "code",
   "execution_count": 434,
   "id": "41de2fca",
   "metadata": {},
   "outputs": [],
   "source": [
    "open_invoices_test['Customer Account No'] = open_invoices_test['Customer Account No'].astype(str)"
   ]
  },
  {
   "cell_type": "code",
   "execution_count": 435,
   "id": "88eaba27",
   "metadata": {},
   "outputs": [],
   "source": [
    "#Converting the 'USD Columns to foalt format so that it could be fed into the machine learning model\n",
    "open_invoices_test['USD Amount'] = open_invoices_test['USD Amount'].str.replace(',', '').astype(float)"
   ]
  },
  {
   "cell_type": "code",
   "execution_count": 436,
   "id": "91a11a70",
   "metadata": {},
   "outputs": [],
   "source": [
    "# Remove observations where invoice value is less than 0\n",
    "open_invoices_test = open_invoices_test[open_invoices_test['USD Amount'] >= 0]"
   ]
  },
  {
   "cell_type": "markdown",
   "id": "360e241f",
   "metadata": {},
   "source": [
    "## Performing customer segmentation on the Open invoice dataset"
   ]
  },
  {
   "cell_type": "code",
   "execution_count": 437,
   "id": "273ce56c",
   "metadata": {},
   "outputs": [],
   "source": [
    "#Creating a copy of the received_payments dataset to analyze customer behavior with respect to payment\n",
    "open_invoice_data_for_segmentation=open_invoices_test.copy()"
   ]
  },
  {
   "cell_type": "code",
   "execution_count": 438,
   "id": "9f27cbb8",
   "metadata": {},
   "outputs": [
    {
     "data": {
      "text/plain": [
       "Index(['AS_OF_DATE', 'Customer Type', 'Customer_Name', 'Customer Account No',\n",
       "       'Transaction Number', 'Transaction Date', 'Payment Term', 'Due Date',\n",
       "       'Transaction Currency', 'Local Amount', 'Transaction Class', 'AGE',\n",
       "       'USD Amount', 'INV_CREATION_DATE', 'PAYMENT_TERM',\n",
       "       'Average_payment_time'],\n",
       "      dtype='object')"
      ]
     },
     "execution_count": 438,
     "metadata": {},
     "output_type": "execute_result"
    }
   ],
   "source": [
    "open_invoice_data_for_segmentation.columns"
   ]
  },
  {
   "cell_type": "code",
   "execution_count": 439,
   "id": "6baa6621",
   "metadata": {},
   "outputs": [],
   "source": [
    "open_invoice_data_for_segmentation = open_invoice_data_for_segmentation[['Customer Account No', 'Average_payment_time']]\n"
   ]
  },
  {
   "cell_type": "code",
   "execution_count": 440,
   "id": "ab2a4bd7",
   "metadata": {},
   "outputs": [
    {
     "data": {
      "text/plain": [
       "Index(['Customer Account No', 'Average_payment_time'], dtype='object')"
      ]
     },
     "execution_count": 440,
     "metadata": {},
     "output_type": "execute_result"
    }
   ],
   "source": [
    "open_invoice_data_for_segmentation.columns"
   ]
  },
  {
   "cell_type": "code",
   "execution_count": 441,
   "id": "87afc026",
   "metadata": {},
   "outputs": [
    {
     "name": "stdout",
     "output_type": "stream",
     "text": [
      "  Customer Account No  Mean_Payment_time  Std_Dev_Payment_time\n",
      "0             10100.0             240.00                   NaN\n",
      "1             10320.0             104.50            108.187338\n",
      "2              1044.0             150.76             60.717667\n",
      "3              1154.0             180.00              0.000000\n",
      "4             11940.0             181.00                   NaN\n"
     ]
    }
   ],
   "source": [
    "# Grouping the dataframe by 'CUSTOMER_NUMBER' and calculating mean and standard deviation for 'Average_payment_time'\n",
    "open_invoice_grouped_data = open_invoice_data_for_segmentation.groupby('Customer Account No')['Average_payment_time'].agg(['mean', 'std']).reset_index()\n",
    "\n",
    "# Renaming the columns for clarity\n",
    "open_invoice_grouped_data.columns = ['Customer Account No', 'Mean_Payment_time', 'Std_Dev_Payment_time']\n",
    "\n",
    "# Displaying the resulting DataFrame\n",
    "print(open_invoice_grouped_data.head())\n"
   ]
  },
  {
   "cell_type": "code",
   "execution_count": 442,
   "id": "8391fad9",
   "metadata": {},
   "outputs": [
    {
     "name": "stdout",
     "output_type": "stream",
     "text": [
      "<class 'pandas.core.frame.DataFrame'>\n",
      "RangeIndex: 273 entries, 0 to 272\n",
      "Data columns (total 3 columns):\n",
      " #   Column                Non-Null Count  Dtype  \n",
      "---  ------                --------------  -----  \n",
      " 0   Customer Account No   273 non-null    object \n",
      " 1   Mean_Payment_time     273 non-null    float64\n",
      " 2   Std_Dev_Payment_time  146 non-null    float64\n",
      "dtypes: float64(2), object(1)\n",
      "memory usage: 6.5+ KB\n"
     ]
    }
   ],
   "source": [
    "open_invoice_grouped_data.info()"
   ]
  },
  {
   "cell_type": "code",
   "execution_count": 390,
   "id": "b7ba0605",
   "metadata": {},
   "outputs": [
    {
     "name": "stdout",
     "output_type": "stream",
     "text": [
      "Customer Account No     0\n",
      "Mean_Payment_time       0\n",
      "Std_Dev_Payment_time    0\n",
      "dtype: int64\n"
     ]
    }
   ],
   "source": [
    "# Replace null values in 'Std_Dev_Payment_time' column with 0\n",
    "open_invoice_grouped_data['Std_Dev_Payment_time'].fillna(0, inplace=True)\n",
    "\n",
    "# Counting null values in each column of grouped_data DataFrame after replacement\n",
    "open_invoice_null_values = open_invoice_grouped_data.isnull().sum()\n",
    "print(open_invoice_null_values)"
   ]
  },
  {
   "cell_type": "code",
   "execution_count": 391,
   "id": "5ffb1106",
   "metadata": {},
   "outputs": [
    {
     "data": {
      "text/plain": [
       "(273, 2)"
      ]
     },
     "execution_count": 391,
     "metadata": {},
     "output_type": "execute_result"
    }
   ],
   "source": [
    "# 2. rescaling the data set before clustering\n",
    "open_invoice_cluster_df = open_invoice_grouped_data[['Mean_Payment_time','Std_Dev_Payment_time']]\n",
    "# instantiate the scaler\n",
    "scaler = StandardScaler()\n",
    "\n",
    "# fit_transform\n",
    "open_invoice_cluster_df_scaled = scaler.fit_transform(open_invoice_cluster_df)\n",
    "open_invoice_cluster_df_scaled.shape"
   ]
  },
  {
   "cell_type": "code",
   "execution_count": 392,
   "id": "1659a6d1",
   "metadata": {},
   "outputs": [
    {
     "data": {
      "text/html": [
       "<style>#sk-container-id-11 {color: black;background-color: white;}#sk-container-id-11 pre{padding: 0;}#sk-container-id-11 div.sk-toggleable {background-color: white;}#sk-container-id-11 label.sk-toggleable__label {cursor: pointer;display: block;width: 100%;margin-bottom: 0;padding: 0.3em;box-sizing: border-box;text-align: center;}#sk-container-id-11 label.sk-toggleable__label-arrow:before {content: \"▸\";float: left;margin-right: 0.25em;color: #696969;}#sk-container-id-11 label.sk-toggleable__label-arrow:hover:before {color: black;}#sk-container-id-11 div.sk-estimator:hover label.sk-toggleable__label-arrow:before {color: black;}#sk-container-id-11 div.sk-toggleable__content {max-height: 0;max-width: 0;overflow: hidden;text-align: left;background-color: #f0f8ff;}#sk-container-id-11 div.sk-toggleable__content pre {margin: 0.2em;color: black;border-radius: 0.25em;background-color: #f0f8ff;}#sk-container-id-11 input.sk-toggleable__control:checked~div.sk-toggleable__content {max-height: 200px;max-width: 100%;overflow: auto;}#sk-container-id-11 input.sk-toggleable__control:checked~label.sk-toggleable__label-arrow:before {content: \"▾\";}#sk-container-id-11 div.sk-estimator input.sk-toggleable__control:checked~label.sk-toggleable__label {background-color: #d4ebff;}#sk-container-id-11 div.sk-label input.sk-toggleable__control:checked~label.sk-toggleable__label {background-color: #d4ebff;}#sk-container-id-11 input.sk-hidden--visually {border: 0;clip: rect(1px 1px 1px 1px);clip: rect(1px, 1px, 1px, 1px);height: 1px;margin: -1px;overflow: hidden;padding: 0;position: absolute;width: 1px;}#sk-container-id-11 div.sk-estimator {font-family: monospace;background-color: #f0f8ff;border: 1px dotted black;border-radius: 0.25em;box-sizing: border-box;margin-bottom: 0.5em;}#sk-container-id-11 div.sk-estimator:hover {background-color: #d4ebff;}#sk-container-id-11 div.sk-parallel-item::after {content: \"\";width: 100%;border-bottom: 1px solid gray;flex-grow: 1;}#sk-container-id-11 div.sk-label:hover label.sk-toggleable__label {background-color: #d4ebff;}#sk-container-id-11 div.sk-serial::before {content: \"\";position: absolute;border-left: 1px solid gray;box-sizing: border-box;top: 0;bottom: 0;left: 50%;z-index: 0;}#sk-container-id-11 div.sk-serial {display: flex;flex-direction: column;align-items: center;background-color: white;padding-right: 0.2em;padding-left: 0.2em;position: relative;}#sk-container-id-11 div.sk-item {position: relative;z-index: 1;}#sk-container-id-11 div.sk-parallel {display: flex;align-items: stretch;justify-content: center;background-color: white;position: relative;}#sk-container-id-11 div.sk-item::before, #sk-container-id-11 div.sk-parallel-item::before {content: \"\";position: absolute;border-left: 1px solid gray;box-sizing: border-box;top: 0;bottom: 0;left: 50%;z-index: -1;}#sk-container-id-11 div.sk-parallel-item {display: flex;flex-direction: column;z-index: 1;position: relative;background-color: white;}#sk-container-id-11 div.sk-parallel-item:first-child::after {align-self: flex-end;width: 50%;}#sk-container-id-11 div.sk-parallel-item:last-child::after {align-self: flex-start;width: 50%;}#sk-container-id-11 div.sk-parallel-item:only-child::after {width: 0;}#sk-container-id-11 div.sk-dashed-wrapped {border: 1px dashed gray;margin: 0 0.4em 0.5em 0.4em;box-sizing: border-box;padding-bottom: 0.4em;background-color: white;}#sk-container-id-11 div.sk-label label {font-family: monospace;font-weight: bold;display: inline-block;line-height: 1.2em;}#sk-container-id-11 div.sk-label-container {text-align: center;}#sk-container-id-11 div.sk-container {/* jupyter's `normalize.less` sets `[hidden] { display: none; }` but bootstrap.min.css set `[hidden] { display: none !important; }` so we also need the `!important` here to be able to override the default hidden behavior on the sphinx rendered scikit-learn.org. See: https://github.com/scikit-learn/scikit-learn/issues/21755 */display: inline-block !important;position: relative;}#sk-container-id-11 div.sk-text-repr-fallback {display: none;}</style><div id=\"sk-container-id-11\" class=\"sk-top-container\"><div class=\"sk-text-repr-fallback\"><pre>KMeans(max_iter=50, n_clusters=3)</pre><b>In a Jupyter environment, please rerun this cell to show the HTML representation or trust the notebook. <br />On GitHub, the HTML representation is unable to render, please try loading this page with nbviewer.org.</b></div><div class=\"sk-container\" hidden><div class=\"sk-item\"><div class=\"sk-estimator sk-toggleable\"><input class=\"sk-toggleable__control sk-hidden--visually\" id=\"sk-estimator-id-11\" type=\"checkbox\" checked><label for=\"sk-estimator-id-11\" class=\"sk-toggleable__label sk-toggleable__label-arrow\">KMeans</label><div class=\"sk-toggleable__content\"><pre>KMeans(max_iter=50, n_clusters=3)</pre></div></div></div></div></div>"
      ],
      "text/plain": [
       "KMeans(max_iter=50, n_clusters=3)"
      ]
     },
     "execution_count": 392,
     "metadata": {},
     "output_type": "execute_result"
    }
   ],
   "source": [
    "#Starting k-means clustering with some arbitrary number of k(=3)\n",
    "kmeans=KMeans(n_clusters=3, max_iter=50)\n",
    "kmeans.fit(open_invoice_cluster_df_scaled)"
   ]
  },
  {
   "cell_type": "code",
   "execution_count": 393,
   "id": "00de546e",
   "metadata": {},
   "outputs": [
    {
     "name": "stdout",
     "output_type": "stream",
     "text": [
      "For n_clusters=2, the silhouette score is 0.47672276376255823\n",
      "For n_clusters=3, the silhouette score is 0.6346113550882715\n",
      "For n_clusters=4, the silhouette score is 0.5673041610934656\n",
      "For n_clusters=5, the silhouette score is 0.5226927242519539\n",
      "For n_clusters=6, the silhouette score is 0.5260691843866082\n",
      "For n_clusters=7, the silhouette score is 0.5373902927483252\n",
      "For n_clusters=8, the silhouette score is 0.561781905063255\n"
     ]
    }
   ],
   "source": [
    "from sklearn.cluster import KMeans\n",
    "from sklearn.metrics import silhouette_score\n",
    "\n",
    "range_n_clusters = [2, 3, 4, 5, 6, 7, 8]\n",
    "\n",
    "for num_clusters in range_n_clusters:\n",
    "    # initialize kmeans\n",
    "    kmeans = KMeans(n_clusters=num_clusters, max_iter=50)\n",
    "    kmeans.fit(open_invoice_cluster_df_scaled)\n",
    "    cluster_labels = kmeans.labels_\n",
    "    # silhouette score\n",
    "    silhouette_avg = silhouette_score(open_invoice_cluster_df_scaled, cluster_labels)\n",
    "    print(\"For n_clusters={0}, the silhouette score is {1}\".format(num_clusters, silhouette_avg))"
   ]
  },
  {
   "cell_type": "code",
   "execution_count": 394,
   "id": "1fed65c1",
   "metadata": {},
   "outputs": [
    {
     "data": {
      "text/html": [
       "<style>#sk-container-id-12 {color: black;background-color: white;}#sk-container-id-12 pre{padding: 0;}#sk-container-id-12 div.sk-toggleable {background-color: white;}#sk-container-id-12 label.sk-toggleable__label {cursor: pointer;display: block;width: 100%;margin-bottom: 0;padding: 0.3em;box-sizing: border-box;text-align: center;}#sk-container-id-12 label.sk-toggleable__label-arrow:before {content: \"▸\";float: left;margin-right: 0.25em;color: #696969;}#sk-container-id-12 label.sk-toggleable__label-arrow:hover:before {color: black;}#sk-container-id-12 div.sk-estimator:hover label.sk-toggleable__label-arrow:before {color: black;}#sk-container-id-12 div.sk-toggleable__content {max-height: 0;max-width: 0;overflow: hidden;text-align: left;background-color: #f0f8ff;}#sk-container-id-12 div.sk-toggleable__content pre {margin: 0.2em;color: black;border-radius: 0.25em;background-color: #f0f8ff;}#sk-container-id-12 input.sk-toggleable__control:checked~div.sk-toggleable__content {max-height: 200px;max-width: 100%;overflow: auto;}#sk-container-id-12 input.sk-toggleable__control:checked~label.sk-toggleable__label-arrow:before {content: \"▾\";}#sk-container-id-12 div.sk-estimator input.sk-toggleable__control:checked~label.sk-toggleable__label {background-color: #d4ebff;}#sk-container-id-12 div.sk-label input.sk-toggleable__control:checked~label.sk-toggleable__label {background-color: #d4ebff;}#sk-container-id-12 input.sk-hidden--visually {border: 0;clip: rect(1px 1px 1px 1px);clip: rect(1px, 1px, 1px, 1px);height: 1px;margin: -1px;overflow: hidden;padding: 0;position: absolute;width: 1px;}#sk-container-id-12 div.sk-estimator {font-family: monospace;background-color: #f0f8ff;border: 1px dotted black;border-radius: 0.25em;box-sizing: border-box;margin-bottom: 0.5em;}#sk-container-id-12 div.sk-estimator:hover {background-color: #d4ebff;}#sk-container-id-12 div.sk-parallel-item::after {content: \"\";width: 100%;border-bottom: 1px solid gray;flex-grow: 1;}#sk-container-id-12 div.sk-label:hover label.sk-toggleable__label {background-color: #d4ebff;}#sk-container-id-12 div.sk-serial::before {content: \"\";position: absolute;border-left: 1px solid gray;box-sizing: border-box;top: 0;bottom: 0;left: 50%;z-index: 0;}#sk-container-id-12 div.sk-serial {display: flex;flex-direction: column;align-items: center;background-color: white;padding-right: 0.2em;padding-left: 0.2em;position: relative;}#sk-container-id-12 div.sk-item {position: relative;z-index: 1;}#sk-container-id-12 div.sk-parallel {display: flex;align-items: stretch;justify-content: center;background-color: white;position: relative;}#sk-container-id-12 div.sk-item::before, #sk-container-id-12 div.sk-parallel-item::before {content: \"\";position: absolute;border-left: 1px solid gray;box-sizing: border-box;top: 0;bottom: 0;left: 50%;z-index: -1;}#sk-container-id-12 div.sk-parallel-item {display: flex;flex-direction: column;z-index: 1;position: relative;background-color: white;}#sk-container-id-12 div.sk-parallel-item:first-child::after {align-self: flex-end;width: 50%;}#sk-container-id-12 div.sk-parallel-item:last-child::after {align-self: flex-start;width: 50%;}#sk-container-id-12 div.sk-parallel-item:only-child::after {width: 0;}#sk-container-id-12 div.sk-dashed-wrapped {border: 1px dashed gray;margin: 0 0.4em 0.5em 0.4em;box-sizing: border-box;padding-bottom: 0.4em;background-color: white;}#sk-container-id-12 div.sk-label label {font-family: monospace;font-weight: bold;display: inline-block;line-height: 1.2em;}#sk-container-id-12 div.sk-label-container {text-align: center;}#sk-container-id-12 div.sk-container {/* jupyter's `normalize.less` sets `[hidden] { display: none; }` but bootstrap.min.css set `[hidden] { display: none !important; }` so we also need the `!important` here to be able to override the default hidden behavior on the sphinx rendered scikit-learn.org. See: https://github.com/scikit-learn/scikit-learn/issues/21755 */display: inline-block !important;position: relative;}#sk-container-id-12 div.sk-text-repr-fallback {display: none;}</style><div id=\"sk-container-id-12\" class=\"sk-top-container\"><div class=\"sk-text-repr-fallback\"><pre>KMeans(max_iter=50, n_clusters=3)</pre><b>In a Jupyter environment, please rerun this cell to show the HTML representation or trust the notebook. <br />On GitHub, the HTML representation is unable to render, please try loading this page with nbviewer.org.</b></div><div class=\"sk-container\" hidden><div class=\"sk-item\"><div class=\"sk-estimator sk-toggleable\"><input class=\"sk-toggleable__control sk-hidden--visually\" id=\"sk-estimator-id-12\" type=\"checkbox\" checked><label for=\"sk-estimator-id-12\" class=\"sk-toggleable__label sk-toggleable__label-arrow\">KMeans</label><div class=\"sk-toggleable__content\"><pre>KMeans(max_iter=50, n_clusters=3)</pre></div></div></div></div></div>"
      ],
      "text/plain": [
       "KMeans(max_iter=50, n_clusters=3)"
      ]
     },
     "execution_count": 394,
     "metadata": {},
     "output_type": "execute_result"
    }
   ],
   "source": [
    "# final model with k=3\n",
    "kmeans=KMeans(n_clusters=3,max_iter=50)\n",
    "kmeans.fit(open_invoice_cluster_df_scaled)"
   ]
  },
  {
   "cell_type": "code",
   "execution_count": 395,
   "id": "ba86cb06",
   "metadata": {},
   "outputs": [
    {
     "data": {
      "text/html": [
       "<div>\n",
       "<style scoped>\n",
       "    .dataframe tbody tr th:only-of-type {\n",
       "        vertical-align: middle;\n",
       "    }\n",
       "\n",
       "    .dataframe tbody tr th {\n",
       "        vertical-align: top;\n",
       "    }\n",
       "\n",
       "    .dataframe thead th {\n",
       "        text-align: right;\n",
       "    }\n",
       "</style>\n",
       "<table border=\"1\" class=\"dataframe\">\n",
       "  <thead>\n",
       "    <tr style=\"text-align: right;\">\n",
       "      <th></th>\n",
       "      <th>Customer Account No</th>\n",
       "      <th>Mean_Payment_time</th>\n",
       "      <th>Std_Dev_Payment_time</th>\n",
       "      <th>open_invoice_cluster_id</th>\n",
       "    </tr>\n",
       "  </thead>\n",
       "  <tbody>\n",
       "    <tr>\n",
       "      <th>0</th>\n",
       "      <td>10100.0</td>\n",
       "      <td>240.00</td>\n",
       "      <td>0.000000</td>\n",
       "      <td>2</td>\n",
       "    </tr>\n",
       "    <tr>\n",
       "      <th>1</th>\n",
       "      <td>10320.0</td>\n",
       "      <td>104.50</td>\n",
       "      <td>108.187338</td>\n",
       "      <td>0</td>\n",
       "    </tr>\n",
       "    <tr>\n",
       "      <th>2</th>\n",
       "      <td>1044.0</td>\n",
       "      <td>150.76</td>\n",
       "      <td>60.717667</td>\n",
       "      <td>0</td>\n",
       "    </tr>\n",
       "    <tr>\n",
       "      <th>3</th>\n",
       "      <td>1154.0</td>\n",
       "      <td>180.00</td>\n",
       "      <td>0.000000</td>\n",
       "      <td>2</td>\n",
       "    </tr>\n",
       "    <tr>\n",
       "      <th>4</th>\n",
       "      <td>11940.0</td>\n",
       "      <td>181.00</td>\n",
       "      <td>0.000000</td>\n",
       "      <td>2</td>\n",
       "    </tr>\n",
       "  </tbody>\n",
       "</table>\n",
       "</div>"
      ],
      "text/plain": [
       "  Customer Account No  Mean_Payment_time  Std_Dev_Payment_time  \\\n",
       "0             10100.0             240.00              0.000000   \n",
       "1             10320.0             104.50            108.187338   \n",
       "2              1044.0             150.76             60.717667   \n",
       "3              1154.0             180.00              0.000000   \n",
       "4             11940.0             181.00              0.000000   \n",
       "\n",
       "   open_invoice_cluster_id  \n",
       "0                        2  \n",
       "1                        0  \n",
       "2                        0  \n",
       "3                        2  \n",
       "4                        2  "
      ]
     },
     "execution_count": 395,
     "metadata": {},
     "output_type": "execute_result"
    }
   ],
   "source": [
    "# assign the label\n",
    "open_invoice_grouped_data['open_invoice_cluster_id'] = kmeans.labels_\n",
    "open_invoice_grouped_data.head()"
   ]
  },
  {
   "cell_type": "code",
   "execution_count": 396,
   "id": "22a096d8",
   "metadata": {},
   "outputs": [
    {
     "data": {
      "text/plain": [
       "2    113\n",
       "0     81\n",
       "1     79\n",
       "Name: open_invoice_cluster_id, dtype: int64"
      ]
     },
     "execution_count": 396,
     "metadata": {},
     "output_type": "execute_result"
    }
   ],
   "source": [
    "open_invoice_grouped_data['open_invoice_cluster_id'].value_counts()"
   ]
  },
  {
   "cell_type": "code",
   "execution_count": 397,
   "id": "d896a989",
   "metadata": {},
   "outputs": [
    {
     "data": {
      "image/png": "[encoded data removed]",
      "text/plain": [
       "<Figure size 1000x600 with 1 Axes>"
      ]
     },
     "metadata": {},
     "output_type": "display_data"
    }
   ],
   "source": [
    "import matplotlib.pyplot as plt\n",
    "\n",
    "# Define colors for each cluster\n",
    "colors = ['red', 'blue', 'green',]  \n",
    "\n",
    "# Scatter plot: USD Amount vs frequency colored by cluster_id\n",
    "plt.figure(figsize=(10, 6))\n",
    "for cluster in open_invoice_grouped_data['open_invoice_cluster_id'].unique():\n",
    "    data = open_invoice_grouped_data[open_invoice_grouped_data['open_invoice_cluster_id'] == cluster]\n",
    "    plt.scatter(data['Mean_Payment_time'], data['Std_Dev_Payment_time'], color=colors[cluster], label=f'Cluster {cluster}')\n",
    "plt.xlabel('Mean_Payment_time')\n",
    "plt.ylabel('Std_Dev_Payment_time')\n",
    "plt.title('Open Invoice Clusters - Mean_Payment_time vs Std_Dev_Payment_time')\n",
    "plt.legend()\n",
    "plt.show()\n"
   ]
  },
  {
   "cell_type": "code",
   "execution_count": 398,
   "id": "60b203e9",
   "metadata": {},
   "outputs": [
    {
     "data": {
      "application/vnd.plotly.v1+json": {
       "config": {
        "plotlyServerURL": "https://plot.ly"
       },
       "data": [
        {
         "customdata": [
          [
           2
          ],
          [
           0
          ],
          [
           0
          ],
          [
           2
          ],
          [
           2
          ],
          [
           1
          ],
          [
           2
          ],
          [
           2
          ],
          [
           0
          ],
          [
           1
          ],
          [
           0
          ],
          [
           0
          ],
          [
           0
          ],
          [
           0
          ],
          [
           0
          ],
          [
           2
          ],
          [
           2
          ],
          [
           2
          ],
          [
           0
          ],
          [
           2
          ],
          [
           1
          ],
          [
           2
          ],
          [
           2
          ],
          [
           1
          ],
          [
           2
          ],
          [
           0
          ],
          [
           1
          ],
          [
           1
          ],
          [
           0
          ],
          [
           2
          ],
          [
           1
          ],
          [
           2
          ],
          [
           2
          ],
          [
           1
          ],
          [
           0
          ],
          [
           2
          ],
          [
           2
          ],
          [
           1
          ],
          [
           1
          ],
          [
           0
          ],
          [
           0
          ],
          [
           2
          ],
          [
           0
          ],
          [
           1
          ],
          [
           2
          ],
          [
           1
          ],
          [
           2
          ],
          [
           0
          ],
          [
           0
          ],
          [
           0
          ],
          [
           2
          ],
          [
           2
          ],
          [
           0
          ],
          [
           0
          ],
          [
           2
          ],
          [
           0
          ],
          [
           1
          ],
          [
           2
          ],
          [
           0
          ],
          [
           2
          ],
          [
           2
          ],
          [
           2
          ],
          [
           1
          ],
          [
           0
          ],
          [
           0
          ],
          [
           1
          ],
          [
           1
          ],
          [
           1
          ],
          [
           2
          ],
          [
           2
          ],
          [
           2
          ],
          [
           0
          ],
          [
           1
          ],
          [
           2
          ],
          [
           0
          ],
          [
           1
          ],
          [
           0
          ],
          [
           1
          ],
          [
           0
          ],
          [
           2
          ],
          [
           2
          ],
          [
           1
          ],
          [
           2
          ],
          [
           1
          ],
          [
           1
          ],
          [
           1
          ],
          [
           1
          ],
          [
           1
          ],
          [
           1
          ],
          [
           2
          ],
          [
           2
          ],
          [
           1
          ],
          [
           1
          ],
          [
           1
          ],
          [
           1
          ],
          [
           2
          ],
          [
           2
          ],
          [
           2
          ],
          [
           2
          ],
          [
           0
          ],
          [
           2
          ],
          [
           0
          ],
          [
           0
          ],
          [
           0
          ],
          [
           0
          ],
          [
           0
          ],
          [
           1
          ],
          [
           2
          ],
          [
           0
          ],
          [
           0
          ],
          [
           0
          ],
          [
           0
          ],
          [
           0
          ],
          [
           0
          ],
          [
           2
          ],
          [
           1
          ],
          [
           2
          ],
          [
           1
          ],
          [
           2
          ],
          [
           1
          ],
          [
           1
          ],
          [
           2
          ],
          [
           2
          ],
          [
           1
          ],
          [
           0
          ],
          [
           0
          ],
          [
           0
          ],
          [
           0
          ],
          [
           1
          ],
          [
           2
          ],
          [
           2
          ],
          [
           0
          ],
          [
           0
          ],
          [
           1
          ],
          [
           0
          ],
          [
           2
          ],
          [
           0
          ],
          [
           2
          ],
          [
           0
          ],
          [
           0
          ],
          [
           1
          ],
          [
           0
          ],
          [
           0
          ],
          [
           2
          ],
          [
           2
          ],
          [
           1
          ],
          [
           2
          ],
          [
           0
          ],
          [
           2
          ],
          [
           0
          ],
          [
           2
          ],
          [
           0
          ],
          [
           2
          ],
          [
           2
          ],
          [
           2
          ],
          [
           2
          ],
          [
           0
          ],
          [
           1
          ],
          [
           0
          ],
          [
           2
          ],
          [
           1
          ],
          [
           0
          ],
          [
           2
          ],
          [
           1
          ],
          [
           2
          ],
          [
           1
          ],
          [
           2
          ],
          [
           2
          ],
          [
           1
          ],
          [
           0
          ],
          [
           2
          ],
          [
           0
          ],
          [
           1
          ],
          [
           2
          ],
          [
           2
          ],
          [
           2
          ],
          [
           1
          ],
          [
           0
          ],
          [
           0
          ],
          [
           1
          ],
          [
           2
          ],
          [
           1
          ],
          [
           2
          ],
          [
           1
          ],
          [
           2
          ],
          [
           1
          ],
          [
           1
          ],
          [
           2
          ],
          [
           2
          ],
          [
           2
          ],
          [
           0
          ],
          [
           1
          ],
          [
           2
          ],
          [
           0
          ],
          [
           1
          ],
          [
           2
          ],
          [
           2
          ],
          [
           2
          ],
          [
           0
          ],
          [
           0
          ],
          [
           2
          ],
          [
           2
          ],
          [
           1
          ],
          [
           1
          ],
          [
           2
          ],
          [
           2
          ],
          [
           1
          ],
          [
           2
          ],
          [
           1
          ],
          [
           2
          ],
          [
           2
          ],
          [
           1
          ],
          [
           2
          ],
          [
           2
          ],
          [
           2
          ],
          [
           2
          ],
          [
           2
          ],
          [
           2
          ],
          [
           0
          ],
          [
           0
          ],
          [
           1
          ],
          [
           2
          ],
          [
           2
          ],
          [
           2
          ],
          [
           2
          ],
          [
           0
          ],
          [
           2
          ],
          [
           2
          ],
          [
           1
          ],
          [
           2
          ],
          [
           1
          ],
          [
           1
          ],
          [
           0
          ],
          [
           1
          ],
          [
           2
          ],
          [
           0
          ],
          [
           0
          ],
          [
           0
          ],
          [
           1
          ],
          [
           1
          ],
          [
           1
          ],
          [
           1
          ],
          [
           2
          ],
          [
           1
          ],
          [
           0
          ],
          [
           1
          ],
          [
           2
          ],
          [
           2
          ],
          [
           2
          ],
          [
           2
          ],
          [
           1
          ],
          [
           1
          ],
          [
           1
          ],
          [
           2
          ],
          [
           2
          ],
          [
           2
          ],
          [
           2
          ],
          [
           1
          ],
          [
           1
          ],
          [
           1
          ],
          [
           0
          ],
          [
           2
          ],
          [
           2
          ],
          [
           0
          ],
          [
           0
          ],
          [
           2
          ],
          [
           0
          ],
          [
           0
          ],
          [
           2
          ],
          [
           0
          ],
          [
           1
          ],
          [
           1
          ],
          [
           0
          ]
         ],
         "hovertemplate": "Mean_Payment_time=%{x}<br>Std_Dev_Payment_time=%{y}<br>open_invoice_cluster_id=%{marker.color}<extra></extra>",
         "legendgroup": "",
         "marker": {
          "color": [
           2,
           0,
           0,
           2,
           2,
           1,
           2,
           2,
           0,
           1,
           0,
           0,
           0,
           0,
           0,
           2,
           2,
           2,
           0,
           2,
           1,
           2,
           2,
           1,
           2,
           0,
           1,
           1,
           0,
           2,
           1,
           2,
           2,
           1,
           0,
           2,
           2,
           1,
           1,
           0,
           0,
           2,
           0,
           1,
           2,
           1,
           2,
           0,
           0,
           0,
           2,
           2,
           0,
           0,
           2,
           0,
           1,
           2,
           0,
           2,
           2,
           2,
           1,
           0,
           0,
           1,
           1,
           1,
           2,
           2,
           2,
           0,
           1,
           2,
           0,
           1,
           0,
           1,
           0,
           2,
           2,
           1,
           2,
           1,
           1,
           1,
           1,
           1,
           1,
           2,
           2,
           1,
           1,
           1,
           1,
           2,
           2,
           2,
           2,
           0,
           2,
           0,
           0,
           0,
           0,
           0,
           1,
           2,
           0,
           0,
           0,
           0,
           0,
           0,
           2,
           1,
           2,
           1,
           2,
           1,
           1,
           2,
           2,
           1,
           0,
           0,
           0,
           0,
           1,
           2,
           2,
           0,
           0,
           1,
           0,
           2,
           0,
           2,
           0,
           0,
           1,
           0,
           0,
           2,
           2,
           1,
           2,
           0,
           2,
           0,
           2,
           0,
           2,
           2,
           2,
           2,
           0,
           1,
           0,
           2,
           1,
           0,
           2,
           1,
           2,
           1,
           2,
           2,
           1,
           0,
           2,
           0,
           1,
           2,
           2,
           2,
           1,
           0,
           0,
           1,
           2,
           1,
           2,
           1,
           2,
           1,
           1,
           2,
           2,
           2,
           0,
           1,
           2,
           0,
           1,
           2,
           2,
           2,
           0,
           0,
           2,
           2,
           1,
           1,
           2,
           2,
           1,
           2,
           1,
           2,
           2,
           1,
           2,
           2,
           2,
           2,
           2,
           2,
           0,
           0,
           1,
           2,
           2,
           2,
           2,
           0,
           2,
           2,
           1,
           2,
           1,
           1,
           0,
           1,
           2,
           0,
           0,
           0,
           1,
           1,
           1,
           1,
           2,
           1,
           0,
           1,
           2,
           2,
           2,
           2,
           1,
           1,
           1,
           2,
           2,
           2,
           2,
           1,
           1,
           1,
           0,
           2,
           2,
           0,
           0,
           2,
           0,
           0,
           2,
           0,
           1,
           1,
           0
          ],
          "coloraxis": "coloraxis",
          "symbol": "circle"
         },
         "mode": "markers",
         "name": "",
         "orientation": "v",
         "showlegend": false,
         "type": "scatter",
         "x": [
          240,
          104.5,
          150.76,
          180,
          181,
          29,
          181,
          188,
          171.9469387755102,
          75.4,
          161.5,
          121.47169811320755,
          101.91666666666667,
          129.11805555555554,
          135.35294117647058,
          211,
          212,
          219.375,
          164.97260273972603,
          150,
          88,
          210,
          212,
          57,
          210,
          86.5,
          119,
          118,
          73.5,
          172.14285714285714,
          51.31818181818182,
          151,
          150.5,
          29,
          82.4,
          149.66666666666666,
          181,
          29,
          120,
          131.2,
          133.5,
          212,
          74,
          28,
          241,
          29,
          212,
          160.41176470588235,
          128.85714285714286,
          141.75,
          180,
          212,
          174,
          89.5,
          181.84615384615384,
          59.333333333333336,
          89,
          212,
          92.94285714285714,
          165.5,
          241,
          210,
          119,
          113.10714285714286,
          133.5,
          58,
          119,
          29,
          241,
          181,
          180,
          165,
          29,
          242,
          185.83333333333334,
          88,
          119,
          29,
          112.83333333333333,
          211,
          211.5,
          28.8,
          211,
          59,
          57,
          59,
          28,
          119,
          28,
          210.66666666666666,
          242,
          89,
          58,
          59,
          26,
          179,
          211,
          211,
          211.5,
          118,
          242,
          73.25,
          180.14285714285714,
          135.15064102564102,
          130.60830860534125,
          149.4,
          29,
          242,
          109,
          101.85714285714286,
          149.2,
          179.6,
          129,
          125.16666666666667,
          135.25,
          104.5,
          212,
          58.6,
          241,
          89,
          43,
          151,
          211,
          89,
          166.91666666666666,
          105.27272727272727,
          148.71428571428572,
          85.34,
          57,
          180,
          180,
          139.66666666666666,
          169.66666666666666,
          28.5,
          96.22222222222223,
          212,
          187.15384615384616,
          212,
          164.51724137931035,
          115,
          59,
          148.425,
          172.75,
          210,
          222,
          57,
          200.66666666666666,
          164.5,
          172,
          53.4,
          211,
          163.5,
          195,
          151,
          201.33333333333334,
          181,
          143.20689655172413,
          29,
          104.5,
          211,
          88,
          191.6,
          181,
          88,
          181,
          29,
          150,
          179,
          28,
          137.85353535353536,
          180,
          88.33333333333333,
          120,
          181,
          212,
          212,
          28,
          173.6,
          168.25,
          59,
          179,
          28,
          179,
          89,
          211,
          57,
          120,
          210,
          242,
          211,
          107,
          58,
          189,
          149.66666666666666,
          63.833333333333336,
          212,
          212,
          242,
          174.91666666666666,
          140.66666666666666,
          211,
          240,
          78.33333333333333,
          29,
          225,
          210,
          80.25,
          181,
          89,
          181,
          242,
          29,
          150,
          240,
          240,
          210,
          151,
          210,
          171.75,
          98.33333333333333,
          57,
          151,
          242,
          242,
          212,
          141.5,
          180,
          150,
          58,
          151,
          87,
          27,
          137.125,
          118,
          210,
          163.53333333333333,
          162.35897435897436,
          190.33333333333334,
          28,
          88,
          29,
          89,
          181,
          59,
          79.6,
          57,
          150,
          241,
          240,
          181,
          27,
          28,
          29,
          180,
          211,
          212,
          211,
          29,
          112.6,
          26,
          138.4,
          180,
          151,
          130.93023255813952,
          68.8,
          130,
          99.66666666666667,
          86.18181818181819,
          179,
          185.56666666666666,
          40.4,
          29,
          90
         ],
         "xaxis": "x",
         "y": [
          0,
          108.18733752154178,
          60.71766713272849,
          0,
          0,
          0,
          0,
          28.902133715927157,
          89.82898848905933,
          15.883954167649819,
          68.85451651449195,
          62.31421734724283,
          76.21793911163067,
          77.26158080173457,
          57.88883870884632,
          0,
          0,
          21.467167622075475,
          81.77586944770822,
          0,
          0,
          0,
          0,
          0,
          0,
          66.38984192714358,
          0,
          0,
          64.34671708797582,
          38.602368543171764,
          38.824864840333056,
          0,
          0.7071067811865476,
          0,
          93.1708108798029,
          30.005555041247497,
          0,
          0,
          0,
          69.89778251132148,
          108.18733752154178,
          0,
          65.05382386916237,
          0,
          0,
          0,
          0,
          73.65549777811007,
          87.3506889334186,
          77.16810653804244,
          0,
          0,
          84.5103543951864,
          43.1335136523794,
          43.78326574131215,
          52.53887449625594,
          0,
          0,
          76.23182246478514,
          21.920310216782973,
          0,
          0,
          0,
          89.32227928529129,
          64.34671708797582,
          0,
          0,
          0,
          0,
          0,
          0,
          88.91194145520237,
          0,
          0,
          56.26870059515029,
          0,
          74.46609966958118,
          0,
          63.27848502189877,
          0,
          43.1335136523794,
          0.44721359549995765,
          0,
          0,
          0,
          0,
          0,
          0,
          0,
          31.501322723551365,
          0,
          0,
          0,
          0,
          0,
          0,
          0,
          0,
          0.7071067811865476,
          130.10764773832474,
          0,
          82.73451516749222,
          79.01145185230762,
          74.21156685811395,
          72.099268058498,
          66.09790717816513,
          0,
          0,
          93.28987083279728,
          84.68260067536222,
          55.6273314118159,
          89.2709359198166,
          89.20201791439474,
          55.79038148880743,
          30.500000000000004,
          21.920310216782973,
          0,
          30.500819661117305,
          0,
          0,
          21.213203435596427,
          0,
          0,
          0,
          63.2001989831927,
          68.00320226261704,
          77.08807578718921,
          71.07617481450889,
          0,
          0,
          0,
          98.10368664496424,
          69.85938257194472,
          0.7071067811865476,
          75.71620991864584,
          0,
          67.31622656517787,
          0,
          68.77064401205294,
          76.02894185768996,
          0,
          89.46546961350258,
          44.83581157958446,
          0,
          17.320508075688775,
          0,
          17.039170558842745,
          65.76093065034893,
          39.21734310225516,
          54.56005865099487,
          0,
          108.18733752154178,
          21.213203435596427,
          0,
          46.91836882643442,
          0,
          76.66223661078176,
          0,
          80.63808033429368,
          0,
          0,
          63.397949493654764,
          0,
          0,
          0,
          0,
          0,
          0,
          0,
          70.30458579916494,
          0,
          53.11622476544557,
          0,
          0,
          0,
          0,
          0,
          85.37446925164454,
          71.59958100436064,
          0,
          0,
          0,
          0,
          0,
          0,
          0,
          0,
          0,
          0,
          0,
          91.5255323771628,
          0,
          29.24608235872513,
          88.2624873129387,
          45.132767106246284,
          0,
          0,
          0,
          59.60240741527953,
          106.87531676366312,
          0,
          0,
          31.500264549153652,
          0,
          21.213203435596427,
          0,
          28.651643350193137,
          0,
          0,
          0,
          0,
          0,
          0,
          0,
          0,
          0,
          0,
          0,
          80.32589868778314,
          98.71845487715726,
          0,
          0,
          0,
          0,
          0,
          98.23950325607312,
          0,
          0,
          0,
          0,
          0,
          0,
          56.34444452269832,
          0,
          0,
          75.98295548219694,
          76.02835669874118,
          83.61499068149602,
          0,
          0,
          0,
          0,
          0,
          0,
          52.126342242244036,
          0,
          0,
          0,
          0,
          0,
          0,
          0,
          0,
          0,
          0,
          0,
          0,
          0,
          14.310835055998655,
          0,
          100.78095058095056,
          0,
          0,
          60.5256322517034,
          95.70370943699099,
          17.320508075688775,
          76.5593451730965,
          69.33082746054339,
          0,
          71.38177268227771,
          16.97939928266015,
          0,
          86.2670273047588
         ],
         "yaxis": "y"
        }
       ],
       "layout": {
        "coloraxis": {
         "colorbar": {
          "title": {
           "text": "open_invoice_cluster_id"
          }
         },
         "colorscale": [
          [
           0,
           "#0d0887"
          ],
          [
           0.1111111111111111,
           "#46039f"
          ],
          [
           0.2222222222222222,
           "#7201a8"
          ],
          [
           0.3333333333333333,
           "#9c179e"
          ],
          [
           0.4444444444444444,
           "#bd3786"
          ],
          [
           0.5555555555555556,
           "#d8576b"
          ],
          [
           0.6666666666666666,
           "#ed7953"
          ],
          [
           0.7777777777777778,
           "#fb9f3a"
          ],
          [
           0.8888888888888888,
           "#fdca26"
          ],
          [
           1,
           "#f0f921"
          ]
         ]
        },
        "legend": {
         "tracegroupgap": 0
        },
        "template": {
         "data": {
          "bar": [
           {
            "error_x": {
             "color": "#2a3f5f"
            },
            "error_y": {
             "color": "#2a3f5f"
            },
            "marker": {
             "line": {
              "color": "#E5ECF6",
              "width": 0.5
             },
             "pattern": {
              "fillmode": "overlay",
              "size": 10,
              "solidity": 0.2
             }
            },
            "type": "bar"
           }
          ],
          "barpolar": [
           {
            "marker": {
             "line": {
              "color": "#E5ECF6",
              "width": 0.5
             },
             "pattern": {
              "fillmode": "overlay",
              "size": 10,
              "solidity": 0.2
             }
            },
            "type": "barpolar"
           }
          ],
          "carpet": [
           {
            "aaxis": {
             "endlinecolor": "#2a3f5f",
             "gridcolor": "white",
             "linecolor": "white",
             "minorgridcolor": "white",
             "startlinecolor": "#2a3f5f"
            },
            "baxis": {
             "endlinecolor": "#2a3f5f",
             "gridcolor": "white",
             "linecolor": "white",
             "minorgridcolor": "white",
             "startlinecolor": "#2a3f5f"
            },
            "type": "carpet"
           }
          ],
          "choropleth": [
           {
            "colorbar": {
             "outlinewidth": 0,
             "ticks": ""
            },
            "type": "choropleth"
           }
          ],
          "contour": [
           {
            "colorbar": {
             "outlinewidth": 0,
             "ticks": ""
            },
            "colorscale": [
             [
              0,
              "#0d0887"
             ],
             [
              0.1111111111111111,
              "#46039f"
             ],
             [
              0.2222222222222222,
              "#7201a8"
             ],
             [
              0.3333333333333333,
              "#9c179e"
             ],
             [
              0.4444444444444444,
              "#bd3786"
             ],
             [
              0.5555555555555556,
              "#d8576b"
             ],
             [
              0.6666666666666666,
              "#ed7953"
             ],
             [
              0.7777777777777778,
              "#fb9f3a"
             ],
             [
              0.8888888888888888,
              "#fdca26"
             ],
             [
              1,
              "#f0f921"
             ]
            ],
            "type": "contour"
           }
          ],
          "contourcarpet": [
           {
            "colorbar": {
             "outlinewidth": 0,
             "ticks": ""
            },
            "type": "contourcarpet"
           }
          ],
          "heatmap": [
           {
            "colorbar": {
             "outlinewidth": 0,
             "ticks": ""
            },
            "colorscale": [
             [
              0,
              "#0d0887"
             ],
             [
              0.1111111111111111,
              "#46039f"
             ],
             [
              0.2222222222222222,
              "#7201a8"
             ],
             [
              0.3333333333333333,
              "#9c179e"
             ],
             [
              0.4444444444444444,
              "#bd3786"
             ],
             [
              0.5555555555555556,
              "#d8576b"
             ],
             [
              0.6666666666666666,
              "#ed7953"
             ],
             [
              0.7777777777777778,
              "#fb9f3a"
             ],
             [
              0.8888888888888888,
              "#fdca26"
             ],
             [
              1,
              "#f0f921"
             ]
            ],
            "type": "heatmap"
           }
          ],
          "heatmapgl": [
           {
            "colorbar": {
             "outlinewidth": 0,
             "ticks": ""
            },
            "colorscale": [
             [
              0,
              "#0d0887"
             ],
             [
              0.1111111111111111,
              "#46039f"
             ],
             [
              0.2222222222222222,
              "#7201a8"
             ],
             [
              0.3333333333333333,
              "#9c179e"
             ],
             [
              0.4444444444444444,
              "#bd3786"
             ],
             [
              0.5555555555555556,
              "#d8576b"
             ],
             [
              0.6666666666666666,
              "#ed7953"
             ],
             [
              0.7777777777777778,
              "#fb9f3a"
             ],
             [
              0.8888888888888888,
              "#fdca26"
             ],
             [
              1,
              "#f0f921"
             ]
            ],
            "type": "heatmapgl"
           }
          ],
          "histogram": [
           {
            "marker": {
             "pattern": {
              "fillmode": "overlay",
              "size": 10,
              "solidity": 0.2
             }
            },
            "type": "histogram"
           }
          ],
          "histogram2d": [
           {
            "colorbar": {
             "outlinewidth": 0,
             "ticks": ""
            },
            "colorscale": [
             [
              0,
              "#0d0887"
             ],
             [
              0.1111111111111111,
              "#46039f"
             ],
             [
              0.2222222222222222,
              "#7201a8"
             ],
             [
              0.3333333333333333,
              "#9c179e"
             ],
             [
              0.4444444444444444,
              "#bd3786"
             ],
             [
              0.5555555555555556,
              "#d8576b"
             ],
             [
              0.6666666666666666,
              "#ed7953"
             ],
             [
              0.7777777777777778,
              "#fb9f3a"
             ],
             [
              0.8888888888888888,
              "#fdca26"
             ],
             [
              1,
              "#f0f921"
             ]
            ],
            "type": "histogram2d"
           }
          ],
          "histogram2dcontour": [
           {
            "colorbar": {
             "outlinewidth": 0,
             "ticks": ""
            },
            "colorscale": [
             [
              0,
              "#0d0887"
             ],
             [
              0.1111111111111111,
              "#46039f"
             ],
             [
              0.2222222222222222,
              "#7201a8"
             ],
             [
              0.3333333333333333,
              "#9c179e"
             ],
             [
              0.4444444444444444,
              "#bd3786"
             ],
             [
              0.5555555555555556,
              "#d8576b"
             ],
             [
              0.6666666666666666,
              "#ed7953"
             ],
             [
              0.7777777777777778,
              "#fb9f3a"
             ],
             [
              0.8888888888888888,
              "#fdca26"
             ],
             [
              1,
              "#f0f921"
             ]
            ],
            "type": "histogram2dcontour"
           }
          ],
          "mesh3d": [
           {
            "colorbar": {
             "outlinewidth": 0,
             "ticks": ""
            },
            "type": "mesh3d"
           }
          ],
          "parcoords": [
           {
            "line": {
             "colorbar": {
              "outlinewidth": 0,
              "ticks": ""
             }
            },
            "type": "parcoords"
           }
          ],
          "pie": [
           {
            "automargin": true,
            "type": "pie"
           }
          ],
          "scatter": [
           {
            "fillpattern": {
             "fillmode": "overlay",
             "size": 10,
             "solidity": 0.2
            },
            "type": "scatter"
           }
          ],
          "scatter3d": [
           {
            "line": {
             "colorbar": {
              "outlinewidth": 0,
              "ticks": ""
             }
            },
            "marker": {
             "colorbar": {
              "outlinewidth": 0,
              "ticks": ""
             }
            },
            "type": "scatter3d"
           }
          ],
          "scattercarpet": [
           {
            "marker": {
             "colorbar": {
              "outlinewidth": 0,
              "ticks": ""
             }
            },
            "type": "scattercarpet"
           }
          ],
          "scattergeo": [
           {
            "marker": {
             "colorbar": {
              "outlinewidth": 0,
              "ticks": ""
             }
            },
            "type": "scattergeo"
           }
          ],
          "scattergl": [
           {
            "marker": {
             "colorbar": {
              "outlinewidth": 0,
              "ticks": ""
             }
            },
            "type": "scattergl"
           }
          ],
          "scattermapbox": [
           {
            "marker": {
             "colorbar": {
              "outlinewidth": 0,
              "ticks": ""
             }
            },
            "type": "scattermapbox"
           }
          ],
          "scatterpolar": [
           {
            "marker": {
             "colorbar": {
              "outlinewidth": 0,
              "ticks": ""
             }
            },
            "type": "scatterpolar"
           }
          ],
          "scatterpolargl": [
           {
            "marker": {
             "colorbar": {
              "outlinewidth": 0,
              "ticks": ""
             }
            },
            "type": "scatterpolargl"
           }
          ],
          "scatterternary": [
           {
            "marker": {
             "colorbar": {
              "outlinewidth": 0,
              "ticks": ""
             }
            },
            "type": "scatterternary"
           }
          ],
          "surface": [
           {
            "colorbar": {
             "outlinewidth": 0,
             "ticks": ""
            },
            "colorscale": [
             [
              0,
              "#0d0887"
             ],
             [
              0.1111111111111111,
              "#46039f"
             ],
             [
              0.2222222222222222,
              "#7201a8"
             ],
             [
              0.3333333333333333,
              "#9c179e"
             ],
             [
              0.4444444444444444,
              "#bd3786"
             ],
             [
              0.5555555555555556,
              "#d8576b"
             ],
             [
              0.6666666666666666,
              "#ed7953"
             ],
             [
              0.7777777777777778,
              "#fb9f3a"
             ],
             [
              0.8888888888888888,
              "#fdca26"
             ],
             [
              1,
              "#f0f921"
             ]
            ],
            "type": "surface"
           }
          ],
          "table": [
           {
            "cells": {
             "fill": {
              "color": "#EBF0F8"
             },
             "line": {
              "color": "white"
             }
            },
            "header": {
             "fill": {
              "color": "#C8D4E3"
             },
             "line": {
              "color": "white"
             }
            },
            "type": "table"
           }
          ]
         },
         "layout": {
          "annotationdefaults": {
           "arrowcolor": "#2a3f5f",
           "arrowhead": 0,
           "arrowwidth": 1
          },
          "autotypenumbers": "strict",
          "coloraxis": {
           "colorbar": {
            "outlinewidth": 0,
            "ticks": ""
           }
          },
          "colorscale": {
           "diverging": [
            [
             0,
             "#8e0152"
            ],
            [
             0.1,
             "#c51b7d"
            ],
            [
             0.2,
             "#de77ae"
            ],
            [
             0.3,
             "#f1b6da"
            ],
            [
             0.4,
             "#fde0ef"
            ],
            [
             0.5,
             "#f7f7f7"
            ],
            [
             0.6,
             "#e6f5d0"
            ],
            [
             0.7,
             "#b8e186"
            ],
            [
             0.8,
             "#7fbc41"
            ],
            [
             0.9,
             "#4d9221"
            ],
            [
             1,
             "#276419"
            ]
           ],
           "sequential": [
            [
             0,
             "#0d0887"
            ],
            [
             0.1111111111111111,
             "#46039f"
            ],
            [
             0.2222222222222222,
             "#7201a8"
            ],
            [
             0.3333333333333333,
             "#9c179e"
            ],
            [
             0.4444444444444444,
             "#bd3786"
            ],
            [
             0.5555555555555556,
             "#d8576b"
            ],
            [
             0.6666666666666666,
             "#ed7953"
            ],
            [
             0.7777777777777778,
             "#fb9f3a"
            ],
            [
             0.8888888888888888,
             "#fdca26"
            ],
            [
             1,
             "#f0f921"
            ]
           ],
           "sequentialminus": [
            [
             0,
             "#0d0887"
            ],
            [
             0.1111111111111111,
             "#46039f"
            ],
            [
             0.2222222222222222,
             "#7201a8"
            ],
            [
             0.3333333333333333,
             "#9c179e"
            ],
            [
             0.4444444444444444,
             "#bd3786"
            ],
            [
             0.5555555555555556,
             "#d8576b"
            ],
            [
             0.6666666666666666,
             "#ed7953"
            ],
            [
             0.7777777777777778,
             "#fb9f3a"
            ],
            [
             0.8888888888888888,
             "#fdca26"
            ],
            [
             1,
             "#f0f921"
            ]
           ]
          },
          "colorway": [
           "#636efa",
           "#EF553B",
           "#00cc96",
           "#ab63fa",
           "#FFA15A",
           "#19d3f3",
           "#FF6692",
           "#B6E880",
           "#FF97FF",
           "#FECB52"
          ],
          "font": {
           "color": "#2a3f5f"
          },
          "geo": {
           "bgcolor": "white",
           "lakecolor": "white",
           "landcolor": "#E5ECF6",
           "showlakes": true,
           "showland": true,
           "subunitcolor": "white"
          },
          "hoverlabel": {
           "align": "left"
          },
          "hovermode": "closest",
          "mapbox": {
           "style": "light"
          },
          "paper_bgcolor": "white",
          "plot_bgcolor": "#E5ECF6",
          "polar": {
           "angularaxis": {
            "gridcolor": "white",
            "linecolor": "white",
            "ticks": ""
           },
           "bgcolor": "#E5ECF6",
           "radialaxis": {
            "gridcolor": "white",
            "linecolor": "white",
            "ticks": ""
           }
          },
          "scene": {
           "xaxis": {
            "backgroundcolor": "#E5ECF6",
            "gridcolor": "white",
            "gridwidth": 2,
            "linecolor": "white",
            "showbackground": true,
            "ticks": "",
            "zerolinecolor": "white"
           },
           "yaxis": {
            "backgroundcolor": "#E5ECF6",
            "gridcolor": "white",
            "gridwidth": 2,
            "linecolor": "white",
            "showbackground": true,
            "ticks": "",
            "zerolinecolor": "white"
           },
           "zaxis": {
            "backgroundcolor": "#E5ECF6",
            "gridcolor": "white",
            "gridwidth": 2,
            "linecolor": "white",
            "showbackground": true,
            "ticks": "",
            "zerolinecolor": "white"
           }
          },
          "shapedefaults": {
           "line": {
            "color": "#2a3f5f"
           }
          },
          "ternary": {
           "aaxis": {
            "gridcolor": "white",
            "linecolor": "white",
            "ticks": ""
           },
           "baxis": {
            "gridcolor": "white",
            "linecolor": "white",
            "ticks": ""
           },
           "bgcolor": "#E5ECF6",
           "caxis": {
            "gridcolor": "white",
            "linecolor": "white",
            "ticks": ""
           }
          },
          "title": {
           "x": 0.05
          },
          "xaxis": {
           "automargin": true,
           "gridcolor": "white",
           "linecolor": "white",
           "ticks": "",
           "title": {
            "standoff": 15
           },
           "zerolinecolor": "white",
           "zerolinewidth": 2
          },
          "yaxis": {
           "automargin": true,
           "gridcolor": "white",
           "linecolor": "white",
           "ticks": "",
           "title": {
            "standoff": 15
           },
           "zerolinecolor": "white",
           "zerolinewidth": 2
          }
         }
        },
        "title": {
         "text": "Open Invoice Clusters - Mean_Payment_time vs Std_Dev_Payment_time"
        },
        "xaxis": {
         "anchor": "y",
         "domain": [
          0,
          1
         ],
         "title": {
          "text": "Mean_Payment_time"
         }
        },
        "yaxis": {
         "anchor": "x",
         "domain": [
          0,
          1
         ],
         "title": {
          "text": "Std_Dev_Payment_time"
         }
        }
       }
      },
      "text/html": [
       "<div>                            <div id=\"e3c70264-533d-4369-9426-a2a5c69efb99\" class=\"plotly-graph-div\" style=\"height:525px; width:100%;\"></div>            <script type=\"text/javascript\">                require([\"plotly\"], function(Plotly) {                    window.PLOTLYENV=window.PLOTLYENV || {};                                    if (document.getElementById(\"e3c70264-533d-4369-9426-a2a5c69efb99\")) {                    Plotly.newPlot(                        \"e3c70264-533d-4369-9426-a2a5c69efb99\",                        [{\"customdata\":[[2],[0],[0],[2],[2],[1],[2],[2],[0],[1],[0],[0],[0],[0],[0],[2],[2],[2],[0],[2],[1],[2],[2],[1],[2],[0],[1],[1],[0],[2],[1],[2],[2],[1],[0],[2],[2],[1],[1],[0],[0],[2],[0],[1],[2],[1],[2],[0],[0],[0],[2],[2],[0],[0],[2],[0],[1],[2],[0],[2],[2],[2],[1],[0],[0],[1],[1],[1],[2],[2],[2],[0],[1],[2],[0],[1],[0],[1],[0],[2],[2],[1],[2],[1],[1],[1],[1],[1],[1],[2],[2],[1],[1],[1],[1],[2],[2],[2],[2],[0],[2],[0],[0],[0],[0],[0],[1],[2],[0],[0],[0],[0],[0],[0],[2],[1],[2],[1],[2],[1],[1],[2],[2],[1],[0],[0],[0],[0],[1],[2],[2],[0],[0],[1],[0],[2],[0],[2],[0],[0],[1],[0],[0],[2],[2],[1],[2],[0],[2],[0],[2],[0],[2],[2],[2],[2],[0],[1],[0],[2],[1],[0],[2],[1],[2],[1],[2],[2],[1],[0],[2],[0],[1],[2],[2],[2],[1],[0],[0],[1],[2],[1],[2],[1],[2],[1],[1],[2],[2],[2],[0],[1],[2],[0],[1],[2],[2],[2],[0],[0],[2],[2],[1],[1],[2],[2],[1],[2],[1],[2],[2],[1],[2],[2],[2],[2],[2],[2],[0],[0],[1],[2],[2],[2],[2],[0],[2],[2],[1],[2],[1],[1],[0],[1],[2],[0],[0],[0],[1],[1],[1],[1],[2],[1],[0],[1],[2],[2],[2],[2],[1],[1],[1],[2],[2],[2],[2],[1],[1],[1],[0],[2],[2],[0],[0],[2],[0],[0],[2],[0],[1],[1],[0]],\"hovertemplate\":\"Mean_Payment_time=%{x}<br>Std_Dev_Payment_time=%{y}<br>open_invoice_cluster_id=%{marker.color}<extra></extra>\",\"legendgroup\":\"\",\"marker\":{\"color\":[2,0,0,2,2,1,2,2,0,1,0,0,0,0,0,2,2,2,0,2,1,2,2,1,2,0,1,1,0,2,1,2,2,1,0,2,2,1,1,0,0,2,0,1,2,1,2,0,0,0,2,2,0,0,2,0,1,2,0,2,2,2,1,0,0,1,1,1,2,2,2,0,1,2,0,1,0,1,0,2,2,1,2,1,1,1,1,1,1,2,2,1,1,1,1,2,2,2,2,0,2,0,0,0,0,0,1,2,0,0,0,0,0,0,2,1,2,1,2,1,1,2,2,1,0,0,0,0,1,2,2,0,0,1,0,2,0,2,0,0,1,0,0,2,2,1,2,0,2,0,2,0,2,2,2,2,0,1,0,2,1,0,2,1,2,1,2,2,1,0,2,0,1,2,2,2,1,0,0,1,2,1,2,1,2,1,1,2,2,2,0,1,2,0,1,2,2,2,0,0,2,2,1,1,2,2,1,2,1,2,2,1,2,2,2,2,2,2,0,0,1,2,2,2,2,0,2,2,1,2,1,1,0,1,2,0,0,0,1,1,1,1,2,1,0,1,2,2,2,2,1,1,1,2,2,2,2,1,1,1,0,2,2,0,0,2,0,0,2,0,1,1,0],\"coloraxis\":\"coloraxis\",\"symbol\":\"circle\"},\"mode\":\"markers\",\"name\":\"\",\"orientation\":\"v\",\"showlegend\":false,\"x\":[240.0,104.5,150.76,180.0,181.0,29.0,181.0,188.0,171.9469387755102,75.4,161.5,121.47169811320755,101.91666666666667,129.11805555555554,135.35294117647058,211.0,212.0,219.375,164.97260273972603,150.0,88.0,210.0,212.0,57.0,210.0,86.5,119.0,118.0,73.5,172.14285714285714,51.31818181818182,151.0,150.5,29.0,82.4,149.66666666666666,181.0,29.0,120.0,131.2,133.5,212.0,74.0,28.0,241.0,29.0,212.0,160.41176470588235,128.85714285714286,141.75,180.0,212.0,174.0,89.5,181.84615384615384,59.333333333333336,89.0,212.0,92.94285714285714,165.5,241.0,210.0,119.0,113.10714285714286,133.5,58.0,119.0,29.0,241.0,181.0,180.0,165.0,29.0,242.0,185.83333333333334,88.0,119.0,29.0,112.83333333333333,211.0,211.5,28.8,211.0,59.0,57.0,59.0,28.0,119.0,28.0,210.66666666666666,242.0,89.0,58.0,59.0,26.0,179.0,211.0,211.0,211.5,118.0,242.0,73.25,180.14285714285714,135.15064102564102,130.60830860534125,149.4,29.0,242.0,109.0,101.85714285714286,149.2,179.6,129.0,125.16666666666667,135.25,104.5,212.0,58.6,241.0,89.0,43.0,151.0,211.0,89.0,166.91666666666666,105.27272727272727,148.71428571428572,85.34,57.0,180.0,180.0,139.66666666666666,169.66666666666666,28.5,96.22222222222223,212.0,187.15384615384616,212.0,164.51724137931035,115.0,59.0,148.425,172.75,210.0,222.0,57.0,200.66666666666666,164.5,172.0,53.4,211.0,163.5,195.0,151.0,201.33333333333334,181.0,143.20689655172413,29.0,104.5,211.0,88.0,191.6,181.0,88.0,181.0,29.0,150.0,179.0,28.0,137.85353535353536,180.0,88.33333333333333,120.0,181.0,212.0,212.0,28.0,173.6,168.25,59.0,179.0,28.0,179.0,89.0,211.0,57.0,120.0,210.0,242.0,211.0,107.0,58.0,189.0,149.66666666666666,63.833333333333336,212.0,212.0,242.0,174.91666666666666,140.66666666666666,211.0,240.0,78.33333333333333,29.0,225.0,210.0,80.25,181.0,89.0,181.0,242.0,29.0,150.0,240.0,240.0,210.0,151.0,210.0,171.75,98.33333333333333,57.0,151.0,242.0,242.0,212.0,141.5,180.0,150.0,58.0,151.0,87.0,27.0,137.125,118.0,210.0,163.53333333333333,162.35897435897436,190.33333333333334,28.0,88.0,29.0,89.0,181.0,59.0,79.6,57.0,150.0,241.0,240.0,181.0,27.0,28.0,29.0,180.0,211.0,212.0,211.0,29.0,112.6,26.0,138.4,180.0,151.0,130.93023255813952,68.8,130.0,99.66666666666667,86.18181818181819,179.0,185.56666666666666,40.4,29.0,90.0],\"xaxis\":\"x\",\"y\":[0.0,108.18733752154178,60.71766713272849,0.0,0.0,0.0,0.0,28.902133715927157,89.82898848905933,15.883954167649819,68.85451651449195,62.31421734724283,76.21793911163067,77.26158080173457,57.88883870884632,0.0,0.0,21.467167622075475,81.77586944770822,0.0,0.0,0.0,0.0,0.0,0.0,66.38984192714358,0.0,0.0,64.34671708797582,38.602368543171764,38.824864840333056,0.0,0.7071067811865476,0.0,93.1708108798029,30.005555041247497,0.0,0.0,0.0,69.89778251132148,108.18733752154178,0.0,65.05382386916237,0.0,0.0,0.0,0.0,73.65549777811007,87.3506889334186,77.16810653804244,0.0,0.0,84.5103543951864,43.1335136523794,43.78326574131215,52.53887449625594,0.0,0.0,76.23182246478514,21.920310216782973,0.0,0.0,0.0,89.32227928529129,64.34671708797582,0.0,0.0,0.0,0.0,0.0,0.0,88.91194145520237,0.0,0.0,56.26870059515029,0.0,74.46609966958118,0.0,63.27848502189877,0.0,43.1335136523794,0.44721359549995765,0.0,0.0,0.0,0.0,0.0,0.0,0.0,31.501322723551365,0.0,0.0,0.0,0.0,0.0,0.0,0.0,0.0,0.7071067811865476,130.10764773832474,0.0,82.73451516749222,79.01145185230762,74.21156685811395,72.099268058498,66.09790717816513,0.0,0.0,93.28987083279728,84.68260067536222,55.6273314118159,89.2709359198166,89.20201791439474,55.79038148880743,30.500000000000004,21.920310216782973,0.0,30.500819661117305,0.0,0.0,21.213203435596427,0.0,0.0,0.0,63.2001989831927,68.00320226261704,77.08807578718921,71.07617481450889,0.0,0.0,0.0,98.10368664496424,69.85938257194472,0.7071067811865476,75.71620991864584,0.0,67.31622656517787,0.0,68.77064401205294,76.02894185768996,0.0,89.46546961350258,44.83581157958446,0.0,17.320508075688775,0.0,17.039170558842745,65.76093065034893,39.21734310225516,54.56005865099487,0.0,108.18733752154178,21.213203435596427,0.0,46.91836882643442,0.0,76.66223661078176,0.0,80.63808033429368,0.0,0.0,63.397949493654764,0.0,0.0,0.0,0.0,0.0,0.0,0.0,70.30458579916494,0.0,53.11622476544557,0.0,0.0,0.0,0.0,0.0,85.37446925164454,71.59958100436064,0.0,0.0,0.0,0.0,0.0,0.0,0.0,0.0,0.0,0.0,0.0,91.5255323771628,0.0,29.24608235872513,88.2624873129387,45.132767106246284,0.0,0.0,0.0,59.60240741527953,106.87531676366312,0.0,0.0,31.500264549153652,0.0,21.213203435596427,0.0,28.651643350193137,0.0,0.0,0.0,0.0,0.0,0.0,0.0,0.0,0.0,0.0,0.0,80.32589868778314,98.71845487715726,0.0,0.0,0.0,0.0,0.0,98.23950325607312,0.0,0.0,0.0,0.0,0.0,0.0,56.34444452269832,0.0,0.0,75.98295548219694,76.02835669874118,83.61499068149602,0.0,0.0,0.0,0.0,0.0,0.0,52.126342242244036,0.0,0.0,0.0,0.0,0.0,0.0,0.0,0.0,0.0,0.0,0.0,0.0,0.0,14.310835055998655,0.0,100.78095058095056,0.0,0.0,60.5256322517034,95.70370943699099,17.320508075688775,76.5593451730965,69.33082746054339,0.0,71.38177268227771,16.97939928266015,0.0,86.2670273047588],\"yaxis\":\"y\",\"type\":\"scatter\"}],                        {\"template\":{\"data\":{\"histogram2dcontour\":[{\"type\":\"histogram2dcontour\",\"colorbar\":{\"outlinewidth\":0,\"ticks\":\"\"},\"colorscale\":[[0.0,\"#0d0887\"],[0.1111111111111111,\"#46039f\"],[0.2222222222222222,\"#7201a8\"],[0.3333333333333333,\"#9c179e\"],[0.4444444444444444,\"#bd3786\"],[0.5555555555555556,\"#d8576b\"],[0.6666666666666666,\"#ed7953\"],[0.7777777777777778,\"#fb9f3a\"],[0.8888888888888888,\"#fdca26\"],[1.0,\"#f0f921\"]]}],\"choropleth\":[{\"type\":\"choropleth\",\"colorbar\":{\"outlinewidth\":0,\"ticks\":\"\"}}],\"histogram2d\":[{\"type\":\"histogram2d\",\"colorbar\":{\"outlinewidth\":0,\"ticks\":\"\"},\"colorscale\":[[0.0,\"#0d0887\"],[0.1111111111111111,\"#46039f\"],[0.2222222222222222,\"#7201a8\"],[0.3333333333333333,\"#9c179e\"],[0.4444444444444444,\"#bd3786\"],[0.5555555555555556,\"#d8576b\"],[0.6666666666666666,\"#ed7953\"],[0.7777777777777778,\"#fb9f3a\"],[0.8888888888888888,\"#fdca26\"],[1.0,\"#f0f921\"]]}],\"heatmap\":[{\"type\":\"heatmap\",\"colorbar\":{\"outlinewidth\":0,\"ticks\":\"\"},\"colorscale\":[[0.0,\"#0d0887\"],[0.1111111111111111,\"#46039f\"],[0.2222222222222222,\"#7201a8\"],[0.3333333333333333,\"#9c179e\"],[0.4444444444444444,\"#bd3786\"],[0.5555555555555556,\"#d8576b\"],[0.6666666666666666,\"#ed7953\"],[0.7777777777777778,\"#fb9f3a\"],[0.8888888888888888,\"#fdca26\"],[1.0,\"#f0f921\"]]}],\"heatmapgl\":[{\"type\":\"heatmapgl\",\"colorbar\":{\"outlinewidth\":0,\"ticks\":\"\"},\"colorscale\":[[0.0,\"#0d0887\"],[0.1111111111111111,\"#46039f\"],[0.2222222222222222,\"#7201a8\"],[0.3333333333333333,\"#9c179e\"],[0.4444444444444444,\"#bd3786\"],[0.5555555555555556,\"#d8576b\"],[0.6666666666666666,\"#ed7953\"],[0.7777777777777778,\"#fb9f3a\"],[0.8888888888888888,\"#fdca26\"],[1.0,\"#f0f921\"]]}],\"contourcarpet\":[{\"type\":\"contourcarpet\",\"colorbar\":{\"outlinewidth\":0,\"ticks\":\"\"}}],\"contour\":[{\"type\":\"contour\",\"colorbar\":{\"outlinewidth\":0,\"ticks\":\"\"},\"colorscale\":[[0.0,\"#0d0887\"],[0.1111111111111111,\"#46039f\"],[0.2222222222222222,\"#7201a8\"],[0.3333333333333333,\"#9c179e\"],[0.4444444444444444,\"#bd3786\"],[0.5555555555555556,\"#d8576b\"],[0.6666666666666666,\"#ed7953\"],[0.7777777777777778,\"#fb9f3a\"],[0.8888888888888888,\"#fdca26\"],[1.0,\"#f0f921\"]]}],\"surface\":[{\"type\":\"surface\",\"colorbar\":{\"outlinewidth\":0,\"ticks\":\"\"},\"colorscale\":[[0.0,\"#0d0887\"],[0.1111111111111111,\"#46039f\"],[0.2222222222222222,\"#7201a8\"],[0.3333333333333333,\"#9c179e\"],[0.4444444444444444,\"#bd3786\"],[0.5555555555555556,\"#d8576b\"],[0.6666666666666666,\"#ed7953\"],[0.7777777777777778,\"#fb9f3a\"],[0.8888888888888888,\"#fdca26\"],[1.0,\"#f0f921\"]]}],\"mesh3d\":[{\"type\":\"mesh3d\",\"colorbar\":{\"outlinewidth\":0,\"ticks\":\"\"}}],\"scatter\":[{\"fillpattern\":{\"fillmode\":\"overlay\",\"size\":10,\"solidity\":0.2},\"type\":\"scatter\"}],\"parcoords\":[{\"type\":\"parcoords\",\"line\":{\"colorbar\":{\"outlinewidth\":0,\"ticks\":\"\"}}}],\"scatterpolargl\":[{\"type\":\"scatterpolargl\",\"marker\":{\"colorbar\":{\"outlinewidth\":0,\"ticks\":\"\"}}}],\"bar\":[{\"error_x\":{\"color\":\"#2a3f5f\"},\"error_y\":{\"color\":\"#2a3f5f\"},\"marker\":{\"line\":{\"color\":\"#E5ECF6\",\"width\":0.5},\"pattern\":{\"fillmode\":\"overlay\",\"size\":10,\"solidity\":0.2}},\"type\":\"bar\"}],\"scattergeo\":[{\"type\":\"scattergeo\",\"marker\":{\"colorbar\":{\"outlinewidth\":0,\"ticks\":\"\"}}}],\"scatterpolar\":[{\"type\":\"scatterpolar\",\"marker\":{\"colorbar\":{\"outlinewidth\":0,\"ticks\":\"\"}}}],\"histogram\":[{\"marker\":{\"pattern\":{\"fillmode\":\"overlay\",\"size\":10,\"solidity\":0.2}},\"type\":\"histogram\"}],\"scattergl\":[{\"type\":\"scattergl\",\"marker\":{\"colorbar\":{\"outlinewidth\":0,\"ticks\":\"\"}}}],\"scatter3d\":[{\"type\":\"scatter3d\",\"line\":{\"colorbar\":{\"outlinewidth\":0,\"ticks\":\"\"}},\"marker\":{\"colorbar\":{\"outlinewidth\":0,\"ticks\":\"\"}}}],\"scattermapbox\":[{\"type\":\"scattermapbox\",\"marker\":{\"colorbar\":{\"outlinewidth\":0,\"ticks\":\"\"}}}],\"scatterternary\":[{\"type\":\"scatterternary\",\"marker\":{\"colorbar\":{\"outlinewidth\":0,\"ticks\":\"\"}}}],\"scattercarpet\":[{\"type\":\"scattercarpet\",\"marker\":{\"colorbar\":{\"outlinewidth\":0,\"ticks\":\"\"}}}],\"carpet\":[{\"aaxis\":{\"endlinecolor\":\"#2a3f5f\",\"gridcolor\":\"white\",\"linecolor\":\"white\",\"minorgridcolor\":\"white\",\"startlinecolor\":\"#2a3f5f\"},\"baxis\":{\"endlinecolor\":\"#2a3f5f\",\"gridcolor\":\"white\",\"linecolor\":\"white\",\"minorgridcolor\":\"white\",\"startlinecolor\":\"#2a3f5f\"},\"type\":\"carpet\"}],\"table\":[{\"cells\":{\"fill\":{\"color\":\"#EBF0F8\"},\"line\":{\"color\":\"white\"}},\"header\":{\"fill\":{\"color\":\"#C8D4E3\"},\"line\":{\"color\":\"white\"}},\"type\":\"table\"}],\"barpolar\":[{\"marker\":{\"line\":{\"color\":\"#E5ECF6\",\"width\":0.5},\"pattern\":{\"fillmode\":\"overlay\",\"size\":10,\"solidity\":0.2}},\"type\":\"barpolar\"}],\"pie\":[{\"automargin\":true,\"type\":\"pie\"}]},\"layout\":{\"autotypenumbers\":\"strict\",\"colorway\":[\"#636efa\",\"#EF553B\",\"#00cc96\",\"#ab63fa\",\"#FFA15A\",\"#19d3f3\",\"#FF6692\",\"#B6E880\",\"#FF97FF\",\"#FECB52\"],\"font\":{\"color\":\"#2a3f5f\"},\"hovermode\":\"closest\",\"hoverlabel\":{\"align\":\"left\"},\"paper_bgcolor\":\"white\",\"plot_bgcolor\":\"#E5ECF6\",\"polar\":{\"bgcolor\":\"#E5ECF6\",\"angularaxis\":{\"gridcolor\":\"white\",\"linecolor\":\"white\",\"ticks\":\"\"},\"radialaxis\":{\"gridcolor\":\"white\",\"linecolor\":\"white\",\"ticks\":\"\"}},\"ternary\":{\"bgcolor\":\"#E5ECF6\",\"aaxis\":{\"gridcolor\":\"white\",\"linecolor\":\"white\",\"ticks\":\"\"},\"baxis\":{\"gridcolor\":\"white\",\"linecolor\":\"white\",\"ticks\":\"\"},\"caxis\":{\"gridcolor\":\"white\",\"linecolor\":\"white\",\"ticks\":\"\"}},\"coloraxis\":{\"colorbar\":{\"outlinewidth\":0,\"ticks\":\"\"}},\"colorscale\":{\"sequential\":[[0.0,\"#0d0887\"],[0.1111111111111111,\"#46039f\"],[0.2222222222222222,\"#7201a8\"],[0.3333333333333333,\"#9c179e\"],[0.4444444444444444,\"#bd3786\"],[0.5555555555555556,\"#d8576b\"],[0.6666666666666666,\"#ed7953\"],[0.7777777777777778,\"#fb9f3a\"],[0.8888888888888888,\"#fdca26\"],[1.0,\"#f0f921\"]],\"sequentialminus\":[[0.0,\"#0d0887\"],[0.1111111111111111,\"#46039f\"],[0.2222222222222222,\"#7201a8\"],[0.3333333333333333,\"#9c179e\"],[0.4444444444444444,\"#bd3786\"],[0.5555555555555556,\"#d8576b\"],[0.6666666666666666,\"#ed7953\"],[0.7777777777777778,\"#fb9f3a\"],[0.8888888888888888,\"#fdca26\"],[1.0,\"#f0f921\"]],\"diverging\":[[0,\"#8e0152\"],[0.1,\"#c51b7d\"],[0.2,\"#de77ae\"],[0.3,\"#f1b6da\"],[0.4,\"#fde0ef\"],[0.5,\"#f7f7f7\"],[0.6,\"#e6f5d0\"],[0.7,\"#b8e186\"],[0.8,\"#7fbc41\"],[0.9,\"#4d9221\"],[1,\"#276419\"]]},\"xaxis\":{\"gridcolor\":\"white\",\"linecolor\":\"white\",\"ticks\":\"\",\"title\":{\"standoff\":15},\"zerolinecolor\":\"white\",\"automargin\":true,\"zerolinewidth\":2},\"yaxis\":{\"gridcolor\":\"white\",\"linecolor\":\"white\",\"ticks\":\"\",\"title\":{\"standoff\":15},\"zerolinecolor\":\"white\",\"automargin\":true,\"zerolinewidth\":2},\"scene\":{\"xaxis\":{\"backgroundcolor\":\"#E5ECF6\",\"gridcolor\":\"white\",\"linecolor\":\"white\",\"showbackground\":true,\"ticks\":\"\",\"zerolinecolor\":\"white\",\"gridwidth\":2},\"yaxis\":{\"backgroundcolor\":\"#E5ECF6\",\"gridcolor\":\"white\",\"linecolor\":\"white\",\"showbackground\":true,\"ticks\":\"\",\"zerolinecolor\":\"white\",\"gridwidth\":2},\"zaxis\":{\"backgroundcolor\":\"#E5ECF6\",\"gridcolor\":\"white\",\"linecolor\":\"white\",\"showbackground\":true,\"ticks\":\"\",\"zerolinecolor\":\"white\",\"gridwidth\":2}},\"shapedefaults\":{\"line\":{\"color\":\"#2a3f5f\"}},\"annotationdefaults\":{\"arrowcolor\":\"#2a3f5f\",\"arrowhead\":0,\"arrowwidth\":1},\"geo\":{\"bgcolor\":\"white\",\"landcolor\":\"#E5ECF6\",\"subunitcolor\":\"white\",\"showland\":true,\"showlakes\":true,\"lakecolor\":\"white\"},\"title\":{\"x\":0.05},\"mapbox\":{\"style\":\"light\"}}},\"xaxis\":{\"anchor\":\"y\",\"domain\":[0.0,1.0],\"title\":{\"text\":\"Mean_Payment_time\"}},\"yaxis\":{\"anchor\":\"x\",\"domain\":[0.0,1.0],\"title\":{\"text\":\"Std_Dev_Payment_time\"}},\"coloraxis\":{\"colorbar\":{\"title\":{\"text\":\"open_invoice_cluster_id\"}},\"colorscale\":[[0.0,\"#0d0887\"],[0.1111111111111111,\"#46039f\"],[0.2222222222222222,\"#7201a8\"],[0.3333333333333333,\"#9c179e\"],[0.4444444444444444,\"#bd3786\"],[0.5555555555555556,\"#d8576b\"],[0.6666666666666666,\"#ed7953\"],[0.7777777777777778,\"#fb9f3a\"],[0.8888888888888888,\"#fdca26\"],[1.0,\"#f0f921\"]]},\"legend\":{\"tracegroupgap\":0},\"title\":{\"text\":\"Open Invoice Clusters - Mean_Payment_time vs Std_Dev_Payment_time\"}},                        {\"responsive\": true}                    ).then(function(){\n",
       "                            \n",
       "var gd = document.getElementById('e3c70264-533d-4369-9426-a2a5c69efb99');\n",
       "var x = new MutationObserver(function (mutations, observer) {{\n",
       "        var display = window.getComputedStyle(gd).display;\n",
       "        if (!display || display === 'none') {{\n",
       "            console.log([gd, 'removed!']);\n",
       "            Plotly.purge(gd);\n",
       "            observer.disconnect();\n",
       "        }}\n",
       "}});\n",
       "\n",
       "// Listen for the removal of the full notebook cells\n",
       "var notebookContainer = gd.closest('#notebook-container');\n",
       "if (notebookContainer) {{\n",
       "    x.observe(notebookContainer, {childList: true});\n",
       "}}\n",
       "\n",
       "// Listen for the clearing of the current output cell\n",
       "var outputEl = gd.closest('.output');\n",
       "if (outputEl) {{\n",
       "    x.observe(outputEl, {childList: true});\n",
       "}}\n",
       "\n",
       "                        })                };                });            </script>        </div>"
      ]
     },
     "metadata": {},
     "output_type": "display_data"
    }
   ],
   "source": [
    "import plotly.express as px\n",
    "\n",
    "# Define colors for each cluster\n",
    "colors = ['red', 'blue', 'green']\n",
    "\n",
    "# Create a scatter plot using Plotly\n",
    "fig = px.scatter(open_invoice_grouped_data, x='Mean_Payment_time', y='Std_Dev_Payment_time', color='open_invoice_cluster_id',\n",
    "                 color_discrete_sequence=colors, labels={'Mean_Payment_time': 'Mean_Payment_time',\n",
    "                                                         'Std_Dev_Payment_time': 'Std_Dev_Payment_time'},\n",
    "                 title='Open Invoice Clusters - Mean_Payment_time vs Std_Dev_Payment_time',\n",
    "                 hover_data=['open_invoice_cluster_id'])\n",
    "\n",
    "fig.show()\n"
   ]
  },
  {
   "cell_type": "code",
   "execution_count": 399,
   "id": "73498a41",
   "metadata": {},
   "outputs": [
    {
     "data": {
      "text/plain": [
       "Index(['Customer Account No', 'Mean_Payment_time', 'Std_Dev_Payment_time',\n",
       "       'open_invoice_cluster_id'],\n",
       "      dtype='object')"
      ]
     },
     "execution_count": 399,
     "metadata": {},
     "output_type": "execute_result"
    }
   ],
   "source": [
    "open_invoice_grouped_data.columns"
   ]
  },
  {
   "cell_type": "code",
   "execution_count": 402,
   "id": "f6248602",
   "metadata": {},
   "outputs": [],
   "source": [
    "# Create a dictionary mapping 'Customer Account No' to 'open_invoice_cluster_id' from grouped_data\n",
    "open_invoice_customer_cluster_dict = dict(zip(open_invoice_grouped_data['Customer Account No'], open_invoice_grouped_data['open_invoice_cluster_id']))\n",
    "\n",
    "# Map 'cluster_id' to 'open_invoices_test' DataFrame using the created dictionary\n",
    "open_invoices_test['open_invoice_cluster_id'] = open_invoices_test['Customer Account No'].map(open_invoice_customer_cluster_dict)\n",
    "\n"
   ]
  },
  {
   "cell_type": "code",
   "execution_count": 403,
   "id": "4bff9424",
   "metadata": {},
   "outputs": [
    {
     "name": "stdout",
     "output_type": "stream",
     "text": [
      "<class 'pandas.core.frame.DataFrame'>\n",
      "Int64Index: 2984 entries, 23 to 88184\n",
      "Data columns (total 17 columns):\n",
      " #   Column                   Non-Null Count  Dtype         \n",
      "---  ------                   --------------  -----         \n",
      " 0   AS_OF_DATE               2984 non-null   datetime64[ns]\n",
      " 1   Customer Type            2984 non-null   object        \n",
      " 2   Customer_Name            2984 non-null   object        \n",
      " 3   Customer Account No      2984 non-null   object        \n",
      " 4   Transaction Number       2984 non-null   object        \n",
      " 5   Transaction Date         2984 non-null   object        \n",
      " 6   Payment Term             2984 non-null   object        \n",
      " 7   Due Date                 2984 non-null   datetime64[ns]\n",
      " 8   Transaction Currency     2984 non-null   object        \n",
      " 9   Local Amount             2984 non-null   object        \n",
      " 10  Transaction Class        2984 non-null   object        \n",
      " 11  AGE                      2984 non-null   int64         \n",
      " 12  USD Amount               2984 non-null   float64       \n",
      " 13  INV_CREATION_DATE        2984 non-null   datetime64[ns]\n",
      " 14  PAYMENT_TERM             2984 non-null   int64         \n",
      " 15  Average_payment_time     2984 non-null   int64         \n",
      " 16  open_invoice_cluster_id  2984 non-null   int64         \n",
      "dtypes: datetime64[ns](3), float64(1), int64(4), object(9)\n",
      "memory usage: 419.6+ KB\n"
     ]
    }
   ],
   "source": [
    "open_invoices_test.info()"
   ]
  },
  {
   "cell_type": "code",
   "execution_count": 404,
   "id": "0881c6b0",
   "metadata": {},
   "outputs": [
    {
     "data": {
      "text/plain": [
       "0"
      ]
     },
     "execution_count": 404,
     "metadata": {},
     "output_type": "execute_result"
    }
   ],
   "source": [
    "# We will create categorical columns for clusters as well\n",
    "#Checking if there are some cluster IDs which are Null\n",
    "open_invoices_test['open_invoice_cluster_id'].isnull().sum()"
   ]
  },
  {
   "cell_type": "markdown",
   "id": "892d3edf",
   "metadata": {},
   "source": [
    "AWESOME"
   ]
  },
  {
   "cell_type": "code",
   "execution_count": 405,
   "id": "661fdd2c",
   "metadata": {},
   "outputs": [
    {
     "data": {
      "text/plain": [
       "Index(['AS_OF_DATE', 'Customer Type', 'Customer_Name', 'Customer Account No',\n",
       "       'Transaction Number', 'Transaction Date', 'Payment Term', 'Due Date',\n",
       "       'Transaction Currency', 'Local Amount', 'Transaction Class', 'AGE',\n",
       "       'USD Amount', 'INV_CREATION_DATE', 'PAYMENT_TERM',\n",
       "       'Average_payment_time', 'open_invoice_cluster_id'],\n",
       "      dtype='object')"
      ]
     },
     "execution_count": 405,
     "metadata": {},
     "output_type": "execute_result"
    }
   ],
   "source": [
    "open_invoices_test.columns"
   ]
  },
  {
   "cell_type": "code",
   "execution_count": 406,
   "id": "c0d1e52d",
   "metadata": {},
   "outputs": [],
   "source": [
    "#Removing columns which are not there in the model which we had created by using the received_payments dataset\n",
    "open_invoices_columns_to_be_dropped=['AS_OF_DATE', 'Customer Type', 'Customer_Name', \n",
    "       'Transaction Number', 'Transaction Date', 'Due Date',\n",
    "       'Transaction Currency', 'Local Amount', 'Transaction Class', 'AGE', 'INV_CREATION_DATE', 'Payment Term',]\n"
   ]
  },
  {
   "cell_type": "code",
   "execution_count": 407,
   "id": "bc6ade64",
   "metadata": {},
   "outputs": [],
   "source": [
    "#Dropping non consequential columns which are not important for getting the test set raedy\n",
    "open_invoices_test = open_invoices_test.drop(columns=open_invoices_columns_to_be_dropped, axis=1)"
   ]
  },
  {
   "cell_type": "code",
   "execution_count": 408,
   "id": "4dba6619",
   "metadata": {},
   "outputs": [
    {
     "name": "stdout",
     "output_type": "stream",
     "text": [
      "<class 'pandas.core.frame.DataFrame'>\n",
      "Int64Index: 2984 entries, 23 to 88184\n",
      "Data columns (total 5 columns):\n",
      " #   Column                   Non-Null Count  Dtype  \n",
      "---  ------                   --------------  -----  \n",
      " 0   Customer Account No      2984 non-null   object \n",
      " 1   USD Amount               2984 non-null   float64\n",
      " 2   PAYMENT_TERM             2984 non-null   int64  \n",
      " 3   Average_payment_time     2984 non-null   int64  \n",
      " 4   open_invoice_cluster_id  2984 non-null   int64  \n",
      "dtypes: float64(1), int64(3), object(1)\n",
      "memory usage: 139.9+ KB\n"
     ]
    }
   ],
   "source": [
    "open_invoices_test.info()"
   ]
  },
  {
   "cell_type": "markdown",
   "id": "dc6632de",
   "metadata": {},
   "source": [
    "# RENAMING THE VARIABLES OF THE OPEN INVOICE DATA SO THAT THEY MATCH THE VAIABLES IN THE MODEL\n"
   ]
  },
  {
   "cell_type": "code",
   "execution_count": 412,
   "id": "af651ea6",
   "metadata": {},
   "outputs": [
    {
     "data": {
      "text/plain": [
       "open_invoice_cluster_id    3\n",
       "open_invoice_cluster_id    3\n",
       "dtype: int64"
      ]
     },
     "execution_count": 412,
     "metadata": {},
     "output_type": "execute_result"
    }
   ],
   "source": [
    "open_invoices_test['open_invoice_cluster_id'].nunique()"
   ]
  },
  {
   "cell_type": "code",
   "execution_count": 410,
   "id": "9eddf2ae",
   "metadata": {},
   "outputs": [],
   "source": [
    "# Create dummy variables for specified columns\n",
    "open_invoice_dummy = pd.get_dummies(open_invoices_test[['open_invoice_cluster_id']], drop_first=True)\n",
    "\n",
    "# Add the results to the master dataframe\n",
    "open_invoices_test = pd.concat([open_invoices_test, open_invoice_dummy], axis=1)"
   ]
  },
  {
   "cell_type": "code",
   "execution_count": 411,
   "id": "61a231bc",
   "metadata": {},
   "outputs": [
    {
     "data": {
      "text/html": [
       "<div>\n",
       "<style scoped>\n",
       "    .dataframe tbody tr th:only-of-type {\n",
       "        vertical-align: middle;\n",
       "    }\n",
       "\n",
       "    .dataframe tbody tr th {\n",
       "        vertical-align: top;\n",
       "    }\n",
       "\n",
       "    .dataframe thead th {\n",
       "        text-align: right;\n",
       "    }\n",
       "</style>\n",
       "<table border=\"1\" class=\"dataframe\">\n",
       "  <thead>\n",
       "    <tr style=\"text-align: right;\">\n",
       "      <th></th>\n",
       "      <th>Customer Account No</th>\n",
       "      <th>USD Amount</th>\n",
       "      <th>PAYMENT_TERM</th>\n",
       "      <th>Average_payment_time</th>\n",
       "      <th>open_invoice_cluster_id</th>\n",
       "      <th>open_invoice_cluster_id</th>\n",
       "    </tr>\n",
       "  </thead>\n",
       "  <tbody>\n",
       "    <tr>\n",
       "      <th>23</th>\n",
       "      <td>4013.0</td>\n",
       "      <td>4107.0</td>\n",
       "      <td>175</td>\n",
       "      <td>57</td>\n",
       "      <td>1</td>\n",
       "      <td>1</td>\n",
       "    </tr>\n",
       "    <tr>\n",
       "      <th>24</th>\n",
       "      <td>7544.0</td>\n",
       "      <td>317.0</td>\n",
       "      <td>145</td>\n",
       "      <td>26</td>\n",
       "      <td>0</td>\n",
       "      <td>0</td>\n",
       "    </tr>\n",
       "    <tr>\n",
       "      <th>56</th>\n",
       "      <td>1044.0</td>\n",
       "      <td>101.0</td>\n",
       "      <td>323</td>\n",
       "      <td>210</td>\n",
       "      <td>0</td>\n",
       "      <td>0</td>\n",
       "    </tr>\n",
       "    <tr>\n",
       "      <th>64</th>\n",
       "      <td>53521.0</td>\n",
       "      <td>21561.0</td>\n",
       "      <td>234</td>\n",
       "      <td>150</td>\n",
       "      <td>0</td>\n",
       "      <td>0</td>\n",
       "    </tr>\n",
       "    <tr>\n",
       "      <th>65</th>\n",
       "      <td>53521.0</td>\n",
       "      <td>30573.0</td>\n",
       "      <td>234</td>\n",
       "      <td>150</td>\n",
       "      <td>0</td>\n",
       "      <td>0</td>\n",
       "    </tr>\n",
       "  </tbody>\n",
       "</table>\n",
       "</div>"
      ],
      "text/plain": [
       "   Customer Account No  USD Amount  PAYMENT_TERM  Average_payment_time  \\\n",
       "23              4013.0      4107.0           175                    57   \n",
       "24              7544.0       317.0           145                    26   \n",
       "56              1044.0       101.0           323                   210   \n",
       "64             53521.0     21561.0           234                   150   \n",
       "65             53521.0     30573.0           234                   150   \n",
       "\n",
       "    open_invoice_cluster_id  open_invoice_cluster_id  \n",
       "23                        1                        1  \n",
       "24                        0                        0  \n",
       "56                        0                        0  \n",
       "64                        0                        0  \n",
       "65                        0                        0  "
      ]
     },
     "execution_count": 411,
     "metadata": {},
     "output_type": "execute_result"
    }
   ],
   "source": [
    "open_invoices_test.head()"
   ]
  },
  {
   "cell_type": "code",
   "execution_count": 413,
   "id": "aa7fe2e7",
   "metadata": {},
   "outputs": [],
   "source": [
    "# Dictionary with old column names as keys and new column names as values\n",
    "new_column_names_open_invoices = {\n",
    "    'Customer Account No': 'CUSTOMER_NUMBER',\n",
    "    'USD Amount': 'USD Amount',\n",
    "    'PAYMENT_TERM': 'Payment_Terms',\n",
    "    'open_invoice_cluster_id': 'cluster_id_1',\n",
    "    'open_invoice_cluster_id': 'cluster_id_2'\n",
    "}\n",
    "\n",
    "# Rename columns using the rename() function\n",
    "open_invoices_test = open_invoices_test.rename(columns=new_column_names_open_invoices)"
   ]
  },
  {
   "cell_type": "code",
   "execution_count": 414,
   "id": "e16869c6",
   "metadata": {},
   "outputs": [
    {
     "data": {
      "text/plain": [
       "Index(['CUSTOMER_NUMBER', 'USD Amount', 'Payment_Terms',\n",
       "       'Average_payment_time', 'cluster_id_2', 'cluster_id_2'],\n",
       "      dtype='object')"
      ]
     },
     "execution_count": 414,
     "metadata": {},
     "output_type": "execute_result"
    }
   ],
   "source": [
    "open_invoices_test.columns"
   ]
  },
  {
   "cell_type": "code",
   "execution_count": 415,
   "id": "0c75f5b3",
   "metadata": {},
   "outputs": [],
   "source": [
    "# Drop 'CUSTOMER_NUMBER' and 'Average_payment_time' columns\n",
    "open_invoices_test = open_invoices_test.drop(columns=['CUSTOMER_NUMBER', 'Average_payment_time'])\n"
   ]
  },
  {
   "cell_type": "code",
   "execution_count": 416,
   "id": "e6479713",
   "metadata": {},
   "outputs": [
    {
     "data": {
      "text/html": [
       "<div>\n",
       "<style scoped>\n",
       "    .dataframe tbody tr th:only-of-type {\n",
       "        vertical-align: middle;\n",
       "    }\n",
       "\n",
       "    .dataframe tbody tr th {\n",
       "        vertical-align: top;\n",
       "    }\n",
       "\n",
       "    .dataframe thead th {\n",
       "        text-align: right;\n",
       "    }\n",
       "</style>\n",
       "<table border=\"1\" class=\"dataframe\">\n",
       "  <thead>\n",
       "    <tr style=\"text-align: right;\">\n",
       "      <th></th>\n",
       "      <th>USD Amount</th>\n",
       "      <th>Payment_Terms</th>\n",
       "      <th>cluster_id_2</th>\n",
       "      <th>cluster_id_2</th>\n",
       "    </tr>\n",
       "  </thead>\n",
       "  <tbody>\n",
       "    <tr>\n",
       "      <th>23</th>\n",
       "      <td>0.007793</td>\n",
       "      <td>0.357724</td>\n",
       "      <td>1</td>\n",
       "      <td>1</td>\n",
       "    </tr>\n",
       "    <tr>\n",
       "      <th>24</th>\n",
       "      <td>0.000601</td>\n",
       "      <td>0.276423</td>\n",
       "      <td>0</td>\n",
       "      <td>0</td>\n",
       "    </tr>\n",
       "    <tr>\n",
       "      <th>56</th>\n",
       "      <td>0.000192</td>\n",
       "      <td>0.758808</td>\n",
       "      <td>0</td>\n",
       "      <td>0</td>\n",
       "    </tr>\n",
       "    <tr>\n",
       "      <th>64</th>\n",
       "      <td>0.040909</td>\n",
       "      <td>0.517615</td>\n",
       "      <td>0</td>\n",
       "      <td>0</td>\n",
       "    </tr>\n",
       "    <tr>\n",
       "      <th>65</th>\n",
       "      <td>0.058009</td>\n",
       "      <td>0.517615</td>\n",
       "      <td>0</td>\n",
       "      <td>0</td>\n",
       "    </tr>\n",
       "  </tbody>\n",
       "</table>\n",
       "</div>"
      ],
      "text/plain": [
       "    USD Amount  Payment_Terms  cluster_id_2  cluster_id_2\n",
       "23    0.007793       0.357724             1             1\n",
       "24    0.000601       0.276423             0             0\n",
       "56    0.000192       0.758808             0             0\n",
       "64    0.040909       0.517615             0             0\n",
       "65    0.058009       0.517615             0             0"
      ]
     },
     "execution_count": 416,
     "metadata": {},
     "output_type": "execute_result"
    }
   ],
   "source": [
    "# Import MinMax scaler\n",
    "from sklearn.preprocessing import MinMaxScaler\n",
    "minmaxscaler=MinMaxScaler()\n",
    "open_invoices_test[['USD Amount','Payment_Terms']] = minmaxscaler.fit_transform(open_invoices_test[['USD Amount','Payment_Terms']])\n",
    "open_invoices_test.head()"
   ]
  },
  {
   "cell_type": "markdown",
   "id": "72631e35",
   "metadata": {},
   "source": [
    "# This is the final Open Invoice Test Dataset which we will used to predict whether customer will pay or not."
   ]
  },
  {
   "cell_type": "code",
   "execution_count": null,
   "id": "3a3d076c",
   "metadata": {},
   "outputs": [],
   "source": [
    "#'open_invoices_test' is a DataFrame and 'tuned_clf' is the tuned model\n",
    "tuned_clf = grid_search.best_estimator_\n",
    "\n",
    "# Predict on the test data\n",
    "open_invoices_pred = tuned_clf.predict(open_invoices_test)\n",
    "\n",
    "# Create a DataFrame with the predicted values\n",
    "open_invoivces_predictions_df = pd.DataFrame(open_invoices_pred, columns=['Predicted_Labels'])\n",
    "\n",
    "# Display the predictions DataFrame\n",
    "print(predictions_df)\n"
   ]
  },
  {
   "cell_type": "code",
   "execution_count": null,
   "id": "13c835e2",
   "metadata": {},
   "outputs": [],
   "source": []
  }
 ],
 "metadata": {
  "kernelspec": {
   "display_name": "Python 3 (ipykernel)",
   "language": "python",
   "name": "python3"
  },
  "language_info": {
   "codemirror_mode": {
    "name": "ipython",
    "version": 3
   },
   "file_extension": ".py",
   "mimetype": "text/x-python",
   "name": "python",
   "nbconvert_exporter": "python",
   "pygments_lexer": "ipython3",
   "version": "3.10.9"
  }
 },
 "nbformat": 4,
 "nbformat_minor": 5
}
